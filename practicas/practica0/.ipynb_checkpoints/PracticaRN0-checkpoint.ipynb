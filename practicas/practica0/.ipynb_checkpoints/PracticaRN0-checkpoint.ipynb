{
 "cells": [
  {
   "cell_type": "markdown",
   "metadata": {},
   "source": [
    "## Redes Neuronales\n",
    "#### Semestre 2020-II\n",
    "### Práctica 0\n",
    "### Álgebra lineal numérica con Python 3 y Numpy"
   ]
  },
  {
   "cell_type": "code",
   "execution_count": 3,
   "metadata": {},
   "outputs": [
    {
     "name": "stdout",
     "output_type": "stream",
     "text": [
      "1.19.0\n"
     ]
    }
   ],
   "source": [
    "import numpy as np\n",
    "\n",
    "# Imprime las versión de numpy.\n",
    "print(np.version.version)"
   ]
  },
  {
   "cell_type": "code",
   "execution_count": 4,
   "metadata": {},
   "outputs": [
    {
     "name": "stdout",
     "output_type": "stream",
     "text": [
      "[0. 0. 0. 0. 0. 0. 0. 0. 0. 0.]\n",
      "[[0. 0. 0. 0. 0. 0. 0. 0. 0. 0.]]\n",
      "[[0.]\n",
      " [0.]\n",
      " [0.]\n",
      " [0.]\n",
      " [0.]\n",
      " [0.]\n",
      " [0.]\n",
      " [0.]\n",
      " [0.]\n",
      " [0.]]\n"
     ]
    }
   ],
   "source": [
    "# Crear vector nulo de tamaño 10.\n",
    "A = np.zeros(10)\n",
    "print (A)\n",
    "# Crear otros vectores renglon y columna con 10 elementos.\n",
    "A1 = np.zeros((1,10))\n",
    "print (A1)\n",
    "A2 = np.zeros((10,1))\n",
    "print (A2)\n"
   ]
  },
  {
   "cell_type": "code",
   "execution_count": 5,
   "metadata": {},
   "outputs": [
    {
     "name": "stdout",
     "output_type": "stream",
     "text": [
      "4\n",
      "(4,)\n"
     ]
    }
   ],
   "source": [
    "A = np.array([1,2,-1,3])\n",
    "\n",
    "# Imprimir el tamaño del array.\n",
    "print (A.size)\n",
    "# Imprimir la forma en renglones y columnas del array.\n",
    "print(A.shape)"
   ]
  },
  {
   "cell_type": "code",
   "execution_count": 6,
   "metadata": {},
   "outputs": [
    {
     "name": "stdout",
     "output_type": "stream",
     "text": [
      "[[ 1  3  5]\n",
      " [-1  2  1]]\n",
      "6\n",
      "(2, 3)\n",
      "[[ 1 -1]\n",
      " [ 3  2]\n",
      " [ 5  1]]\n"
     ]
    }
   ],
   "source": [
    "# Describir la diferencia entre shape y size, usando\n",
    "# comentario, o un print para dar la respuesta\n",
    "\n",
    "B = np.array([[1,3,5],[-1,2,1]])\n",
    "print(B)\n",
    "# imprimir B.size y B.shape. Comentar\n",
    "\n",
    "\"\"\" \n",
    "Size regresa el número de elementos que contiene la matriz, mientras que\n",
    "Shape regresa una tupla donde su primer componente es el número de filas\n",
    "de la matriz y su segundo componente es el número de columnas de la matriz \n",
    "(es decir, regresa la dimensión de la matriz en una tupla).\n",
    "\"\"\" \n",
    "print(B.size)\n",
    "print(B.shape)\n",
    "\n",
    "\n",
    "# Definir la transpuesta de una matriz\n",
    "B1 = B.transpose()\n",
    "# imprimirla\n",
    "print(B1)\n"
   ]
  },
  {
   "cell_type": "code",
   "execution_count": 7,
   "metadata": {},
   "outputs": [
    {
     "name": "stdout",
     "output_type": "stream",
     "text": [
      "[1. 1. 1. 1.]\n",
      "(4,)\n",
      "[[1. 1. 1. 1.]]\n",
      "(1, 4)\n",
      "[[1.]\n",
      " [1.]\n",
      " [1.]\n",
      " [1.]]\n",
      "(4, 1)\n",
      "1.0\n",
      "1.0\n",
      "[1.]\n"
     ]
    }
   ],
   "source": [
    "# Generar tres tipos diferentes de vectores de unos con 4 elementos, uno\n",
    "# unidimensional y los dos restantes renglon y columna, anotar la diferencia\n",
    "# entre ellos.\n",
    "\n",
    "\"\"\" \n",
    "La diferencia entre estos tres vectores es que el primero (Unos) es un arreglo\n",
    "undimensional, mientras que el segundo (Unos2) y el tercero (Unos3) son\n",
    "matrices cuyas dimensiones son 1x4 y 4x1, respectivamente; es decir, que\n",
    "tienen 1 fila y 4 columnas, y 4 filas y una columna, respectivamente.\n",
    "\"\"\" \n",
    "Unos = np.ones((4))\n",
    "Unos2 = np.ones((1,4))\n",
    "Unos3 = np.ones((4,1))\n",
    "\n",
    "print (Unos)\n",
    "print(Unos.shape)\n",
    "# Imprimir lo mismo para Unos2 y Unos3\n",
    "print(Unos2)\n",
    "print(Unos2.shape)\n",
    "print(Unos3)\n",
    "print(Unos3.shape)\n",
    "\n",
    "# Acceder a sus elementos, Hay algun error?\n",
    "# De ser asi, Como acceder correctamente a este elemento?\n",
    "print (Unos[1])\n",
    "\n",
    "\"\"\" \n",
    "Sí, genera un error al intentar acceder a los elementos de la matriz (Unos2[1])\n",
    "y para poder corregirlo debemos especificar que queremos el elemento en la\n",
    "posición [0,0] (el cual es el primer elemento de la matriz).\n",
    "\"\"\" \n",
    "#print (Unos2[1])\n",
    "print (Unos2[0,0])\n",
    "print (Unos3[1])"
   ]
  },
  {
   "cell_type": "code",
   "execution_count": 8,
   "metadata": {},
   "outputs": [
    {
     "name": "stdout",
     "output_type": "stream",
     "text": [
      "[[ 1.  3.  5.]\n",
      " [-1.  2.  1.]\n",
      " [ 1.  1.  1.]]\n",
      "[[ 1.  1.  3.  5.]\n",
      " [ 1. -1.  2.  1.]\n",
      " [ 1.  1.  1.  1.]]\n"
     ]
    }
   ],
   "source": [
    "# El concatenar matrices, es un proceso basico muy importante para alimentar\n",
    "# las entradas de los perceptrones que se veran después.\n",
    "\n",
    "# Definir el vector Unos de 3 elementos, del formato adecuado, para después\n",
    "# concatenarlo a B.\n",
    "Unos = np.ones((1,3))\n",
    "\n",
    "# usar np.concatenate, poner atencion al valor de axis, el cual indica si es \n",
    "# horizontal o vertical la concatenación.\n",
    "C = np.concatenate((B, Unos), axis=0)\n",
    "print(C)\n",
    "\n",
    "# Ahora concatenar un vector a C, donde los unos esten al inicio y sean \n",
    "# verticales, Que forma debe tener el vector?\n",
    "# Columna o renglon? Que valor darle al parametro axis?\n",
    "\n",
    "\"\"\" \n",
    "El vector Unos debe tener la forma de una columna (lo cual nos dice que \n",
    "podríamos concatenar la transpuesta del vector Unos), y el valor del \n",
    "parámetro axis debe ser 1 para concatenar de manera vertical.\n",
    "\"\"\" \n",
    "D = np.concatenate((Unos.T, C), axis=1)\n",
    "print(D)\n"
   ]
  },
  {
   "cell_type": "markdown",
   "metadata": {},
   "source": [
    "Dada la siguiente matriz y el vector:\n",
    "\n",
    "$E = \\begin{pmatrix}\n",
    "3 & 0 & 1\\\\\n",
    "1 & -2 & -1\n",
    "\\end{pmatrix}$\n",
    "\n",
    "$F = \\begin{pmatrix}\n",
    "4 & 5 & 6\n",
    "\\end{pmatrix}$\n",
    "\n",
    "Definirlos con np.array, y concatenarlos usando np.concatenate. ¿Qué valor debe tener el parámetro `axis`?"
   ]
  },
  {
   "cell_type": "code",
   "execution_count": 9,
   "metadata": {},
   "outputs": [
    {
     "name": "stdout",
     "output_type": "stream",
     "text": [
      "[[ 3  0  1]\n",
      " [ 1 -2 -1]]\n",
      "[[4 5 6]]\n",
      "[[ 3  0  1]\n",
      " [ 1 -2 -1]\n",
      " [ 4  5  6]]\n"
     ]
    }
   ],
   "source": [
    "# Dar la respuesta\n",
    "E = np.array([[3, 0, 1], [1, -2, -1]])\n",
    "print(E)\n",
    "F = np.array([[4, 5, 6]])\n",
    "print(F)\n",
    "\n",
    "\"\"\" \n",
    "El valor de axis debe ser 0 para que podamos lograr la concatenación (por las \n",
    "dimensiones de ambas matrices), ya que sólo podemos concatenar estas matrices\n",
    "de forma horizontal (si usamos sus transpuestas, podríamos concatenar de \n",
    "manera vertical).\n",
    "\"\"\" \n",
    "G = np.concatenate((E, F), axis=0)\n",
    "print(G)"
   ]
  },
  {
   "cell_type": "code",
   "execution_count": 10,
   "metadata": {},
   "outputs": [
    {
     "name": "stdout",
     "output_type": "stream",
     "text": [
      "[ 0  1  2  3  4  5  6  7  8  9 10 11]\n",
      "[[ 0  1  2  3]\n",
      " [ 4  5  6  7]\n",
      " [ 8  9 10 11]]\n",
      "[[ 0  1  2]\n",
      " [ 3  4  5]\n",
      " [ 6  7  8]\n",
      " [ 9 10 11]]\n",
      "[[[ 0  1]\n",
      "  [ 2  3]\n",
      "  [ 4  5]]\n",
      "\n",
      " [[ 6  7]\n",
      "  [ 8  9]\n",
      "  [10 11]]]\n",
      "[[ 0  3  6  9]\n",
      " [ 1  4  7 10]\n",
      " [ 2  5  8 11]]\n"
     ]
    }
   ],
   "source": [
    "# Utilizar arange para generar un vector que tiene una secuencia de numeros \n",
    "# consecutivos, y cambiarle su formato. \n",
    "A = np.arange(12)\n",
    "print (A)\n",
    "\n",
    "# Cambiar su formato a matriz de 3*4\n",
    "print (A.reshape(3,4))\n",
    "\n",
    "# Imprimir otro con formato de matriz de 4*3\n",
    "print(A.reshape(4,3))\n",
    "\n",
    "# Otro mas con formato de arreglo tridimensional de 2*3*2\n",
    "print (A.reshape(2,3,2))\n",
    "\n",
    "# ¿Notan como se van ordenando los elementos entre las dimensiones de los \n",
    "# arreglos?\n",
    "\n",
    "# Definir una matriz desde A, de 3*4, tal que sus elementos consecutivos recorren \n",
    "# primero sobre renglones y luego sobre columnas, es decir, algo como\n",
    "#  0  3 ...\n",
    "#  1  4 ...\n",
    "#  2  5 ...\n",
    "# Se recomienda usar la funcion A.transpose()\n",
    "D = A.reshape(4,3).T\n",
    "print(D)"
   ]
  },
  {
   "cell_type": "markdown",
   "metadata": {},
   "source": [
    "## Operaciones con arrays, vectores y matrices\n",
    "\n",
    "En numpy, las operaciones básicas `+`, `-`, `*`, `/`, `**`, etcétera, pueden usarse en los arrays de una misma dimensión (más adelante se menciona el broadcasting). Pero hay que tomar en cuenta que estas operaciones actúan elemento a elemento, y en el mismo lugar de los respectivos arrays con los que se opera, se coloca el resultado en el array de salida.\n",
    "\n",
    "Introducir las siguientes matrices como arrays de numpy:\n",
    "\n",
    "$A = \\begin{pmatrix}\n",
    "2 & -2 \\\\\n",
    "-1 & -1\n",
    "\\end{pmatrix}$\n",
    "\n",
    "$B = \\begin{pmatrix}\n",
    "1 & -1 \\\\\n",
    "1 & 1\n",
    "\\end{pmatrix}$\n",
    "\n",
    "Esta última matriz, definirla primero con `np.array` de una sola dimensión, y luego emplear `np.reshape` para convertirla a matriz."
   ]
  },
  {
   "cell_type": "code",
   "execution_count": 11,
   "metadata": {},
   "outputs": [
    {
     "name": "stdout",
     "output_type": "stream",
     "text": [
      "[[ 2  2]\n",
      " [-1 -1]]\n",
      "[[4 4]\n",
      " [1 1]]\n",
      "[[1 1]\n",
      " [1 1]]\n"
     ]
    }
   ],
   "source": [
    "# Dar la respuesta de lo anterior\n",
    "A = np.array([[2, -2], [-1, -1]])\n",
    "# Definimos a B con np.array.\n",
    "B = np.array([1, -1, 1, 1])\n",
    "# Redefinimos la matriz con np.reshape.\n",
    "BB = B.reshape(2,2)\n",
    "\n",
    "# Imprimir A * B, A ** 2, B ** 2\n",
    "print(A*(BB))\n",
    "print(A**(2))\n",
    "print(BB**(2))"
   ]
  },
  {
   "cell_type": "markdown",
   "metadata": {},
   "source": [
    "### Broadcasting, conversion o difusión."
   ]
  },
  {
   "cell_type": "code",
   "execution_count": 12,
   "metadata": {},
   "outputs": [
    {
     "name": "stdout",
     "output_type": "stream",
     "text": [
      "Escalar 0-D con arrays 1-D y 2-D\n",
      "[2 3]\n",
      "[[-0.5]\n",
      " [ 0.5]]\n",
      "[[0.5 1.5]\n",
      " [2.5 3.5]]\n",
      "[[0.  0.5]\n",
      " [1.  1.5]]\n",
      "vector 1-D, y 2-D, con array 2D\n",
      "[[1 3]\n",
      " [3 5]]\n",
      "[[0 2]\n",
      " [2 6]]\n",
      "\n",
      "Para v.\n",
      "vector 1-D, y 2-D, con array 2D\n",
      "[[1 2]\n",
      " [4 5]]\n",
      "[[0 1]\n",
      " [4 6]]\n",
      "\n",
      "Para w.\n",
      "vector 1-D, y 2-D, con array 2D\n",
      "[[1 3]\n",
      " [3 5]]\n",
      "[[0 2]\n",
      " [2 6]]\n",
      "\n",
      "Operaciones entre u y w.\n",
      "[[2 3]\n",
      " [3 4]]\n",
      "[[1 2]\n",
      " [2 4]]\n"
     ]
    }
   ],
   "source": [
    "# Con los siguientes tres vectores, y la matriz, hacer las operaciones indicadas.\n",
    "u = np.array([1,2])\n",
    "v = u.reshape(2,1)\n",
    "w = u.reshape(1,2)\n",
    "\n",
    "A = np.arange(4).reshape(2,2)\n",
    "\n",
    "# El broadcasting mas elemental es el que dado un escalar, que tiene \"cero \n",
    "# dimensiones\", este es convertido internamente al array que le acompaña en una \n",
    "# operación.\n",
    "print(\"Escalar 0-D con arrays 1-D y 2-D\")\n",
    "print(u + 1)\n",
    "print(v - 1.5)\n",
    "print(A + 0.5)\n",
    "print(0.5*A)\n",
    "\n",
    "print(\"vector 1-D, y 2-D, con array 2D\")\n",
    "# Obtener suma y multiplicacion\n",
    "print(A + u)\n",
    "print(A * u)\n",
    "\n",
    "# Hacer lo mismo para v y w.\n",
    "# Cuales se parecen? Responder en un comentario o un print.\n",
    "\n",
    "# Los valores en ambas operaciones se parecen con los vectores u y w.\n",
    "print(\"\\nPara v.\")\n",
    "print(\"vector 1-D, y 2-D, con array 2D\")\n",
    "# Obtener suma y multiplicacion\n",
    "print(A + v)\n",
    "print(A * v)\n",
    "\n",
    "print(\"\\nPara w.\")\n",
    "print(\"vector 1-D, y 2-D, con array 2D\")\n",
    "# Obtener suma y multiplicacion\n",
    "print(A + w)\n",
    "print(A * w)\n",
    "\n",
    "# Es posible hacer una operacion entre v y w? De serlo, justificar en terminos\n",
    "# de las reglas de broadcasting, e imprimir el resultado.\n",
    "\n",
    "\"\"\" \n",
    "Es posible realizar las dos operaciones anteriores (suma y multiplicación) \n",
    "gracias al broadcasting. NumPy alinea los arrays a la derecha y empieza a \n",
    "comprobar las dimensiones por el final. Si son todas compatibles realiza la  \n",
    "operación, y si no lanza un error. Dos dimensiones son compatibles si son \n",
    "iguales o una de ellas es 1. En este caso, el vector v cumple la segunda \n",
    "condición, pues su dimensión es de 2x1.\n",
    "Ahora, la dimensión de la matriz resultante es la dimensión máxima a lo largo \n",
    "de cada dimensión de las matrices de entrada. Por lo tanto, la matriz\n",
    "resultante de realizar alguna operación entre v y w debería ser de 2x2. \n",
    "Si dos dimensiones son distintas pero compatibles, la menor se expande hasta \n",
    "tener el tamaño de la mayor. En este caso, tenemos primero las dimensiones\n",
    "1 (por v) y 2 (por w), lo que se hace después es \"estirar\" o \"copiar\" la\n",
    "dimensión 1 de v para que sea igual a la de w. Así, tenemos que v se ve de la \n",
    "forma ([[1, 1], [2, 2]]). Seguimos con el siguiente paso. Tenemos ahora las \n",
    "dimensiones 2 (por v) y 1 (por w), y en este caso, el vector w cumple con la \n",
    "segunda condición de compatibilidad. Repetimos el proceso de \"estirar\" la \n",
    "dimensión, por lo que w se ve de la forma ([[1, 2], [1, 2]]). Aquí terminamos\n",
    "y obtenemos las matrices de 2x2 que mencionamos anteriormente. Utilizando estas\n",
    "nuevas formas de v y w, es que se pueden operar ambas matrices. Particularmente,\n",
    "imprimimos las operaciones suma y multiplicación.\n",
    "\"\"\" \n",
    "print(\"\\nOperaciones entre u y w.\")\n",
    "print(v+w)\n",
    "print(v*w)\n"
   ]
  },
  {
   "cell_type": "markdown",
   "metadata": {},
   "source": [
    "Las reglas de broadcasting también se extienden a arrays de más dimensiones.\n",
    "\n",
    "Las dimensiones se ajustan de derecha a izquierda, es decir, si un array `A` tiene más dimensiones que el array `B`, el broadcasting hace que a B se le agregen unos por la izquierda para que se complete la cantidad de dimensiones.\n",
    "\n",
    "Sin embargo, para que pueda realizarse el broadcasting, es necesario que se se satisfaga la compatibilidad en cada una de las dimensiones, es decir, que en esa dimensión, o esa dimensión vale 1, o esa dimensión tiene valores iguales para ambos arrays."
   ]
  },
  {
   "cell_type": "code",
   "execution_count": 13,
   "metadata": {
    "scrolled": true
   },
   "outputs": [
    {
     "name": "stdout",
     "output_type": "stream",
     "text": [
      "[[[  0  -1]\n",
      "  [  2  -3]\n",
      "  [  4  -5]]\n",
      "\n",
      " [[  6  -7]\n",
      "  [  8  -9]\n",
      "  [ 10 -11]]]\n",
      "[[[  0   1]\n",
      "  [  4   6]\n",
      "  [ -4  -5]]\n",
      "\n",
      " [[  6   7]\n",
      "  [ 16  18]\n",
      "  [-10 -11]]]\n"
     ]
    }
   ],
   "source": [
    "# A con 3 dimensiones.\n",
    "A = np.arange(12).reshape(2,3,2)\n",
    "b1 = np.array([1,-1])\n",
    "b2 = np.array([1,2,-1])\n",
    "\n",
    "# Imprimir las operaciones de A con b1 y b2\n",
    "print(A * b1)\n",
    "#print(A * b2)\n",
    "\n",
    "# Hay algún error? Utilizar reshape para corregir la definicion de b1 o b2,\n",
    "# la que ocasiona tal error (se coloca como segundo argumento un 1)\n",
    "# Por que ocurre tal error y por que lo sugerido le corrige?\n",
    "\n",
    "\"\"\" \n",
    "Sí hay un error. La definición de b1 es correcta para poder efectuar \n",
    "operaciones. A tiene dimensión (2,3,2), mientras que b1 tiene dimensión (1,1,2).\n",
    "Como las últimas dimensiones son iguales (2 y 2), entonces son compatibles y \n",
    "pasamos a la siguiente dimensión. Nos encontramos con que b1 tiene dimensión 1, \n",
    "por lo que hace son compatibles y se 'expande' o se 'copia' hasta poder igualar \n",
    "la dimensión 3 de A. Pasamos a la siguiente dimensión. Como b1 tiene dimensión\n",
    "1, entonces son compatibles, y se 'expande' o se 'copia' hasta poder igualar la\n",
    "dimensión 2 de A. Por lo tanto, se pueden efectuar operaciones entre ellas, y \n",
    "la dimensión de cada una de las nuevas definiciones queda como (2,3,2).\n",
    "Ahora bien, el error existe en la definición de b2. La dimensión, siguiendo \n",
    "el broadcasting, de b2 quedaría como (1,1,3) mientras que la dimensión de \n",
    "A es de (2,3,2). Como la última dimensión, es decir, 3 y 2, es diferente, \n",
    "entonces no se puede efectuar el broadcasting. Para corregir esto, usaremos la \n",
    "función reshape para redefinir nuestra función, de modo que la última dimensión\n",
    "sea 2 ó 1. Descartamos la primer opción pues nuestro arreglo no podría \n",
    "redefinirse de esa forma (pues los elementos deberían ser 2 o 4). Así, que \n",
    "la última dimensión sería 1, por lo que podemos inferior que la primer dimensión\n",
    "tendría que ser 3. Entonces, tenemos que A tiene dimensión (2,3,2) y \n",
    "b2 tiene dimensión (1,3,1). Como la última dimensión de b2 es 1, entonces son \n",
    "compatibles, y se 'expande' o se 'copia' hasta poder igualar la dimensión 2 de A.\n",
    "Luego, tenemos que las siguientes dimensiones son iguales (3 y 3), por lo que \n",
    "son compatibles, y no hay nada que hacer. Para la siguiente dimensión, tenemos \n",
    "que la dimensión de b2 es 1, por lo que son compatibles y se 'expande' o se \n",
    "'copia' hasta poder igualar la dimensión 2 de A. Terminamos. Las nuevas\n",
    "definiciones quedan como A con dimensión (2,3,2) y b2 con dimensión (2,3,2). \n",
    "Así, ya es posible poder efectuar operaciones entre ellos.\n",
    "\"\"\"\n",
    "b2 = np.array([1,2,-1]).reshape(3,1)\n",
    "print(A * b2)\n"
   ]
  },
  {
   "cell_type": "code",
   "execution_count": 14,
   "metadata": {},
   "outputs": [
    {
     "name": "stdout",
     "output_type": "stream",
     "text": [
      "(3, 2)\n",
      "[[[ 1  1]\n",
      "  [ 2  2]\n",
      "  [ 3  6]]\n",
      "\n",
      " [[ 7  7]\n",
      "  [ 8  8]\n",
      "  [ 9 12]]]\n",
      "(2, 3)\n",
      "[[[ 1  1]\n",
      "  [ 1  3]\n",
      "  [ 3  6]]\n",
      "\n",
      " [[ 7  7]\n",
      "  [ 7  9]\n",
      "  [ 9 12]]]\n"
     ]
    }
   ],
   "source": [
    "# Despues de definirlo, se aplica .T que tambien es otra forma de obtener la \n",
    "# transpuesta de una matriz.\n",
    "b3 = np.array([[1,0,-1],[0,-1,1]]).T\n",
    "\n",
    "print(b3.shape)\n",
    "print(A + b3)\n",
    "\n",
    "# Ahora se vuelve a aplicar transpuesta.\n",
    "b3 = b3.T\n",
    "print (b3.shape)\n",
    "# Es posible este broadcasting? En su caso, arreglarlo con reshape, colocando el \n",
    "# 1 en la dimension hace posible hacer broadcast de (2,3) con (2,3,2) CUIDADO! \n",
    "# No se permutan\n",
    "\n",
    "\"\"\"\n",
    "Sí es posible realizar este broadcasting. En un inicio se nos muestra que es \n",
    "posible realizar este proceso con una matriz cuya dimensión sea 3x2, pero se\n",
    "genera un error con b3 = b3.T, cuya dimensión es 2x3. Este error es porque las\n",
    "últimas dimensiones de A (2) y de b3 (3) son diferentes y por lo tanto no son \n",
    "compatibles. Ahora bien, es posible reacomodar a b3 para que su dimensión sea\n",
    "de 3x2, y esto lo hacemos con reshape.\n",
    "De igual manera, como las últimas dimensiones de A (2) y b3.reshape (2) son \n",
    "iguales, entonces son compatibles y pasamos a la siguiente dimensión. Estas \n",
    "dimensiones para A y b3.reshape son 3 y 3, respectivamente, y como son iguales\n",
    "entonces son compatibles y pasamos a la siguiente y última dimensión. La \n",
    "dimensión de A es 2 y la de b3.reshape es 1, y por la dimensión de b3.reshape\n",
    "éstas son compatibles y entonces 'expandimos' o 'copiamos' la dimensión de \n",
    "b3.reshape para que se iguale a la de A. Y terminamos. Las matrices con las que \n",
    "se efectuarán las operaciones son de dimensión (2,3,2).\n",
    "\"\"\"\n",
    "b3 = b3.reshape(3,2)\n",
    "print(A + b3)\n"
   ]
  },
  {
   "cell_type": "markdown",
   "metadata": {},
   "source": [
    "## Álgebra lineal básica con numpy\n",
    "#### Multiplicación de matrices\n",
    "El paquete numpy permite tres maneras de hacer multiplicación de matrices:\n",
    "\n",
    "- `np.dot`, que también puede ser llamada como método, por ejemplo `A.dot`\n",
    "\n",
    "- Operador `@`\n",
    "\n",
    "- `np.matmul`\n"
   ]
  },
  {
   "cell_type": "code",
   "execution_count": 15,
   "metadata": {},
   "outputs": [
    {
     "name": "stdout",
     "output_type": "stream",
     "text": [
      "[-2 -3]\n",
      "[-2 -3]\n",
      "[-2 -3]\n",
      "\n",
      "Lo mismo para v.\n",
      "[[-2]\n",
      " [-3]]\n",
      "[[-2]\n",
      " [-3]]\n",
      "[[-2]\n",
      " [-3]]\n",
      "\n",
      "Lo mismo para w.\n"
     ]
    }
   ],
   "source": [
    "A = np.array([2,-2,-1,-1]).reshape(2,2)\n",
    "\n",
    "u = np.array([1,2])\n",
    "v = u.reshape(2,1)\n",
    "w = u.reshape(1,2)\n",
    "\n",
    "# Con la matriz dada, y los tres formatos de un vector, hacer la operación de\n",
    "# multiplicacion matricial.\n",
    "print(A.dot(u))\n",
    "print(A @ u)\n",
    "print(np.matmul(A,u))\n",
    "\n",
    "# Hacer lo mismo para v y w. En caso de haber errores, solo comentar la linea o \n",
    "# lineas que causan los errores.\n",
    "print(\"\\nLo mismo para v.\")\n",
    "print(A.dot(v))\n",
    "print(A @ v)\n",
    "print(np.matmul(A,v))\n",
    "\n",
    "print(\"\\nLo mismo para w.\")\n",
    "#print(A.dot(w))\n",
    "#print(A @ w)\n",
    "#print(np.matmul(A,w))\n"
   ]
  },
  {
   "cell_type": "code",
   "execution_count": 16,
   "metadata": {},
   "outputs": [
    {
     "name": "stdout",
     "output_type": "stream",
     "text": [
      "-4.0\n",
      "[[ 0.25 -0.5 ]\n",
      " [-0.25 -0.5 ]]\n",
      "[[ 6 -2]\n",
      " [-1  3]]\n",
      "[[ 14 -10]\n",
      " [ -5  -1]]\n"
     ]
    }
   ],
   "source": [
    "# Las funciones de Numpy para algebra lineal\n",
    "import numpy.linalg as LA\n",
    "\n",
    "A = np.array([2,-2,-1,-1]).reshape(2,2)\n",
    "\n",
    "# Obtener el determinante de la matriz. Es invertible?\n",
    "# La matriz es invertible ya que su determinante es diferente de cero.\n",
    "print(LA.det(A))\n",
    "\n",
    "# Inversa de la matriz\n",
    "A1 = LA.inv(A)\n",
    "print(A1)\n",
    "\n",
    "# Potencia de una matriz\n",
    "# Esto es diferente de A**n, pues en este caso solo se eleva cada uno de los \n",
    "# elementos a la n-esima potencia.\n",
    "print(LA.matrix_power(A,2))\n",
    "print(LA.matrix_power(A,3))"
   ]
  },
  {
   "cell_type": "markdown",
   "metadata": {},
   "source": [
    "### Solución de Ecuaciones lineales.\n",
    "\n",
    "Numpy.linalg ofrece herramientas para resolver uno de los problemas más importantes del álgebra lineal, dado por:\n",
    "\n",
    "$A x = b$\n",
    "\n",
    "Donde $A$ es una matriz de $m\\times n$, $x$ un vector de $n$ dimensiones y $m$ un vector de $m$ dimensiones.\n",
    "\n",
    "En el primer ejemplo, se emplea la función `LA.solve`, que es válida cuando $m = n$, es decir, $A$ es una matriz cuadrada, y de rango total (es decir, es $n$), es decir, $A$ es invertible, y $x$ y $b$ están en el mismo espacio vectorial.\n",
    "\n",
    "Pero ¿Qué pasa cuando $m \\neq n$? Se emplea la función `LA.lstsq`, cuyo nombre proviene de _least squares_ o mínimos cuadrados.\n",
    "\n",
    "En el segundo ejemplo, $m < n$, es decir, más incógnitas que ecuaciones, y en este caso existirá una infinidad de soluciones, de hecho, estas se encuentran en un subespacio vectorial de $\\mathbb{R}^{n}$. `LA.lstsq` elige la solución que tiene norma, o distancia euclidiana desde el origen que es mínima.\n",
    "\n",
    "En el tercer ejemplo, $m > n$, es decir, más ecuaciones que incógnitas, lo que significa que casi siempre puede que no exista una solución a la ecuación lineal. La ecuación lineal tiene solución cuando la imagen de la transformación lineal $T_{A}$, que es un subespacio de $\\mathbb{R}^{m}$, contenga al vector $b$. Sin embargo, `LA.lstsq` da la solución, DE MÍNIMOS CUADRADOS, tal que $\\left\\lVert A x - b\\right\\rVert^2$ sea mínima."
   ]
  },
  {
   "cell_type": "code",
   "execution_count": 17,
   "metadata": {},
   "outputs": [
    {
     "name": "stdout",
     "output_type": "stream",
     "text": [
      "[ 0.75 -0.25]\n",
      "[ 0.75 -0.25]\n",
      "1.9999999999999998\n",
      "4.265564437074638\n",
      "9.14059796704711\n",
      "19.0725686774597\n",
      "49.029604159218735\n",
      "499.0029960040033\n",
      "inf\n",
      "[[-2. -2.]\n",
      " [-1. -1.]]\n"
     ]
    }
   ],
   "source": [
    "A = np.array([-2,-2,1,-1]).reshape(2,2)\n",
    "\n",
    "b = np.array([-1,1])\n",
    "print(LA.solve(A,b))\n",
    "\n",
    "# Resolver Ax=b utilizando la inversa de la matriz A\n",
    "# y el producto de esta con b.\n",
    "inversa = LA.inv(A)\n",
    "x = np.dot(inversa,b)\n",
    "print(x)\n",
    "\n",
    "# Otro criterio alternativo para verificar la posibilidad de que\n",
    "# una matriz sea invertible, es que su numero de condicion sea\n",
    "# muy elevado, infinito o indefinido segun el sistema python utilizado.\n",
    "print (LA.cond(A))\n",
    "\n",
    "# Definir la matriz A1, que es una copia de A, pero es necesario definir su\n",
    "# tipo de dato escalar porque los numeros de condicion \n",
    "# no muestran lo que debieran.\n",
    "# Que sucede en el ultimo caso? Como son las columnas, o los renglones?\n",
    "# Dar respuesta en comentario o en print.\n",
    "    \n",
    "\"\"\"\n",
    "Al realizar el print(A1) en el último caso podemos observar que las columnas \n",
    "son iguales y cada una de las filas tiene un mismo valor (es decir, la primera\n",
    "fila tiene puros 2's mientras que la segunda fila tiene puros 1's).\n",
    "\"\"\"\n",
    "A1 = A.copy().astype(np.float64)\n",
    "A1[1,0] = 0.0\n",
    "print (LA.cond(A1))\n",
    "A1[1,0] = -0.5\n",
    "print (LA.cond(A1))\n",
    "A1[1,0] = -0.75\n",
    "print (LA.cond(A1))\n",
    "A1[1,0] = -0.9\n",
    "print (LA.cond(A1))\n",
    "A1[1,0] = -0.99\n",
    "print (LA.cond(A1))\n",
    "A1[1,0] = -1\n",
    "print (LA.cond(A1))\n",
    "\n",
    "print(A1)"
   ]
  },
  {
   "cell_type": "code",
   "execution_count": 18,
   "metadata": {
    "scrolled": true
   },
   "outputs": [
    {
     "name": "stdout",
     "output_type": "stream",
     "text": [
      "0.0\n",
      "0.0\n",
      "[0. 0.]\n",
      "0.0\n",
      "[0. 1.]\n",
      "[0. 1.]\n",
      "[0. 1.]\n",
      "[ 8.3698231e-18  1.0000000e+00 -1.0000000e+00]\n"
     ]
    },
    {
     "name": "stderr",
     "output_type": "stream",
     "text": [
      "<ipython-input-18-dade7ab04f69>:57: FutureWarning: `rcond` parameter will change to the default of machine precision times ``max(M, N)`` where M and N are the input matrix dimensions.\n",
      "To use the future default and silence this warning we advise to pass `rcond=None`, to keep using the old, explicitly pass `rcond=-1`.\n",
      "  print (LA.lstsq(A,b)[0])\n"
     ]
    }
   ],
   "source": [
    "# El caso de m < n\n",
    "\n",
    "# Uno de ellos hay que definirlo como 2.0 pues de otro modo\n",
    "# numpy asume que todos son enteros\n",
    "A = np.array([-2.0,1,1,1,0,-1]).reshape(2,3)\n",
    "b = np.array([0.0,1])\n",
    "x0 = np.array([0.0,1,-1])\n",
    "v1 = np.array([1,1,1])\n",
    "\n",
    "# Que significa geometricamente que A*v1 = 0 ?\n",
    "\"\"\"\n",
    "Si A*v1 = 0 entonces eso significa que v1 es un vector cuya imagen bajo A es el vector nulo.\n",
    "\"\"\"\n",
    "\n",
    "# Que significa multiplicar individualmente cada renglon de A con el vector v1?\n",
    "\"\"\"\n",
    "Multiplicar individualmente cada renglón de A con el vector v1 significa multiplicar la \n",
    "matriz A por el vector columna v1. Es decir, al multiplicar cada renglón de A[i,:] por \n",
    "el vector v1, estamos obteniendo la entrada ai1 correpondiente a la matriz resultante de\n",
    "multiplicar A por el vector columna v1.\n",
    "\"\"\"\n",
    "print(A[0,:].dot(v1))\n",
    "print(A[1,:].dot(v1))\n",
    "print (A.dot(v1))\n",
    "\n",
    "# Esto probaria que x0 pertenece al subespacio ortogonal a v1.\n",
    "print (v1.dot(x0))\n",
    "\n",
    "# Donde habia aparecido antes x0? Que relacion tiene con el subespacio de renglones de A?\n",
    "\"\"\"\n",
    "La aparición de x0 se encuentra en el segundo renglón de la matriz A, sólo que con la primer\n",
    "y segunda posición intercambiadas. \n",
    "\"\"\"\n",
    "print (A.dot(x0))\n",
    "\n",
    "\n",
    "# Que sucede para toda la linea definida por x0 + r*v1, con r en los reales?\n",
    "\"\"\"\n",
    "Como x1 está conformado por puros 1's, entonces al momento de realizar las \n",
    "operaciones en x0 + r*v1 lo que estamos haciendo es sumar (o restar, como en \n",
    "el segundo print) r a cada una de las entradas de x0. Así, los vectores \n",
    "obtenidos de x0 + r*v1 van a ser \n",
    "\"\"\"\n",
    "print (A.dot(x0 + 0.5*v1))\n",
    "print (A.dot(x0 - 2.5*v1))\n",
    "\n",
    "# Por que se obtiene la misma x0?\n",
    "\"\"\"\n",
    "Por lo anterior\n",
    "\"\"\"\n",
    "# Es x0 el punto mas cercano al origen, de toda la linea x0 + r*v1?\n",
    "\"\"\"\n",
    "Sí, ya que sí nos movemos de la posición 0 en x, ya nos estamos alejando del origen\n",
    "y cómo está definida la línea, no podemos mover los valores sin tener que mover\n",
    "a la posición en x.\n",
    "\"\"\"\n",
    "print (LA.lstsq(A,b)[0])"
   ]
  },
  {
   "cell_type": "code",
   "execution_count": 22,
   "metadata": {},
   "outputs": [
    {
     "name": "stdout",
     "output_type": "stream",
     "text": [
      "[[-1.  0.]\n",
      " [ 0.  1.]\n",
      " [ 1.  0.]]\n",
      "[0. 0.]\n",
      "0.0\n",
      "[ 1. -1.]\n",
      "[ 1. -1.]\n",
      "[ 1. -1.]\n",
      "[-1 -1  1]\n",
      "[1. 0. 1.]\n"
     ]
    },
    {
     "name": "stderr",
     "output_type": "stream",
     "text": [
      "<ipython-input-22-a0fb8d91686a>:30: FutureWarning: `rcond` parameter will change to the default of machine precision times ``max(M, N)`` where M and N are the input matrix dimensions.\n",
      "To use the future default and silence this warning we advise to pass `rcond=None`, to keep using the old, explicitly pass `rcond=-1`.\n",
      "  alfa = LA.lstsq(A,z0)[0]\n",
      "<ipython-input-22-a0fb8d91686a>:40: FutureWarning: `rcond` parameter will change to the default of machine precision times ``max(M, N)`` where M and N are the input matrix dimensions.\n",
      "To use the future default and silence this warning we advise to pass `rcond=None`, to keep using the old, explicitly pass `rcond=-1`.\n",
      "  print (LA.lstsq(A,b)[0])\n",
      "<ipython-input-22-a0fb8d91686a>:44: FutureWarning: `rcond` parameter will change to the default of machine precision times ``max(M, N)`` where M and N are the input matrix dimensions.\n",
      "To use the future default and silence this warning we advise to pass `rcond=None`, to keep using the old, explicitly pass `rcond=-1`.\n",
      "  print (LA.lstsq(A,b)[0])\n"
     ]
    }
   ],
   "source": [
    "# El caso m>n\n",
    "\n",
    "A = np.array([-1.0,0,0,1,1,0]).reshape(3,2)\n",
    "print (A)\n",
    "\n",
    "v0 = np.array([1.0,0,1])\n",
    "                                                                               #\n",
    "# Que relacion tiene el subespacio de las columnas de A con v0? Utilizar el \n",
    "# metodo dot(__) entre A y v0, e imprimir el resultado, cuidado con el orden\n",
    "\"\"\"\n",
    "El análisis es por columnas. Entonces, si multiplicamos cada una de las columnas \n",
    "de A por v0 obtenemos el vector nulo, por lo que al multiplicar v0 por A, \n",
    "obtenemos el vector nulo. Esto significa que v0 pertenece al subespacio ortogonal \n",
    "a cada una de las columnas de A.\n",
    "\"\"\"\n",
    "print(v0.dot(A))\n",
    "\n",
    "z0 = np.array([-1,-1,1])\n",
    "\n",
    "# Que significa el siguiente producto? Por que da 0?\n",
    "\"\"\"\n",
    "Si nos colocamos en R^3, los vectores z0 y v0 son perpendiculares entre sí, por lo \n",
    "que forman entre ellos un ángulo de 90°. El producto entre v0 y z0 está definido \n",
    "como |v0×z0|=|v0|x|v0|(cos(90°)), de donde sin(90°) = 0. Así, obtenemos que el \n",
    "producto entre ellos es igual a cero. Lo que implica que los vectores z0 y v0 son \n",
    "ortogonales.\n",
    "\"\"\"\n",
    "print(v0.dot(z0))\n",
    "\n",
    "alfa = LA.lstsq(A,z0)[0]\n",
    "print(alfa)\n",
    "\n",
    "b = z0 + 2*v0\n",
    "\n",
    "# Comparar este resultado con el anterior\n",
    "# Por que son identicas las soluciones?\n",
    "\"\"\"\n",
    "Porque son dependientes.\n",
    "\"\"\"\n",
    "print (LA.lstsq(A,b)[0])\n",
    "\n",
    "# Resolver para la siguiente b\n",
    "b = z0 - .5*v0\n",
    "print (LA.lstsq(A,b)[0])\n",
    "\n",
    "# Que diferencia hay entre z0 y A alfa?\n",
    "\"\"\"\n",
    "La diferencia entre z0 y alfa es la longitud del vector, y los signos de sus \n",
    "valores.\n",
    "\"\"\""
   ]
  },
  {
   "cell_type": "markdown",
   "metadata": {},
   "source": [
    "## Funciones básicas de matplotlib.pyplot\n",
    "\n",
    "Estas funciones serán útiles para las siguientes prácticas."
   ]
  },
  {
   "cell_type": "code",
   "execution_count": 40,
   "metadata": {
    "scrolled": true
   },
   "outputs": [
    {
     "name": "stdout",
     "output_type": "stream",
     "text": [
      "[0.   0.05 0.1  0.15 0.2  0.25 0.3  0.35 0.4  0.45 0.5  0.55 0.6  0.65\n",
      " 0.7  0.75 0.8  0.85 0.9  0.95 1.   1.05 1.1  1.15 1.2  1.25 1.3  1.35\n",
      " 1.4  1.45 1.5  1.55 1.6  1.65 1.7  1.75 1.8  1.85 1.9  1.95 2.  ]\n"
     ]
    },
    {
     "data": {
      "image/png": "[encoded data removed]",
      "text/plain": [
       "<Figure size 432x288 with 1 Axes>"
      ]
     },
     "metadata": {
      "needs_background": "light"
     },
     "output_type": "display_data"
    }
   ],
   "source": [
    "import matplotlib as mpl\n",
    "import matplotlib.pyplot as plt\n",
    "\n",
    "# Graficos basicos.\n",
    "\n",
    "# Esta funcion genera 40 puntos en el intervalo\n",
    "# cerrado [0,2] mas el del extremo derecho.\n",
    "x = np.linspace(0,2,41)\n",
    "print(x)\n",
    "\n",
    "# utilizar una funcion matematica de numpy\n",
    "y = np.cos(2*np.pi*x)\n",
    "plt.plot(x,y,color='r')\n",
    "plt.show()"
   ]
  },
  {
   "cell_type": "code",
   "execution_count": 41,
   "metadata": {
    "scrolled": false
   },
   "outputs": [
    {
     "data": {
      "image/png": "[encoded data removed]",
      "text/plain": [
       "<Figure size 432x288 with 1 Axes>"
      ]
     },
     "metadata": {
      "needs_background": "light"
     },
     "output_type": "display_data"
    }
   ],
   "source": [
    "# Grafico con marcadores de punto.\n",
    "# no es necesario en varios casos definir el dominio\n",
    "\n",
    "y = [0.7,0.0,-0.3,0.1,0.4,1,1.7]\n",
    "plt.plot(y,marker='o')\n",
    "plt.show()"
   ]
  },
  {
   "cell_type": "code",
   "execution_count": 42,
   "metadata": {},
   "outputs": [
    {
     "data": {
      "image/png": "[encoded data removed]",
      "text/plain": [
       "<Figure size 432x288 with 3 Axes>"
      ]
     },
     "metadata": {
      "needs_background": "light"
     },
     "output_type": "display_data"
    }
   ],
   "source": [
    "# experimentar con lo que sale cambiando 'o' por 's', '*' o '+'\n",
    "\n",
    "# Los puntos son marcados con asteriscos.\n",
    "plt.figure()\n",
    "plt.subplot(131)\n",
    "plt.plot(y,marker='*')\n",
    "\n",
    "# Los puntos son marcados con cuadrados.\n",
    "plt.subplot(132)\n",
    "plt.plot(y,marker='s')\n",
    "\n",
    "# Los puntos son marcados con cruces.\n",
    "plt.subplot(133)\n",
    "plt.plot(y,marker='+')\n",
    "\n",
    "plt.show()\n"
   ]
  },
  {
   "cell_type": "code",
   "execution_count": 43,
   "metadata": {},
   "outputs": [
    {
     "data": {
      "image/png": "[encoded data removed]",
      "text/plain": [
       "<Figure size 432x288 with 1 Axes>"
      ]
     },
     "metadata": {
      "needs_background": "light"
     },
     "output_type": "display_data"
    }
   ],
   "source": [
    "# Varios graficos encimados, con etiquetas\n",
    "\n",
    "x = np.linspace(0,4,50)\n",
    "y1 = np.sin(np.pi*x)\n",
    "y2 = (1/3)*np.sin(3*np.pi*x)\n",
    "y3 = (1/5)*np.sin(5*np.pi*x)\n",
    "y4 = (1/7)*np.sin(7*np.pi*x)\n",
    "yf = y1 + y2 + y3 + y4\n",
    "\n",
    "plt.plot(x,y1,label='w=1')\n",
    "plt.plot(x,y2,label='w=3')\n",
    "plt.plot(x,y3,label='w=5')\n",
    "plt.plot(x,y4,label='w=7')\n",
    "plt.plot(x,yf,label='suma total')\n",
    "\n",
    "plt.legend()\n",
    "plt.show()"
   ]
  },
  {
   "cell_type": "code",
   "execution_count": 44,
   "metadata": {
    "scrolled": true
   },
   "outputs": [
    {
     "name": "stdout",
     "output_type": "stream",
     "text": [
      "[[1.  0. ]\n",
      " [0.  2.5]]\n"
     ]
    },
    {
     "data": {
      "image/png": "[encoded data removed]",
      "text/plain": [
       "<Figure size 432x288 with 1 Axes>"
      ]
     },
     "metadata": {
      "needs_background": "light"
     },
     "output_type": "display_data"
    }
   ],
   "source": [
    "# Graficas de puntos scatter\n",
    "\n",
    "mu = np.array([0.0,0.0])\n",
    "cov = np.diag([1.0,2.5])\n",
    "print (cov)\n",
    "x = np.random.multivariate_normal(mu, cov, (40,2))\n",
    "plt.scatter(x[:,0],x[:,1],marker='.')\n",
    "plt.show()\n"
   ]
  },
  {
   "cell_type": "code",
   "execution_count": null,
   "metadata": {},
   "outputs": [],
   "source": []
  }
 ],
 "metadata": {
  "kernelspec": {
   "display_name": "Python 3",
   "language": "python",
   "name": "python3"
  },
  "language_info": {
   "codemirror_mode": {
    "name": "ipython",
    "version": 3
   },
   "file_extension": ".py",
   "mimetype": "text/x-python",
   "name": "python",
   "nbconvert_exporter": "python",
   "pygments_lexer": "ipython3",
   "version": "3.8.3"
  }
 },
 "nbformat": 4,
 "nbformat_minor": 2
}

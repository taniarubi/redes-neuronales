{
 "cells": [
  {
   "cell_type": "code",
   "execution_count": 1,
   "metadata": {},
   "outputs": [
    {
     "name": "stderr",
     "output_type": "stream",
     "text": [
      "Using TensorFlow backend.\n"
     ]
    }
   ],
   "source": [
    "from keras.layers import Input, Dense, Conv2D, MaxPooling2D, UpSampling2D\n",
    "from keras.models import Model\n",
    "from keras import backend as K"
   ]
  },
  {
   "cell_type": "code",
   "execution_count": 2,
   "metadata": {},
   "outputs": [],
   "source": [
    "input_img = Input(shape=(28, 28, 1))  \n",
    "\n",
    "x = Conv2D(16, (3, 3), activation='relu', padding='same')(input_img)\n",
    "x = MaxPooling2D((2, 2), padding='same')(x)\n",
    "x = Conv2D(8, (3, 3), activation='relu', padding='same')(x)\n",
    "x = MaxPooling2D((2, 2), padding='same')(x)\n",
    "x = Conv2D(8, (3, 3), activation='relu', padding='same')(x)\n",
    "encoded = MaxPooling2D((2, 2), padding='same')(x)\n",
    "\n",
    "x = Conv2D(8, (3, 3), activation='relu', padding='same')(encoded)\n",
    "x = UpSampling2D((2, 2))(x)\n",
    "x = Conv2D(8, (3, 3), activation='relu', padding='same')(x)\n",
    "x = UpSampling2D((2, 2))(x)\n",
    "x = Conv2D(16, (3, 3), activation='relu')(x)\n",
    "x = UpSampling2D((2, 2))(x)\n",
    "decoded = Conv2D(1, (3, 3), activation='sigmoid', padding='same')(x)\n",
    "\n",
    "ae = Model(input_img, decoded)\n",
    "ae.compile(optimizer='adadelta', loss='binary_crossentropy')"
   ]
  },
  {
   "cell_type": "code",
   "execution_count": 3,
   "metadata": {},
   "outputs": [],
   "source": [
    "from keras.datasets import fashion_mnist\n",
    "import numpy as np\n",
    "\n",
    "(x_train, _), (x_test, _) = fashion_mnist.load_data()\n",
    "\n",
    "x_train = x_train.astype('float32') / 255.\n",
    "x_test = x_test.astype('float32') / 255.\n",
    "x_train = np.reshape(x_train, (len(x_train), 28, 28, 1))  \n",
    "x_test = np.reshape(x_test, (len(x_test), 28, 28, 1)) "
   ]
  },
  {
   "cell_type": "code",
   "execution_count": 4,
   "metadata": {},
   "outputs": [
    {
     "name": "stdout",
     "output_type": "stream",
     "text": [
      "Train on 60000 samples, validate on 10000 samples\n",
      "Epoch 1/50\n",
      "60000/60000 [==============================] - 71s 1ms/step - loss: 0.3698 - val_loss: 0.3264\n",
      "Epoch 2/50\n",
      "60000/60000 [==============================] - 69s 1ms/step - loss: 0.3232 - val_loss: 0.3164\n",
      "Epoch 3/50\n",
      "60000/60000 [==============================] - 72s 1ms/step - loss: 0.3142 - val_loss: 0.3141\n",
      "Epoch 4/50\n",
      "60000/60000 [==============================] - 72s 1ms/step - loss: 0.3100 - val_loss: 0.3152\n",
      "Epoch 5/50\n",
      "60000/60000 [==============================] - 73s 1ms/step - loss: 0.3071 - val_loss: 0.3156\n",
      "Epoch 6/50\n",
      "60000/60000 [==============================] - 72s 1ms/step - loss: 0.3049 - val_loss: 0.3075\n",
      "Epoch 7/50\n",
      "60000/60000 [==============================] - 71s 1ms/step - loss: 0.3028 - val_loss: 0.3009\n",
      "Epoch 8/50\n",
      "60000/60000 [==============================] - 71s 1ms/step - loss: 0.3011 - val_loss: 0.2989\n",
      "Epoch 9/50\n",
      "60000/60000 [==============================] - 71s 1ms/step - loss: 0.3003 - val_loss: 0.3007\n",
      "Epoch 10/50\n",
      "60000/60000 [==============================] - 71s 1ms/step - loss: 0.2992 - val_loss: 0.3026\n",
      "Epoch 11/50\n",
      "60000/60000 [==============================] - 71s 1ms/step - loss: 0.2981 - val_loss: 0.2991\n",
      "Epoch 12/50\n",
      "60000/60000 [==============================] - 71s 1ms/step - loss: 0.2973 - val_loss: 0.3034\n",
      "Epoch 13/50\n",
      "60000/60000 [==============================] - 70s 1ms/step - loss: 0.2966 - val_loss: 0.3028\n",
      "Epoch 14/50\n",
      "60000/60000 [==============================] - 73s 1ms/step - loss: 0.2960 - val_loss: 0.2967\n",
      "Epoch 15/50\n",
      "60000/60000 [==============================] - 72s 1ms/step - loss: 0.2948 - val_loss: 0.2962\n",
      "Epoch 16/50\n",
      "60000/60000 [==============================] - 73s 1ms/step - loss: 0.2947 - val_loss: 0.3005\n",
      "Epoch 17/50\n",
      "60000/60000 [==============================] - 72s 1ms/step - loss: 0.2937 - val_loss: 0.2944\n",
      "Epoch 18/50\n",
      "60000/60000 [==============================] - 94s 2ms/step - loss: 0.2932 - val_loss: 0.2979\n",
      "Epoch 19/50\n",
      "60000/60000 [==============================] - 98s 2ms/step - loss: 0.2927 - val_loss: 0.2955\n",
      "Epoch 20/50\n",
      "60000/60000 [==============================] - 97s 2ms/step - loss: 0.2926 - val_loss: 0.2960\n",
      "Epoch 21/50\n",
      "60000/60000 [==============================] - 97s 2ms/step - loss: 0.2918 - val_loss: 0.2914\n",
      "Epoch 22/50\n",
      "60000/60000 [==============================] - 94s 2ms/step - loss: 0.2912 - val_loss: 0.2911\n",
      "Epoch 23/50\n",
      "60000/60000 [==============================] - 71s 1ms/step - loss: 0.2910 - val_loss: 0.2924\n",
      "Epoch 24/50\n",
      "60000/60000 [==============================] - 83s 1ms/step - loss: 0.2905 - val_loss: 0.2919\n",
      "Epoch 25/50\n",
      "60000/60000 [==============================] - 107s 2ms/step - loss: 0.2905 - val_loss: 0.2914\n",
      "Epoch 26/50\n",
      "60000/60000 [==============================] - 103s 2ms/step - loss: 0.2904 - val_loss: 0.2911\n",
      "Epoch 27/50\n",
      "60000/60000 [==============================] - 76s 1ms/step - loss: 0.2900 - val_loss: 0.2942\n",
      "Epoch 28/50\n",
      "60000/60000 [==============================] - 78s 1ms/step - loss: 0.2892 - val_loss: 0.2911\n",
      "Epoch 29/50\n",
      "60000/60000 [==============================] - 103s 2ms/step - loss: 0.2890 - val_loss: 0.2948\n",
      "Epoch 30/50\n",
      "60000/60000 [==============================] - 97s 2ms/step - loss: 0.2890 - val_loss: 0.2928\n",
      "Epoch 31/50\n",
      "60000/60000 [==============================] - 80s 1ms/step - loss: 0.2892 - val_loss: 0.2981\n",
      "Epoch 32/50\n",
      "60000/60000 [==============================] - 70s 1ms/step - loss: 0.2887 - val_loss: 0.2927\n",
      "Epoch 33/50\n",
      "60000/60000 [==============================] - 74s 1ms/step - loss: 0.2885 - val_loss: 0.2884\n",
      "Epoch 34/50\n",
      "60000/60000 [==============================] - 70s 1ms/step - loss: 0.2885 - val_loss: 0.2885\n",
      "Epoch 35/50\n",
      "60000/60000 [==============================] - 76s 1ms/step - loss: 0.2882 - val_loss: 0.2906\n",
      "Epoch 36/50\n",
      "60000/60000 [==============================] - 81s 1ms/step - loss: 0.2880 - val_loss: 0.2886\n",
      "Epoch 37/50\n",
      "60000/60000 [==============================] - 92s 2ms/step - loss: 0.2879 - val_loss: 0.2887\n",
      "Epoch 38/50\n",
      "60000/60000 [==============================] - 80s 1ms/step - loss: 0.2877 - val_loss: 0.2876\n",
      "Epoch 39/50\n",
      "60000/60000 [==============================] - 77s 1ms/step - loss: 0.2875 - val_loss: 0.2860\n",
      "Epoch 40/50\n",
      "60000/60000 [==============================] - 73s 1ms/step - loss: 0.2872 - val_loss: 0.2875\n",
      "Epoch 41/50\n",
      "60000/60000 [==============================] - 86s 1ms/step - loss: 0.2870 - val_loss: 0.2916\n",
      "Epoch 42/50\n",
      "60000/60000 [==============================] - 100s 2ms/step - loss: 0.2869 - val_loss: 0.2893\n",
      "Epoch 43/50\n",
      "60000/60000 [==============================] - 104s 2ms/step - loss: 0.2868 - val_loss: 0.2867\n",
      "Epoch 44/50\n",
      "60000/60000 [==============================] - 102s 2ms/step - loss: 0.2868 - val_loss: 0.2910\n",
      "Epoch 45/50\n",
      "60000/60000 [==============================] - 103s 2ms/step - loss: 0.2862 - val_loss: 0.2872\n",
      "Epoch 46/50\n",
      "60000/60000 [==============================] - 101s 2ms/step - loss: 0.2860 - val_loss: 0.2872\n",
      "Epoch 47/50\n",
      "60000/60000 [==============================] - 88s 1ms/step - loss: 0.2860 - val_loss: 0.2873\n",
      "Epoch 48/50\n",
      "60000/60000 [==============================] - 78s 1ms/step - loss: 0.2861 - val_loss: 0.2864\n",
      "Epoch 49/50\n",
      "60000/60000 [==============================] - 77s 1ms/step - loss: 0.2859 - val_loss: 0.2909\n",
      "Epoch 50/50\n",
      "60000/60000 [==============================] - 75s 1ms/step - loss: 0.2856 - val_loss: 0.2876\n"
     ]
    },
    {
     "data": {
      "text/plain": [
       "<keras.callbacks.callbacks.History at 0x7f0488714220>"
      ]
     },
     "execution_count": 4,
     "metadata": {},
     "output_type": "execute_result"
    }
   ],
   "source": [
    "ae.fit(x_train, x_train,\n",
    "                epochs=50,\n",
    "                batch_size=128,\n",
    "                shuffle=True,\n",
    "                validation_data=(x_test, x_test))"
   ]
  },
  {
   "cell_type": "code",
   "execution_count": 7,
   "metadata": {},
   "outputs": [],
   "source": [
    "d_imgs = ae.predict(x_test)"
   ]
  },
  {
   "cell_type": "code",
   "execution_count": 8,
   "metadata": {},
   "outputs": [
    {
     "data": {
      "image/png": "[encoded data removed]",
      "text/plain": [
       "<Figure size 1440x288 with 20 Axes>"
      ]
     },
     "metadata": {
      "needs_background": "light"
     },
     "output_type": "display_data"
    }
   ],
   "source": [
    "import matplotlib\n",
    "%matplotlib inline\n",
    "\n",
    "from matplotlib import pyplot as plt\n",
    "\n",
    "n = 10\n",
    "plt.figure(figsize=(20, 4))\n",
    "for i in range(n):\n",
    "    # display original\n",
    "    ax = plt.subplot(2, n, i+1)\n",
    "    plt.imshow(x_test[i].reshape(28, 28))\n",
    "    plt.gray()\n",
    "    ax.get_xaxis().set_visible(False)\n",
    "    ax.get_yaxis().set_visible(False)\n",
    "\n",
    "    # display reconstruction\n",
    "    ax = plt.subplot(2, n, i + n+1)\n",
    "    plt.imshow(d_imgs[i].reshape(28, 28))\n",
    "    plt.gray()\n",
    "    ax.get_xaxis().set_visible(False)\n",
    "    ax.get_yaxis().set_visible(False)\n",
    "plt.show()\n"
   ]
  },
  {
   "cell_type": "markdown",
   "metadata": {},
   "source": [
    "### Usamos autoencoder profundo"
   ]
  },
  {
   "cell_type": "code",
   "execution_count": 47,
   "metadata": {},
   "outputs": [
    {
     "name": "stdout",
     "output_type": "stream",
     "text": [
      "(60000, 784)\n",
      "(10000, 784)\n"
     ]
    }
   ],
   "source": [
    "(X_train, Y_train), (X_test, Y_test) = fashion_mnist.load_data()\n",
    "\n",
    "X_train = X_train.astype('float32') / 255\n",
    "X_test = X_test.astype('float32') / 255\n",
    "X_train = X_train.reshape(len(X_train), np.prod(X_train.shape[1:]))\n",
    "X_test = X_test.reshape(len(X_test), np.prod(X_test.shape[1:]))\n",
    "\n",
    "print(X_train.shape)\n",
    "print(X_test.shape)"
   ]
  },
  {
   "cell_type": "code",
   "execution_count": 48,
   "metadata": {},
   "outputs": [],
   "source": [
    "input_img= Input(shape=(784, ))"
   ]
  },
  {
   "cell_type": "code",
   "execution_count": 49,
   "metadata": {},
   "outputs": [],
   "source": [
    "encoded = Dense(units = 128, activation = 'relu')(input_img)\n",
    "encoded = Dense(units = 64, activation = 'relu')(encoded)\n",
    "encoded = Dense(units = 32, activation = 'relu')(encoded)\n",
    "\n",
    "decoded = Dense(units = 64, activation='relu')(encoded)\n",
    "decoded = Dense(units = 128, activation='relu')(decoded)\n",
    "decoded = Dense(units = 784, activation = 'sigmoid')(decoded)"
   ]
  },
  {
   "cell_type": "code",
   "execution_count": 50,
   "metadata": {},
   "outputs": [],
   "source": [
    "autoencoder = Model(input_img, decoded)"
   ]
  },
  {
   "cell_type": "code",
   "execution_count": 51,
   "metadata": {},
   "outputs": [],
   "source": [
    "encoder = Model(input_img, encoded)"
   ]
  },
  {
   "cell_type": "code",
   "execution_count": 52,
   "metadata": {},
   "outputs": [
    {
     "name": "stdout",
     "output_type": "stream",
     "text": [
      "Model: \"model_10\"\n",
      "_________________________________________________________________\n",
      "Layer (type)                 Output Shape              Param #   \n",
      "=================================================================\n",
      "input_7 (InputLayer)         (None, 784)               0         \n",
      "_________________________________________________________________\n",
      "dense_17 (Dense)             (None, 128)               100480    \n",
      "_________________________________________________________________\n",
      "dense_18 (Dense)             (None, 64)                8256      \n",
      "_________________________________________________________________\n",
      "dense_19 (Dense)             (None, 32)                2080      \n",
      "_________________________________________________________________\n",
      "dense_20 (Dense)             (None, 64)                2112      \n",
      "_________________________________________________________________\n",
      "dense_21 (Dense)             (None, 128)               8320      \n",
      "_________________________________________________________________\n",
      "dense_22 (Dense)             (None, 784)               101136    \n",
      "=================================================================\n",
      "Total params: 222,384\n",
      "Trainable params: 222,384\n",
      "Non-trainable params: 0\n",
      "_________________________________________________________________\n"
     ]
    }
   ],
   "source": [
    "autoencoder.summary()"
   ]
  },
  {
   "cell_type": "code",
   "execution_count": 53,
   "metadata": {},
   "outputs": [
    {
     "name": "stdout",
     "output_type": "stream",
     "text": [
      "Model: \"model_11\"\n",
      "_________________________________________________________________\n",
      "Layer (type)                 Output Shape              Param #   \n",
      "=================================================================\n",
      "input_7 (InputLayer)         (None, 784)               0         \n",
      "_________________________________________________________________\n",
      "dense_17 (Dense)             (None, 128)               100480    \n",
      "_________________________________________________________________\n",
      "dense_18 (Dense)             (None, 64)                8256      \n",
      "_________________________________________________________________\n",
      "dense_19 (Dense)             (None, 32)                2080      \n",
      "=================================================================\n",
      "Total params: 110,816\n",
      "Trainable params: 110,816\n",
      "Non-trainable params: 0\n",
      "_________________________________________________________________\n"
     ]
    }
   ],
   "source": [
    "encoder.summary()"
   ]
  },
  {
   "cell_type": "code",
   "execution_count": 64,
   "metadata": {},
   "outputs": [],
   "source": [
    "autoencoder.compile(optimizer = 'adam', loss = 'binary_crossentropy', metrics = ['accuracy'])"
   ]
  },
  {
   "cell_type": "code",
   "execution_count": 65,
   "metadata": {},
   "outputs": [
    {
     "name": "stdout",
     "output_type": "stream",
     "text": [
      "Train on 60000 samples, validate on 10000 samples\n",
      "Epoch 1/100\n",
      "60000/60000 [==============================] - 11s 189us/step - loss: 0.2721 - accuracy: 0.5086 - val_loss: 0.2748 - val_accuracy: 0.5064\n",
      "Epoch 2/100\n",
      "60000/60000 [==============================] - 13s 222us/step - loss: 0.2718 - accuracy: 0.5087 - val_loss: 0.2746 - val_accuracy: 0.5064\n",
      "Epoch 3/100\n",
      "60000/60000 [==============================] - 14s 236us/step - loss: 0.2715 - accuracy: 0.5087 - val_loss: 0.2744 - val_accuracy: 0.5064\n",
      "Epoch 4/100\n",
      "60000/60000 [==============================] - 14s 225us/step - loss: 0.2714 - accuracy: 0.5087 - val_loss: 0.2742 - val_accuracy: 0.5064\n",
      "Epoch 5/100\n",
      "60000/60000 [==============================] - 14s 239us/step - loss: 0.2712 - accuracy: 0.5087 - val_loss: 0.2742 - val_accuracy: 0.5064\n",
      "Epoch 6/100\n",
      "60000/60000 [==============================] - 14s 237us/step - loss: 0.2710 - accuracy: 0.5087 - val_loss: 0.2737 - val_accuracy: 0.5064\n",
      "Epoch 7/100\n",
      "60000/60000 [==============================] - 14s 240us/step - loss: 0.2709 - accuracy: 0.5087 - val_loss: 0.2738 - val_accuracy: 0.5064\n",
      "Epoch 8/100\n",
      "60000/60000 [==============================] - 15s 247us/step - loss: 0.2708 - accuracy: 0.5088 - val_loss: 0.2736 - val_accuracy: 0.5065\n",
      "Epoch 9/100\n",
      "60000/60000 [==============================] - 15s 247us/step - loss: 0.2706 - accuracy: 0.5088 - val_loss: 0.2734 - val_accuracy: 0.5065\n",
      "Epoch 10/100\n",
      "60000/60000 [==============================] - 15s 248us/step - loss: 0.2705 - accuracy: 0.5088 - val_loss: 0.2734 - val_accuracy: 0.5065\n",
      "Epoch 11/100\n",
      "60000/60000 [==============================] - 15s 246us/step - loss: 0.2704 - accuracy: 0.5088 - val_loss: 0.2732 - val_accuracy: 0.5065\n",
      "Epoch 12/100\n",
      "60000/60000 [==============================] - 15s 250us/step - loss: 0.2703 - accuracy: 0.5088 - val_loss: 0.2730 - val_accuracy: 0.5065\n",
      "Epoch 13/100\n",
      "60000/60000 [==============================] - 15s 250us/step - loss: 0.2702 - accuracy: 0.5088 - val_loss: 0.2730 - val_accuracy: 0.5065\n",
      "Epoch 14/100\n",
      "60000/60000 [==============================] - 15s 244us/step - loss: 0.2701 - accuracy: 0.5088 - val_loss: 0.2727 - val_accuracy: 0.5065\n",
      "Epoch 15/100\n",
      "60000/60000 [==============================] - 15s 244us/step - loss: 0.2700 - accuracy: 0.5088 - val_loss: 0.2727 - val_accuracy: 0.5065\n",
      "Epoch 16/100\n",
      "60000/60000 [==============================] - 15s 245us/step - loss: 0.2699 - accuracy: 0.5088 - val_loss: 0.2727 - val_accuracy: 0.5066\n",
      "Epoch 17/100\n",
      "60000/60000 [==============================] - 15s 251us/step - loss: 0.2698 - accuracy: 0.5088 - val_loss: 0.2725 - val_accuracy: 0.5065\n",
      "Epoch 18/100\n",
      "60000/60000 [==============================] - 15s 244us/step - loss: 0.2697 - accuracy: 0.5089 - val_loss: 0.2724 - val_accuracy: 0.5066\n",
      "Epoch 19/100\n",
      "60000/60000 [==============================] - 15s 246us/step - loss: 0.2696 - accuracy: 0.5089 - val_loss: 0.2725 - val_accuracy: 0.5065\n",
      "Epoch 20/100\n",
      "60000/60000 [==============================] - 15s 251us/step - loss: 0.2696 - accuracy: 0.5089 - val_loss: 0.2723 - val_accuracy: 0.5065\n",
      "Epoch 21/100\n",
      "60000/60000 [==============================] - 15s 251us/step - loss: 0.2695 - accuracy: 0.5089 - val_loss: 0.2723 - val_accuracy: 0.5066\n",
      "Epoch 22/100\n",
      "60000/60000 [==============================] - 15s 254us/step - loss: 0.2694 - accuracy: 0.5089 - val_loss: 0.2724 - val_accuracy: 0.5066\n",
      "Epoch 23/100\n",
      "60000/60000 [==============================] - 15s 252us/step - loss: 0.2694 - accuracy: 0.5089 - val_loss: 0.2723 - val_accuracy: 0.5066\n",
      "Epoch 24/100\n",
      "60000/60000 [==============================] - 16s 260us/step - loss: 0.2693 - accuracy: 0.5089 - val_loss: 0.2723 - val_accuracy: 0.5066\n",
      "Epoch 25/100\n",
      "60000/60000 [==============================] - 14s 240us/step - loss: 0.2692 - accuracy: 0.5089 - val_loss: 0.2722 - val_accuracy: 0.5066\n",
      "Epoch 26/100\n",
      "60000/60000 [==============================] - 13s 214us/step - loss: 0.2691 - accuracy: 0.5089 - val_loss: 0.2720 - val_accuracy: 0.5066\n",
      "Epoch 27/100\n",
      "60000/60000 [==============================] - 14s 239us/step - loss: 0.2691 - accuracy: 0.5089 - val_loss: 0.2720 - val_accuracy: 0.5066\n",
      "Epoch 28/100\n",
      "60000/60000 [==============================] - 18s 297us/step - loss: 0.2691 - accuracy: 0.5089 - val_loss: 0.2720 - val_accuracy: 0.5066\n",
      "Epoch 29/100\n",
      "60000/60000 [==============================] - 17s 291us/step - loss: 0.2690 - accuracy: 0.5089 - val_loss: 0.2721 - val_accuracy: 0.5066\n",
      "Epoch 30/100\n",
      "60000/60000 [==============================] - 17s 286us/step - loss: 0.2689 - accuracy: 0.5089 - val_loss: 0.2718 - val_accuracy: 0.5066\n",
      "Epoch 31/100\n",
      "60000/60000 [==============================] - 18s 292us/step - loss: 0.2689 - accuracy: 0.5089 - val_loss: 0.2717 - val_accuracy: 0.5066\n",
      "Epoch 32/100\n",
      "60000/60000 [==============================] - 18s 294us/step - loss: 0.2688 - accuracy: 0.5089 - val_loss: 0.2717 - val_accuracy: 0.5066\n",
      "Epoch 33/100\n",
      "60000/60000 [==============================] - 17s 290us/step - loss: 0.2688 - accuracy: 0.5089 - val_loss: 0.2719 - val_accuracy: 0.5066\n",
      "Epoch 34/100\n",
      "60000/60000 [==============================] - 14s 233us/step - loss: 0.2687 - accuracy: 0.5089 - val_loss: 0.2714 - val_accuracy: 0.5066\n",
      "Epoch 35/100\n",
      "60000/60000 [==============================] - 12s 207us/step - loss: 0.2687 - accuracy: 0.5089 - val_loss: 0.2715 - val_accuracy: 0.5067\n",
      "Epoch 36/100\n",
      "60000/60000 [==============================] - 13s 216us/step - loss: 0.2686 - accuracy: 0.5090 - val_loss: 0.2715 - val_accuracy: 0.5067\n",
      "Epoch 37/100\n",
      "60000/60000 [==============================] - 15s 251us/step - loss: 0.2686 - accuracy: 0.5090 - val_loss: 0.2714 - val_accuracy: 0.5066\n",
      "Epoch 38/100\n",
      "60000/60000 [==============================] - 15s 247us/step - loss: 0.2686 - accuracy: 0.5090 - val_loss: 0.2715 - val_accuracy: 0.5066\n",
      "Epoch 39/100\n",
      "60000/60000 [==============================] - 15s 245us/step - loss: 0.2685 - accuracy: 0.5090 - val_loss: 0.2714 - val_accuracy: 0.5067\n",
      "Epoch 40/100\n",
      "60000/60000 [==============================] - 15s 243us/step - loss: 0.2685 - accuracy: 0.5090 - val_loss: 0.2715 - val_accuracy: 0.5067\n",
      "Epoch 41/100\n",
      "60000/60000 [==============================] - 15s 249us/step - loss: 0.2684 - accuracy: 0.5090 - val_loss: 0.2714 - val_accuracy: 0.5067\n",
      "Epoch 42/100\n",
      "60000/60000 [==============================] - 15s 244us/step - loss: 0.2684 - accuracy: 0.5090 - val_loss: 0.2714 - val_accuracy: 0.5066\n",
      "Epoch 43/100\n",
      "60000/60000 [==============================] - 15s 246us/step - loss: 0.2684 - accuracy: 0.5090 - val_loss: 0.2714 - val_accuracy: 0.5067\n",
      "Epoch 44/100\n",
      "60000/60000 [==============================] - 15s 243us/step - loss: 0.2683 - accuracy: 0.5090 - val_loss: 0.2713 - val_accuracy: 0.5067\n",
      "Epoch 45/100\n",
      "60000/60000 [==============================] - 15s 248us/step - loss: 0.2683 - accuracy: 0.5090 - val_loss: 0.2713 - val_accuracy: 0.5067\n",
      "Epoch 46/100\n",
      "60000/60000 [==============================] - 15s 253us/step - loss: 0.2683 - accuracy: 0.5090 - val_loss: 0.2713 - val_accuracy: 0.5067\n",
      "Epoch 47/100\n",
      "60000/60000 [==============================] - 12s 200us/step - loss: 0.2682 - accuracy: 0.5090 - val_loss: 0.2711 - val_accuracy: 0.5067\n",
      "Epoch 48/100\n",
      "60000/60000 [==============================] - 10s 173us/step - loss: 0.2682 - accuracy: 0.5090 - val_loss: 0.2715 - val_accuracy: 0.5066\n",
      "Epoch 49/100\n",
      "60000/60000 [==============================] - 10s 173us/step - loss: 0.2682 - accuracy: 0.5090 - val_loss: 0.2711 - val_accuracy: 0.5067\n",
      "Epoch 50/100\n",
      "60000/60000 [==============================] - 10s 174us/step - loss: 0.2681 - accuracy: 0.5090 - val_loss: 0.2712 - val_accuracy: 0.5067\n",
      "Epoch 51/100\n",
      "60000/60000 [==============================] - 13s 211us/step - loss: 0.2681 - accuracy: 0.5090 - val_loss: 0.2710 - val_accuracy: 0.5067\n",
      "Epoch 52/100\n",
      "60000/60000 [==============================] - 15s 255us/step - loss: 0.2681 - accuracy: 0.5090 - val_loss: 0.2713 - val_accuracy: 0.5066\n",
      "Epoch 53/100\n",
      "60000/60000 [==============================] - 15s 246us/step - loss: 0.2680 - accuracy: 0.5090 - val_loss: 0.2709 - val_accuracy: 0.5067\n",
      "Epoch 54/100\n",
      "60000/60000 [==============================] - 15s 251us/step - loss: 0.2680 - accuracy: 0.5090 - val_loss: 0.2709 - val_accuracy: 0.5067\n"
     ]
    },
    {
     "name": "stdout",
     "output_type": "stream",
     "text": [
      "Epoch 55/100\n",
      "60000/60000 [==============================] - 15s 250us/step - loss: 0.2680 - accuracy: 0.5090 - val_loss: 0.2707 - val_accuracy: 0.5067\n",
      "Epoch 56/100\n",
      "60000/60000 [==============================] - 17s 285us/step - loss: 0.2680 - accuracy: 0.5090 - val_loss: 0.2708 - val_accuracy: 0.5067\n",
      "Epoch 57/100\n",
      "60000/60000 [==============================] - 15s 251us/step - loss: 0.2680 - accuracy: 0.5090 - val_loss: 0.2709 - val_accuracy: 0.5067\n",
      "Epoch 58/100\n",
      "60000/60000 [==============================] - 12s 204us/step - loss: 0.2679 - accuracy: 0.5090 - val_loss: 0.2710 - val_accuracy: 0.5067\n",
      "Epoch 59/100\n",
      "60000/60000 [==============================] - 13s 209us/step - loss: 0.2679 - accuracy: 0.5090 - val_loss: 0.2708 - val_accuracy: 0.5067\n",
      "Epoch 60/100\n",
      "60000/60000 [==============================] - 12s 194us/step - loss: 0.2679 - accuracy: 0.5090 - val_loss: 0.2707 - val_accuracy: 0.5067\n",
      "Epoch 61/100\n",
      "60000/60000 [==============================] - 11s 178us/step - loss: 0.2679 - accuracy: 0.5090 - val_loss: 0.2707 - val_accuracy: 0.5067\n",
      "Epoch 62/100\n",
      "60000/60000 [==============================] - 11s 185us/step - loss: 0.2678 - accuracy: 0.5090 - val_loss: 0.2707 - val_accuracy: 0.5066\n",
      "Epoch 63/100\n",
      "60000/60000 [==============================] - 10s 174us/step - loss: 0.2678 - accuracy: 0.5090 - val_loss: 0.2709 - val_accuracy: 0.5067\n",
      "Epoch 64/100\n",
      "60000/60000 [==============================] - 10s 174us/step - loss: 0.2678 - accuracy: 0.5090 - val_loss: 0.2708 - val_accuracy: 0.5067\n",
      "Epoch 65/100\n",
      "60000/60000 [==============================] - 10s 173us/step - loss: 0.2677 - accuracy: 0.5090 - val_loss: 0.2710 - val_accuracy: 0.5067\n",
      "Epoch 66/100\n",
      "60000/60000 [==============================] - 10s 174us/step - loss: 0.2677 - accuracy: 0.5090 - val_loss: 0.2707 - val_accuracy: 0.5067\n",
      "Epoch 67/100\n",
      "60000/60000 [==============================] - 10s 174us/step - loss: 0.2677 - accuracy: 0.5090 - val_loss: 0.2711 - val_accuracy: 0.5066\n",
      "Epoch 68/100\n",
      "60000/60000 [==============================] - 10s 172us/step - loss: 0.2677 - accuracy: 0.5090 - val_loss: 0.2708 - val_accuracy: 0.5067\n",
      "Epoch 69/100\n",
      "60000/60000 [==============================] - 10s 171us/step - loss: 0.2677 - accuracy: 0.5090 - val_loss: 0.2706 - val_accuracy: 0.5067\n",
      "Epoch 70/100\n",
      "60000/60000 [==============================] - 10s 171us/step - loss: 0.2676 - accuracy: 0.5090 - val_loss: 0.2704 - val_accuracy: 0.5067\n",
      "Epoch 71/100\n",
      "60000/60000 [==============================] - 10s 170us/step - loss: 0.2676 - accuracy: 0.5090 - val_loss: 0.2705 - val_accuracy: 0.5068\n",
      "Epoch 72/100\n",
      "60000/60000 [==============================] - 10s 172us/step - loss: 0.2676 - accuracy: 0.5090 - val_loss: 0.2706 - val_accuracy: 0.5067\n",
      "Epoch 73/100\n",
      "60000/60000 [==============================] - 10s 172us/step - loss: 0.2676 - accuracy: 0.5090 - val_loss: 0.2707 - val_accuracy: 0.5068\n",
      "Epoch 74/100\n",
      "60000/60000 [==============================] - 10s 172us/step - loss: 0.2676 - accuracy: 0.5090 - val_loss: 0.2704 - val_accuracy: 0.5067\n",
      "Epoch 75/100\n",
      "60000/60000 [==============================] - 10s 171us/step - loss: 0.2675 - accuracy: 0.5090 - val_loss: 0.2706 - val_accuracy: 0.5067\n",
      "Epoch 76/100\n",
      "60000/60000 [==============================] - 10s 170us/step - loss: 0.2675 - accuracy: 0.5090 - val_loss: 0.2708 - val_accuracy: 0.5068\n",
      "Epoch 77/100\n",
      "60000/60000 [==============================] - 10s 171us/step - loss: 0.2675 - accuracy: 0.5090 - val_loss: 0.2704 - val_accuracy: 0.5067\n",
      "Epoch 78/100\n",
      "60000/60000 [==============================] - 10s 170us/step - loss: 0.2675 - accuracy: 0.5090 - val_loss: 0.2704 - val_accuracy: 0.5067\n",
      "Epoch 79/100\n",
      "60000/60000 [==============================] - 10s 171us/step - loss: 0.2675 - accuracy: 0.5091 - val_loss: 0.2705 - val_accuracy: 0.5067\n",
      "Epoch 80/100\n",
      "60000/60000 [==============================] - 10s 171us/step - loss: 0.2675 - accuracy: 0.5090 - val_loss: 0.2704 - val_accuracy: 0.5067\n",
      "Epoch 81/100\n",
      "60000/60000 [==============================] - 10s 170us/step - loss: 0.2674 - accuracy: 0.5091 - val_loss: 0.2705 - val_accuracy: 0.5067\n",
      "Epoch 82/100\n",
      "60000/60000 [==============================] - 10s 170us/step - loss: 0.2674 - accuracy: 0.5090 - val_loss: 0.2703 - val_accuracy: 0.5068\n",
      "Epoch 83/100\n",
      "60000/60000 [==============================] - 10s 170us/step - loss: 0.2674 - accuracy: 0.5091 - val_loss: 0.2706 - val_accuracy: 0.5067\n",
      "Epoch 84/100\n",
      "60000/60000 [==============================] - 10s 171us/step - loss: 0.2674 - accuracy: 0.5091 - val_loss: 0.2702 - val_accuracy: 0.5067\n",
      "Epoch 85/100\n",
      "60000/60000 [==============================] - 10s 170us/step - loss: 0.2674 - accuracy: 0.5091 - val_loss: 0.2703 - val_accuracy: 0.5068\n",
      "Epoch 86/100\n",
      "60000/60000 [==============================] - 10s 169us/step - loss: 0.2674 - accuracy: 0.5091 - val_loss: 0.2703 - val_accuracy: 0.5067\n",
      "Epoch 87/100\n",
      "60000/60000 [==============================] - 10s 172us/step - loss: 0.2673 - accuracy: 0.5091 - val_loss: 0.2702 - val_accuracy: 0.5068\n",
      "Epoch 88/100\n",
      "60000/60000 [==============================] - 10s 171us/step - loss: 0.2673 - accuracy: 0.5091 - val_loss: 0.2704 - val_accuracy: 0.5068\n",
      "Epoch 89/100\n",
      "60000/60000 [==============================] - 11s 186us/step - loss: 0.2673 - accuracy: 0.5091 - val_loss: 0.2703 - val_accuracy: 0.5067\n",
      "Epoch 90/100\n",
      "60000/60000 [==============================] - 10s 171us/step - loss: 0.2673 - accuracy: 0.5091 - val_loss: 0.2704 - val_accuracy: 0.5067\n",
      "Epoch 91/100\n",
      "60000/60000 [==============================] - 10s 172us/step - loss: 0.2673 - accuracy: 0.5091 - val_loss: 0.2704 - val_accuracy: 0.5068\n",
      "Epoch 92/100\n",
      "60000/60000 [==============================] - 10s 172us/step - loss: 0.2673 - accuracy: 0.5091 - val_loss: 0.2702 - val_accuracy: 0.5067\n",
      "Epoch 93/100\n",
      "60000/60000 [==============================] - 10s 172us/step - loss: 0.2673 - accuracy: 0.5091 - val_loss: 0.2702 - val_accuracy: 0.5068\n",
      "Epoch 94/100\n",
      "60000/60000 [==============================] - 10s 171us/step - loss: 0.2672 - accuracy: 0.5091 - val_loss: 0.2700 - val_accuracy: 0.5067\n",
      "Epoch 95/100\n",
      "60000/60000 [==============================] - 10s 173us/step - loss: 0.2672 - accuracy: 0.5091 - val_loss: 0.2703 - val_accuracy: 0.5068\n",
      "Epoch 96/100\n",
      "60000/60000 [==============================] - 10s 171us/step - loss: 0.2672 - accuracy: 0.5091 - val_loss: 0.2704 - val_accuracy: 0.5067\n",
      "Epoch 97/100\n",
      "60000/60000 [==============================] - 10s 171us/step - loss: 0.2672 - accuracy: 0.5091 - val_loss: 0.2701 - val_accuracy: 0.5067\n",
      "Epoch 98/100\n",
      "60000/60000 [==============================] - 10s 172us/step - loss: 0.2672 - accuracy: 0.5091 - val_loss: 0.2702 - val_accuracy: 0.5068\n",
      "Epoch 99/100\n",
      "60000/60000 [==============================] - 10s 173us/step - loss: 0.2672 - accuracy: 0.5091 - val_loss: 0.2701 - val_accuracy: 0.5068\n",
      "Epoch 100/100\n",
      "60000/60000 [==============================] - 10s 172us/step - loss: 0.2672 - accuracy: 0.5091 - val_loss: 0.2704 - val_accuracy: 0.5067\n"
     ]
    }
   ],
   "source": [
    "autoencoder_train = autoencoder.fit(X_train, X_train,\n",
    "                                    epochs = 100,\n",
    "                                    batch_size = 64,\n",
    "                                    shuffle = True,\n",
    "                                    validation_data = (X_test, X_test))"
   ]
  },
  {
   "cell_type": "code",
   "execution_count": 68,
   "metadata": {},
   "outputs": [],
   "source": [
    "encoded_imgs = encoder.predict(X_test)\n",
    "encoded_imgs.shape\n",
    "predicted = autoencoder.predict(X_test)"
   ]
  },
  {
   "cell_type": "code",
   "execution_count": 69,
   "metadata": {},
   "outputs": [
    {
     "data": {
      "image/png": "[encoded data removed]",
      "text/plain": [
       "<Figure size 1440x288 with 20 Axes>"
      ]
     },
     "metadata": {
      "needs_background": "light"
     },
     "output_type": "display_data"
    }
   ],
   "source": [
    "import matplotlib\n",
    "%matplotlib inline\n",
    "\n",
    "from matplotlib import pyplot as plt\n",
    "\n",
    "n = 10\n",
    "plt.figure(figsize=(20, 4))\n",
    "for i in range(n):\n",
    "    # display original\n",
    "    ax = plt.subplot(2, n, i+1)\n",
    "    plt.imshow(X_test[i].reshape(28, 28))\n",
    "    plt.gray()\n",
    "    ax.get_xaxis().set_visible(False)\n",
    "    ax.get_yaxis().set_visible(False)\n",
    "\n",
    "    # display reconstruction\n",
    "    ax = plt.subplot(2, n, i + n+1)\n",
    "    plt.imshow(predicted[i].reshape(28, 28))\n",
    "    plt.gray()\n",
    "    ax.get_xaxis().set_visible(False)\n",
    "    ax.get_yaxis().set_visible(False)\n",
    "plt.show()"
   ]
  }
 ],
 "metadata": {
  "kernelspec": {
   "display_name": "Python 3",
   "language": "python",
   "name": "python3"
  },
  "language_info": {
   "codemirror_mode": {
    "name": "ipython",
    "version": 3
   },
   "file_extension": ".py",
   "mimetype": "text/x-python",
   "name": "python",
   "nbconvert_exporter": "python",
   "pygments_lexer": "ipython3",
   "version": "3.8.3"
  }
 },
 "nbformat": 4,
 "nbformat_minor": 4
}

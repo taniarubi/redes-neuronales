{
 "cells": [
  {
   "cell_type": "markdown",
   "metadata": {},
   "source": [
    "\n",
    "# Fasion MNIST\n",
    "\n",
    "Vamos a reentrenar nuestra VGG pero con el conjunto de datos de moda"
   ]
  },
  {
   "cell_type": "code",
   "execution_count": 1,
   "metadata": {},
   "outputs": [],
   "source": [
    "%matplotlib inline\n",
    "\n",
    "from tensorflow.keras.utils                import to_categorical\n",
    "from tensorflow                            import keras \n",
    "from tensorflow.keras                      import backend as K\n",
    "from tensorflow.keras.preprocessing.image  import load_img\n",
    "from tensorflow.keras.layers               import Input, Dense, Flatten, Lambda, Dropout\n",
    "from tensorflow.keras.layers               import AveragePooling2D\n",
    "from tensorflow.keras.optimizers           import Adam\n",
    "from tensorflow.keras.models               import Sequential, Model, load_model\n",
    "from tensorflow.keras                      import applications  \n",
    "from tensorflow.keras.datasets             import fashion_mnist\n",
    "from tensorflow.keras                      import layers\n",
    "from tensorflow.keras.applications.vgg16   import VGG16\n",
    "import tensorflow as tf\n",
    "import PIL\n",
    "import scipy as sp\n",
    "import numpy as np\n",
    "import matplotlib.pyplot as plt\n"
   ]
  },
  {
   "cell_type": "code",
   "execution_count": 2,
   "metadata": {},
   "outputs": [],
   "source": [
    "((X_tr, y_tr),(X_ts,y_ts)) = tf.keras.datasets.fashion_mnist.load_data()"
   ]
  },
  {
   "cell_type": "code",
   "execution_count": 3,
   "metadata": {},
   "outputs": [
    {
     "data": {
      "text/plain": [
       "(60000, 28, 28, 1)"
      ]
     },
     "execution_count": 3,
     "metadata": {},
     "output_type": "execute_result"
    }
   ],
   "source": [
    "X_ts = X_ts.reshape(-1, 28, 28, 1).astype('float32') / 255\n",
    "X_tr = X_tr.reshape(-1, 28, 28, 1).astype('float32') / 255\n",
    "X_tr.shape"
   ]
  },
  {
   "cell_type": "code",
   "execution_count": 4,
   "metadata": {},
   "outputs": [
    {
     "data": {
      "text/plain": [
       "(10000, 28, 28, 1)"
      ]
     },
     "execution_count": 4,
     "metadata": {},
     "output_type": "execute_result"
    }
   ],
   "source": [
    "X_ts.reshape(-1, 28, 28, 1).shape"
   ]
  },
  {
   "cell_type": "code",
   "execution_count": 5,
   "metadata": {},
   "outputs": [
    {
     "data": {
      "text/plain": [
       "(60000, 10)"
      ]
     },
     "execution_count": 5,
     "metadata": {},
     "output_type": "execute_result"
    }
   ],
   "source": [
    "Y_ts = to_categorical(y_ts)\n",
    "Y_tr = to_categorical(y_tr)\n",
    "Y_tr.shape"
   ]
  },
  {
   "cell_type": "markdown",
   "metadata": {},
   "source": [
    "### Aplicaciones de Keras\n",
    "\n",
    "![Aplicaciones](./keras_aplications.png)\n",
    "\n",
    "Keras ya tiene modelos preentrenados que pueden ver en [keras applications](https://keras.io/api/applications/) que tiene varias redes, entre ellas VGG, pero también muchas otras muy sofisticadas que usarán dependiendo de su problema.\n",
    "\n",
    "No estaría mal que las revisaran."
   ]
  },
  {
   "cell_type": "code",
   "execution_count": 6,
   "metadata": {},
   "outputs": [],
   "source": [
    "vgg = VGG16(input_shape = (128, 128, 3), include_top = False, weights=\"imagenet\")\n",
    "\n",
    "for ly in vgg.layers:\n",
    "    ly.trainable = False"
   ]
  },
  {
   "cell_type": "code",
   "execution_count": 7,
   "metadata": {},
   "outputs": [
    {
     "name": "stdout",
     "output_type": "stream",
     "text": [
      "Model: \"vgg16\"\n",
      "_________________________________________________________________\n",
      "Layer (type)                 Output Shape              Param #   \n",
      "=================================================================\n",
      "input_1 (InputLayer)         [(None, 128, 128, 3)]     0         \n",
      "_________________________________________________________________\n",
      "block1_conv1 (Conv2D)        (None, 128, 128, 64)      1792      \n",
      "_________________________________________________________________\n",
      "block1_conv2 (Conv2D)        (None, 128, 128, 64)      36928     \n",
      "_________________________________________________________________\n",
      "block1_pool (MaxPooling2D)   (None, 64, 64, 64)        0         \n",
      "_________________________________________________________________\n",
      "block2_conv1 (Conv2D)        (None, 64, 64, 128)       73856     \n",
      "_________________________________________________________________\n",
      "block2_conv2 (Conv2D)        (None, 64, 64, 128)       147584    \n",
      "_________________________________________________________________\n",
      "block2_pool (MaxPooling2D)   (None, 32, 32, 128)       0         \n",
      "_________________________________________________________________\n",
      "block3_conv1 (Conv2D)        (None, 32, 32, 256)       295168    \n",
      "_________________________________________________________________\n",
      "block3_conv2 (Conv2D)        (None, 32, 32, 256)       590080    \n",
      "_________________________________________________________________\n",
      "block3_conv3 (Conv2D)        (None, 32, 32, 256)       590080    \n",
      "_________________________________________________________________\n",
      "block3_pool (MaxPooling2D)   (None, 16, 16, 256)       0         \n",
      "_________________________________________________________________\n",
      "block4_conv1 (Conv2D)        (None, 16, 16, 512)       1180160   \n",
      "_________________________________________________________________\n",
      "block4_conv2 (Conv2D)        (None, 16, 16, 512)       2359808   \n",
      "_________________________________________________________________\n",
      "block4_conv3 (Conv2D)        (None, 16, 16, 512)       2359808   \n",
      "_________________________________________________________________\n",
      "block4_pool (MaxPooling2D)   (None, 8, 8, 512)         0         \n",
      "_________________________________________________________________\n",
      "block5_conv1 (Conv2D)        (None, 8, 8, 512)         2359808   \n",
      "_________________________________________________________________\n",
      "block5_conv2 (Conv2D)        (None, 8, 8, 512)         2359808   \n",
      "_________________________________________________________________\n",
      "block5_conv3 (Conv2D)        (None, 8, 8, 512)         2359808   \n",
      "_________________________________________________________________\n",
      "block5_pool (MaxPooling2D)   (None, 4, 4, 512)         0         \n",
      "=================================================================\n",
      "Total params: 14,714,688\n",
      "Trainable params: 0\n",
      "Non-trainable params: 14,714,688\n",
      "_________________________________________________________________\n"
     ]
    }
   ],
   "source": [
    "vgg.summary()"
   ]
  },
  {
   "cell_type": "code",
   "execution_count": 8,
   "metadata": {},
   "outputs": [],
   "source": [
    "nuevo = Sequential()\n",
    "\n",
    "for ly in nuevo.layers:\n",
    "    ly.trainable = False\n",
    "\n",
    "nuevo.add(Flatten())\n",
    "nuevo.add(Dense(1024, activation='relu'))\n",
    "nuevo.add(Dropout(0.5))\n",
    "nuevo.add(Dense(10, activation=\"softmax\"))"
   ]
  },
  {
   "cell_type": "code",
   "execution_count": 17,
   "metadata": {},
   "outputs": [],
   "source": [
    "nuevo.compile(\n",
    "    loss = \"categorical_crossentropy\",\n",
    "    optimizer = Adam(),\n",
    "    metrics = ['accuracy']\n",
    ")"
   ]
  },
  {
   "cell_type": "code",
   "execution_count": 21,
   "metadata": {},
   "outputs": [
    {
     "name": "stdout",
     "output_type": "stream",
     "text": [
      "Epoch 1/50\n",
      "469/469 - 8s - loss: 0.2441 - accuracy: 0.9076\n",
      "Epoch 2/50\n",
      "469/469 - 9s - loss: 0.2331 - accuracy: 0.9103\n",
      "Epoch 3/50\n",
      "469/469 - 11s - loss: 0.2267 - accuracy: 0.9143\n",
      "Epoch 4/50\n",
      "469/469 - 11s - loss: 0.2238 - accuracy: 0.9157\n",
      "Epoch 5/50\n",
      "469/469 - 11s - loss: 0.2160 - accuracy: 0.9182\n",
      "Epoch 6/50\n",
      "469/469 - 11s - loss: 0.2144 - accuracy: 0.9195\n",
      "Epoch 7/50\n",
      "469/469 - 11s - loss: 0.2092 - accuracy: 0.9204\n",
      "Epoch 8/50\n",
      "469/469 - 11s - loss: 0.2092 - accuracy: 0.9213\n",
      "Epoch 9/50\n",
      "469/469 - 11s - loss: 0.2066 - accuracy: 0.9222\n",
      "Epoch 10/50\n",
      "469/469 - 11s - loss: 0.2040 - accuracy: 0.9216\n",
      "Epoch 11/50\n",
      "469/469 - 11s - loss: 0.2015 - accuracy: 0.9232\n",
      "Epoch 12/50\n",
      "469/469 - 11s - loss: 0.2031 - accuracy: 0.9215\n",
      "Epoch 13/50\n",
      "469/469 - 11s - loss: 0.1952 - accuracy: 0.9255\n",
      "Epoch 14/50\n",
      "469/469 - 11s - loss: 0.1973 - accuracy: 0.9241\n",
      "Epoch 15/50\n",
      "469/469 - 11s - loss: 0.1940 - accuracy: 0.9265\n",
      "Epoch 16/50\n",
      "469/469 - 11s - loss: 0.1902 - accuracy: 0.9267\n",
      "Epoch 17/50\n",
      "469/469 - 11s - loss: 0.1896 - accuracy: 0.9269\n",
      "Epoch 18/50\n",
      "469/469 - 11s - loss: 0.1911 - accuracy: 0.9267\n",
      "Epoch 19/50\n",
      "469/469 - 11s - loss: 0.1890 - accuracy: 0.9279\n",
      "Epoch 20/50\n",
      "469/469 - 11s - loss: 0.1837 - accuracy: 0.9296\n",
      "Epoch 21/50\n",
      "469/469 - 8s - loss: 0.1834 - accuracy: 0.9306\n",
      "Epoch 22/50\n",
      "469/469 - 10s - loss: 0.1814 - accuracy: 0.9307\n",
      "Epoch 23/50\n",
      "469/469 - 11s - loss: 0.1827 - accuracy: 0.9302\n",
      "Epoch 24/50\n",
      "469/469 - 11s - loss: 0.1803 - accuracy: 0.9302\n",
      "Epoch 25/50\n",
      "469/469 - 9s - loss: 0.1790 - accuracy: 0.9308\n",
      "Epoch 26/50\n",
      "469/469 - 11s - loss: 0.1791 - accuracy: 0.9318\n",
      "Epoch 27/50\n",
      "469/469 - 11s - loss: 0.1773 - accuracy: 0.9310\n",
      "Epoch 28/50\n",
      "469/469 - 11s - loss: 0.1761 - accuracy: 0.9329\n",
      "Epoch 29/50\n",
      "469/469 - 11s - loss: 0.1705 - accuracy: 0.9351\n",
      "Epoch 30/50\n",
      "469/469 - 11s - loss: 0.1748 - accuracy: 0.9327\n",
      "Epoch 31/50\n",
      "469/469 - 11s - loss: 0.1717 - accuracy: 0.9339\n",
      "Epoch 32/50\n",
      "469/469 - 11s - loss: 0.1709 - accuracy: 0.9342\n",
      "Epoch 33/50\n",
      "469/469 - 11s - loss: 0.1676 - accuracy: 0.9355\n",
      "Epoch 34/50\n",
      "469/469 - 11s - loss: 0.1692 - accuracy: 0.9355\n",
      "Epoch 35/50\n",
      "469/469 - 11s - loss: 0.1673 - accuracy: 0.9358\n",
      "Epoch 36/50\n",
      "469/469 - 11s - loss: 0.1677 - accuracy: 0.9360\n",
      "Epoch 37/50\n",
      "469/469 - 11s - loss: 0.1664 - accuracy: 0.9353\n",
      "Epoch 38/50\n",
      "469/469 - 11s - loss: 0.1624 - accuracy: 0.9370\n",
      "Epoch 39/50\n",
      "469/469 - 11s - loss: 0.1625 - accuracy: 0.9386\n",
      "Epoch 40/50\n",
      "469/469 - 11s - loss: 0.1591 - accuracy: 0.9391\n",
      "Epoch 41/50\n",
      "469/469 - 11s - loss: 0.1598 - accuracy: 0.9398\n",
      "Epoch 42/50\n",
      "469/469 - 11s - loss: 0.1560 - accuracy: 0.9396\n",
      "Epoch 43/50\n",
      "469/469 - 11s - loss: 0.1562 - accuracy: 0.9402\n",
      "Epoch 44/50\n",
      "469/469 - 11s - loss: 0.1578 - accuracy: 0.9388\n",
      "Epoch 45/50\n",
      "469/469 - 11s - loss: 0.1562 - accuracy: 0.9398\n",
      "Epoch 46/50\n",
      "469/469 - 11s - loss: 0.1556 - accuracy: 0.9405\n",
      "Epoch 47/50\n",
      "469/469 - 11s - loss: 0.1572 - accuracy: 0.9389\n",
      "Epoch 48/50\n",
      "469/469 - 11s - loss: 0.1502 - accuracy: 0.9424\n",
      "Epoch 49/50\n",
      "469/469 - 11s - loss: 0.1531 - accuracy: 0.9407\n",
      "Epoch 50/50\n",
      "469/469 - 11s - loss: 0.1514 - accuracy: 0.9420\n"
     ]
    }
   ],
   "source": [
    "history = nuevo.fit(x=X_tr, y=Y_tr, batch_size=128, epochs=50, verbose=2)"
   ]
  },
  {
   "cell_type": "code",
   "execution_count": 22,
   "metadata": {},
   "outputs": [
    {
     "data": {
      "text/plain": [
       "[<matplotlib.lines.Line2D at 0x7f445c1199d0>]"
      ]
     },
     "execution_count": 22,
     "metadata": {},
     "output_type": "execute_result"
    },
    {
     "data": {
      "image/png": "[encoded data removed]",
      "text/plain": [
       "<Figure size 432x288 with 1 Axes>"
      ]
     },
     "metadata": {
      "needs_background": "light"
     },
     "output_type": "display_data"
    }
   ],
   "source": [
    "plt.plot(history.history['accuracy'])\n",
    "plt.plot(history.history['loss'])"
   ]
  },
  {
   "cell_type": "code",
   "execution_count": 23,
   "metadata": {},
   "outputs": [
    {
     "name": "stdout",
     "output_type": "stream",
     "text": [
      "313/313 [==============================] - 2s 6ms/step - loss: 0.3695 - accuracy: 0.9022\n"
     ]
    },
    {
     "data": {
      "text/plain": [
       "[0.36947599053382874, 0.9021999835968018]"
      ]
     },
     "execution_count": 23,
     "metadata": {},
     "output_type": "execute_result"
    }
   ],
   "source": [
    "nuevo.evaluate(X_ts,Y_ts)"
   ]
  },
  {
   "cell_type": "markdown",
   "metadata": {},
   "source": [
    "Ahora, usamos el modelo *conv_digist.h5*."
   ]
  },
  {
   "cell_type": "code",
   "execution_count": 24,
   "metadata": {},
   "outputs": [
    {
     "name": "stdout",
     "output_type": "stream",
     "text": [
      "Model: \"sequential\"\n",
      "_________________________________________________________________\n",
      "Layer (type)                 Output Shape              Param #   \n",
      "=================================================================\n",
      "conv2d (Conv2D)              (None, 26, 26, 8)         80        \n",
      "_________________________________________________________________\n",
      "conv2d_1 (Conv2D)            (None, 24, 24, 16)        1168      \n",
      "_________________________________________________________________\n",
      "max_pooling2d (MaxPooling2D) (None, 12, 12, 16)        0         \n",
      "_________________________________________________________________\n",
      "dropout (Dropout)            (None, 12, 12, 16)        0         \n",
      "_________________________________________________________________\n",
      "flatten (Flatten)            (None, 2304)              0         \n",
      "_________________________________________________________________\n",
      "dense (Dense)                (None, 128)               295040    \n",
      "_________________________________________________________________\n",
      "dropout_1 (Dropout)          (None, 128)               0         \n",
      "_________________________________________________________________\n",
      "dense_1 (Dense)              (None, 10)                1290      \n",
      "=================================================================\n",
      "Total params: 297,578\n",
      "Trainable params: 297,578\n",
      "Non-trainable params: 0\n",
      "_________________________________________________________________\n"
     ]
    }
   ],
   "source": [
    "modelo = load_model('conv_digits.h5')\n",
    "modelo.summary()"
   ]
  },
  {
   "cell_type": "code",
   "execution_count": 25,
   "metadata": {},
   "outputs": [],
   "source": [
    "nuevo = Sequential()\n",
    "for ly in range(len(modelo.layers)-3):\n",
    "    nuevo.add(modelo.layers[ly])\n",
    "\n",
    "for ly in nuevo.layers:\n",
    "    ly.trainable = False"
   ]
  },
  {
   "cell_type": "code",
   "execution_count": 26,
   "metadata": {},
   "outputs": [
    {
     "name": "stdout",
     "output_type": "stream",
     "text": [
      "Model: \"sequential_1\"\n",
      "_________________________________________________________________\n",
      "Layer (type)                 Output Shape              Param #   \n",
      "=================================================================\n",
      "conv2d (Conv2D)              (None, 26, 26, 8)         80        \n",
      "_________________________________________________________________\n",
      "conv2d_1 (Conv2D)            (None, 24, 24, 16)        1168      \n",
      "_________________________________________________________________\n",
      "max_pooling2d (MaxPooling2D) (None, 12, 12, 16)        0         \n",
      "_________________________________________________________________\n",
      "dropout (Dropout)            (None, 12, 12, 16)        0         \n",
      "_________________________________________________________________\n",
      "flatten (Flatten)            (None, 2304)              0         \n",
      "=================================================================\n",
      "Total params: 1,248\n",
      "Trainable params: 0\n",
      "Non-trainable params: 1,248\n",
      "_________________________________________________________________\n"
     ]
    }
   ],
   "source": [
    "nuevo.summary()"
   ]
  },
  {
   "cell_type": "code",
   "execution_count": 27,
   "metadata": {},
   "outputs": [],
   "source": [
    "nuevo.add(Dense(128, activation='tanh', name=\"densa_a\" ))\n",
    "nuevo.add(Dropout(0.5, name=\"dropout_a\"))\n",
    "nuevo.add(Dense(64, activation='tanh', name=\"densa_b\" ))\n",
    "nuevo.add((Dropout(0.25, name=\"dropout_b\")))\n",
    "nuevo.add(Dense(10, activation=\"softmax\"))"
   ]
  },
  {
   "cell_type": "code",
   "execution_count": 28,
   "metadata": {},
   "outputs": [
    {
     "name": "stdout",
     "output_type": "stream",
     "text": [
      "Model: \"sequential_1\"\n",
      "_________________________________________________________________\n",
      "Layer (type)                 Output Shape              Param #   \n",
      "=================================================================\n",
      "conv2d (Conv2D)              (None, 26, 26, 8)         80        \n",
      "_________________________________________________________________\n",
      "conv2d_1 (Conv2D)            (None, 24, 24, 16)        1168      \n",
      "_________________________________________________________________\n",
      "max_pooling2d (MaxPooling2D) (None, 12, 12, 16)        0         \n",
      "_________________________________________________________________\n",
      "dropout (Dropout)            (None, 12, 12, 16)        0         \n",
      "_________________________________________________________________\n",
      "flatten (Flatten)            (None, 2304)              0         \n",
      "_________________________________________________________________\n",
      "densa_a (Dense)              (None, 128)               295040    \n",
      "_________________________________________________________________\n",
      "dropout_a (Dropout)          (None, 128)               0         \n",
      "_________________________________________________________________\n",
      "densa_b (Dense)              (None, 64)                8256      \n",
      "_________________________________________________________________\n",
      "dropout_b (Dropout)          (None, 64)                0         \n",
      "_________________________________________________________________\n",
      "dense_2 (Dense)              (None, 10)                650       \n",
      "=================================================================\n",
      "Total params: 305,194\n",
      "Trainable params: 303,946\n",
      "Non-trainable params: 1,248\n",
      "_________________________________________________________________\n"
     ]
    }
   ],
   "source": [
    "nuevo.summary()"
   ]
  },
  {
   "cell_type": "code",
   "execution_count": 29,
   "metadata": {},
   "outputs": [],
   "source": [
    "opt = Adam(learning_rate=1e-3)\n",
    "nuevo.compile(\n",
    "    loss = \"categorical_crossentropy\",\n",
    "    optimizer = opt,\n",
    "    metrics = ['accuracy']\n",
    ")"
   ]
  },
  {
   "cell_type": "code",
   "execution_count": 30,
   "metadata": {},
   "outputs": [
    {
     "name": "stdout",
     "output_type": "stream",
     "text": [
      "Epoch 1/10\n",
      "Epoch 2/10\n",
      "Epoch 3/10\n",
      "Epoch 4/10\n",
      "Epoch 5/10\n",
      "Epoch 6/10\n",
      "Epoch 7/10\n",
      "Epoch 8/10\n",
      "Epoch 9/10\n",
      "Epoch 10/10\n"
     ]
    }
   ],
   "source": [
    "H = nuevo.fit(x=X_tr, y=Y_tr,\n",
    "             batch_size=32,\n",
    "             epochs=10,\n",
    "             verbose=4)"
   ]
  },
  {
   "cell_type": "code",
   "execution_count": 31,
   "metadata": {},
   "outputs": [
    {
     "data": {
      "text/plain": [
       "[<matplotlib.lines.Line2D at 0x7f4421731a90>]"
      ]
     },
     "execution_count": 31,
     "metadata": {},
     "output_type": "execute_result"
    },
    {
     "data": {
      "image/png": "[encoded data removed]",
      "text/plain": [
       "<Figure size 432x288 with 1 Axes>"
      ]
     },
     "metadata": {
      "needs_background": "light"
     },
     "output_type": "display_data"
    }
   ],
   "source": [
    "plt.plot(H.history['accuracy'])\n",
    "plt.plot(H.history['loss'])"
   ]
  },
  {
   "cell_type": "code",
   "execution_count": 32,
   "metadata": {},
   "outputs": [
    {
     "name": "stdout",
     "output_type": "stream",
     "text": [
      "313/313 [==============================] - 3s 10ms/step - loss: 0.3088 - accuracy: 0.8881\n"
     ]
    },
    {
     "data": {
      "text/plain": [
       "[0.3087785243988037, 0.8881000280380249]"
      ]
     },
     "execution_count": 32,
     "metadata": {},
     "output_type": "execute_result"
    }
   ],
   "source": [
    "nuevo.evaluate(X_ts,Y_ts)"
   ]
  },
  {
   "cell_type": "markdown",
   "metadata": {},
   "source": [
    "### VS"
   ]
  },
  {
   "cell_type": "markdown",
   "metadata": {},
   "source": [
    "Podemos notar que la precisión mejoró un poco usando *vgg16*, llegando a un $0.9022%$ de precisión. "
   ]
  }
 ],
 "metadata": {
  "kernelspec": {
   "display_name": "Python 3",
   "language": "python",
   "name": "python3"
  },
  "language_info": {
   "codemirror_mode": {
    "name": "ipython",
    "version": 3
   },
   "file_extension": ".py",
   "mimetype": "text/x-python",
   "name": "python",
   "nbconvert_exporter": "python",
   "pygments_lexer": "ipython3",
   "version": "3.8.3"
  }
 },
 "nbformat": 4,
 "nbformat_minor": 4
}

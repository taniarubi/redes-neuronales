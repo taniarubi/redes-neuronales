{
 "cells": [
  {
   "cell_type": "markdown",
   "metadata": {},
   "source": [
    "# Clasificador de números en MNIST\n",
    "\n",
    "Ocuparemos una red convolucional para clasificar el dataset MNIST"
   ]
  },
  {
   "cell_type": "code",
   "execution_count": 1,
   "metadata": {},
   "outputs": [],
   "source": [
    "import numpy as np\n",
    "np.random.seed(123)\n",
    "from tensorflow.keras.models import Sequential\n",
    "from tensorflow.keras.layers import Dense, Dropout, Flatten, Activation\n",
    "from tensorflow.keras.layers import Convolution2D, MaxPooling2D\n",
    "from tensorflow.keras.utils  import to_categorical\n",
    "\n",
    "import matplotlib\n",
    "%matplotlib inline\n",
    "from matplotlib import pyplot as plt"
   ]
  },
  {
   "cell_type": "markdown",
   "metadata": {},
   "source": [
    "## Dataset\n",
    "\n",
    "Este dataset es un estándar para la clasificación de imágenes. Fue recopilado por Yan LeCun y consta de 60k instancias de entrenamiento y 10 de prueba. El dataset de MNIST lo pueden bajar original de la página de Yan LeCun [acá](http://yann.lecun.com/exdb/mnist/). \n",
    "\n",
    "Viene prácticamente en todas las bibliotecas de aprendizaje de máquina y nosotros lo vamos a usar de Keras."
   ]
  },
  {
   "cell_type": "code",
   "execution_count": 2,
   "metadata": {},
   "outputs": [],
   "source": [
    "from tensorflow.keras.datasets import mnist"
   ]
  },
  {
   "cell_type": "code",
   "execution_count": 3,
   "metadata": {},
   "outputs": [],
   "source": [
    "(X_tr, y_tr), (X_ts, y_ts) = mnist.load_data()"
   ]
  },
  {
   "cell_type": "code",
   "execution_count": 4,
   "metadata": {},
   "outputs": [
    {
     "name": "stdout",
     "output_type": "stream",
     "text": [
      "(60000, 28, 28)\n"
     ]
    }
   ],
   "source": [
    "print( X_tr.shape)"
   ]
  },
  {
   "cell_type": "code",
   "execution_count": 5,
   "metadata": {},
   "outputs": [
    {
     "data": {
      "text/plain": [
       "<matplotlib.image.AxesImage at 0x7f7a716dbb20>"
      ]
     },
     "execution_count": 5,
     "metadata": {},
     "output_type": "execute_result"
    },
    {
     "data": {
      "image/png": "[encoded data removed]",
      "text/plain": [
       "<Figure size 432x288 with 1 Axes>"
      ]
     },
     "metadata": {
      "needs_background": "light"
     },
     "output_type": "display_data"
    }
   ],
   "source": [
    "plt.imshow(X_tr[1])"
   ]
  },
  {
   "cell_type": "markdown",
   "metadata": {},
   "source": [
    "### Ejercicio 1\n",
    "Conozcan el dataset. Hagan una función que agarre 16 imágenes al azar y las grafique en un arreglo."
   ]
  },
  {
   "cell_type": "code",
   "execution_count": 56,
   "metadata": {},
   "outputs": [
    {
     "data": {
      "image/png": "[encoded data removed]",
      "text/plain": [
       "<Figure size 576x576 with 16 Axes>"
      ]
     },
     "metadata": {
      "needs_background": "light"
     },
     "output_type": "display_data"
    }
   ],
   "source": [
    "# Definimos el tamaño de las imágenes.\n",
    "imagen = plt.figure(figsize = (8, 8))\n",
    "color = plt.get_cmap(\"bone\")\n",
    "\n",
    "# Visualizamos las 16 imágenes al azar en un arreglo de 4x4.\n",
    "for i in range (1, 17):\n",
    "    imagen.add_subplot(4, 4, i)\n",
    "    rand = np.random.randint(59999)\n",
    "    plt.imshow(X_tr[rand], cmap = color, interpolation=\"None\")\n",
    "plt.show()"
   ]
  },
  {
   "cell_type": "markdown",
   "metadata": {},
   "source": [
    "## Preprocesamiento de los datos"
   ]
  },
  {
   "cell_type": "markdown",
   "metadata": {},
   "source": [
    "Vamos a convertir nuestras matrices en vectores de dimensión 1. Y como cada imágen va de 0 a 255 y nuestras funciones de activación requieren datos entre 0 y 1, vamos a normalizarlas"
   ]
  },
  {
   "cell_type": "code",
   "execution_count": 7,
   "metadata": {},
   "outputs": [],
   "source": [
    "X_train = X_tr.reshape(X_tr.shape[0], 28, 28, 1)\n",
    "X_test = X_ts.reshape(X_ts.shape[0], 28, 28, 1)"
   ]
  },
  {
   "cell_type": "code",
   "execution_count": 8,
   "metadata": {},
   "outputs": [
    {
     "data": {
      "text/plain": [
       "(60000, 28, 28, 1)"
      ]
     },
     "execution_count": 8,
     "metadata": {},
     "output_type": "execute_result"
    }
   ],
   "source": [
    "X_train.shape"
   ]
  },
  {
   "cell_type": "code",
   "execution_count": 9,
   "metadata": {},
   "outputs": [
    {
     "data": {
      "text/plain": [
       "(28, 28, 1)"
      ]
     },
     "execution_count": 9,
     "metadata": {},
     "output_type": "execute_result"
    }
   ],
   "source": [
    "X_train[0].shape"
   ]
  },
  {
   "cell_type": "code",
   "execution_count": 10,
   "metadata": {},
   "outputs": [],
   "source": [
    "X_train = X_train.astype('float32')\n",
    "X_test = X_test.astype('float32')\n",
    "X_train /= 255\n",
    "X_test /= 255"
   ]
  },
  {
   "cell_type": "code",
   "execution_count": 11,
   "metadata": {},
   "outputs": [
    {
     "name": "stdout",
     "output_type": "stream",
     "text": [
      "[5 0 4 1 9 2 1 3 1 4]\n"
     ]
    }
   ],
   "source": [
    "print(y_tr[:10])"
   ]
  },
  {
   "cell_type": "markdown",
   "metadata": {},
   "source": [
    "Convertimos los datos a categóricos"
   ]
  },
  {
   "cell_type": "code",
   "execution_count": 12,
   "metadata": {},
   "outputs": [],
   "source": [
    "Y_train = to_categorical(y_tr, 10)\n",
    "Y_test  = to_categorical(y_ts, 10)"
   ]
  },
  {
   "cell_type": "code",
   "execution_count": 13,
   "metadata": {},
   "outputs": [
    {
     "name": "stdout",
     "output_type": "stream",
     "text": [
      "(60000,)\n",
      "(60000, 10)\n"
     ]
    }
   ],
   "source": [
    "print(y_tr.shape)\n",
    "print(Y_train.shape)"
   ]
  },
  {
   "cell_type": "markdown",
   "metadata": {},
   "source": [
    "Como pueden ver hubo un cambio en la forma de cada etiqueta de respuesta, en vez de ser un número, paso a ser un vector de tamaño 10 para que podamos usar softmax"
   ]
  },
  {
   "cell_type": "markdown",
   "metadata": {},
   "source": [
    "## Modelo\n",
    "\n",
    "Vamos a agregar capas de convolución sobre nuestros datos. Las dimensiones de entrada las pueden ver como un parámetro `Convolution2D`\n",
    "\n",
    "```python\n",
    "Convolution2D(... , input_shape=(1,28,28))\n",
    "```\n",
    "\n"
   ]
  },
  {
   "cell_type": "code",
   "execution_count": 14,
   "metadata": {},
   "outputs": [],
   "source": [
    "model = Sequential()\n",
    "model.add(Convolution2D(32, kernel_size=(3,3), activation='relu', input_shape=(28,28,1)))"
   ]
  },
  {
   "cell_type": "code",
   "execution_count": 15,
   "metadata": {},
   "outputs": [
    {
     "name": "stdout",
     "output_type": "stream",
     "text": [
      "(None, 26, 26, 32)\n"
     ]
    }
   ],
   "source": [
    "print( model.output_shape)"
   ]
  },
  {
   "cell_type": "code",
   "execution_count": 16,
   "metadata": {},
   "outputs": [],
   "source": [
    "model.add(Convolution2D(64, kernel_size=(3,3)))\n",
    "model.add(MaxPooling2D(pool_size=(2,2)))\n",
    "model.add(Dropout(0.25))"
   ]
  },
  {
   "cell_type": "markdown",
   "metadata": {},
   "source": [
    "Solo pondremos dos capas de parámetro de convolución. Lo que sigue es aplanar la salida del modelo hasta este punto"
   ]
  },
  {
   "cell_type": "code",
   "execution_count": 17,
   "metadata": {},
   "outputs": [
    {
     "data": {
      "text/plain": [
       "(None, 9216)"
      ]
     },
     "execution_count": 17,
     "metadata": {},
     "output_type": "execute_result"
    }
   ],
   "source": [
    "model.add(Flatten())\n",
    "model.output_shape"
   ]
  },
  {
   "cell_type": "markdown",
   "metadata": {},
   "source": [
    "Y ahora agregaremos una capa densa, una de dropout y al final la de softmax"
   ]
  },
  {
   "cell_type": "code",
   "execution_count": 18,
   "metadata": {},
   "outputs": [],
   "source": [
    "model.add(Dense(128))\n",
    "model.add(Dropout(0.5))\n",
    "model.add(Dense(10, activation='softmax'))"
   ]
  },
  {
   "cell_type": "code",
   "execution_count": 19,
   "metadata": {},
   "outputs": [
    {
     "name": "stdout",
     "output_type": "stream",
     "text": [
      "Model: \"sequential\"\n",
      "_________________________________________________________________\n",
      "Layer (type)                 Output Shape              Param #   \n",
      "=================================================================\n",
      "conv2d (Conv2D)              (None, 26, 26, 32)        320       \n",
      "_________________________________________________________________\n",
      "conv2d_1 (Conv2D)            (None, 24, 24, 64)        18496     \n",
      "_________________________________________________________________\n",
      "max_pooling2d (MaxPooling2D) (None, 12, 12, 64)        0         \n",
      "_________________________________________________________________\n",
      "dropout (Dropout)            (None, 12, 12, 64)        0         \n",
      "_________________________________________________________________\n",
      "flatten (Flatten)            (None, 9216)              0         \n",
      "_________________________________________________________________\n",
      "dense (Dense)                (None, 128)               1179776   \n",
      "_________________________________________________________________\n",
      "dropout_1 (Dropout)          (None, 128)               0         \n",
      "_________________________________________________________________\n",
      "dense_1 (Dense)              (None, 10)                1290      \n",
      "=================================================================\n",
      "Total params: 1,199,882\n",
      "Trainable params: 1,199,882\n",
      "Non-trainable params: 0\n",
      "_________________________________________________________________\n"
     ]
    }
   ],
   "source": [
    "model.summary()\n"
   ]
  },
  {
   "cell_type": "markdown",
   "metadata": {},
   "source": [
    "Sólo queda compilarlo"
   ]
  },
  {
   "cell_type": "code",
   "execution_count": 20,
   "metadata": {},
   "outputs": [],
   "source": [
    "model.compile(loss='categorical_crossentropy',\n",
    "              optimizer='adam',\n",
    "              metrics=['accuracy'])"
   ]
  },
  {
   "cell_type": "markdown",
   "metadata": {},
   "source": [
    "## Entrenamiento y evaluación"
   ]
  },
  {
   "cell_type": "code",
   "execution_count": 21,
   "metadata": {},
   "outputs": [
    {
     "name": "stdout",
     "output_type": "stream",
     "text": [
      "Epoch 1/10\n",
      "1875/1875 [==============================] - 173s 92ms/step - loss: 0.1595 - accuracy: 0.9513\n",
      "Epoch 2/10\n",
      "1875/1875 [==============================] - 158s 84ms/step - loss: 0.0822 - accuracy: 0.9754\n",
      "Epoch 3/10\n",
      "1875/1875 [==============================] - 157s 84ms/step - loss: 0.0667 - accuracy: 0.9798\n",
      "Epoch 4/10\n",
      "1875/1875 [==============================] - 157s 84ms/step - loss: 0.0573 - accuracy: 0.9825\n",
      "Epoch 5/10\n",
      "1875/1875 [==============================] - 157s 84ms/step - loss: 0.0484 - accuracy: 0.9847\n",
      "Epoch 6/10\n",
      "1875/1875 [==============================] - 155s 83ms/step - loss: 0.0422 - accuracy: 0.9870\n",
      "Epoch 7/10\n",
      "1875/1875 [==============================] - 151s 81ms/step - loss: 0.0386 - accuracy: 0.9873\n",
      "Epoch 8/10\n",
      "1875/1875 [==============================] - 151s 81ms/step - loss: 0.0338 - accuracy: 0.9892\n",
      "Epoch 9/10\n",
      "1875/1875 [==============================] - 151s 81ms/step - loss: 0.0343 - accuracy: 0.9892\n",
      "Epoch 10/10\n",
      "1875/1875 [==============================] - 152s 81ms/step - loss: 0.0307 - accuracy: 0.9900\n"
     ]
    },
    {
     "data": {
      "text/plain": [
       "<tensorflow.python.keras.callbacks.History at 0x7f7a4079c400>"
      ]
     },
     "execution_count": 21,
     "metadata": {},
     "output_type": "execute_result"
    }
   ],
   "source": [
    "model.fit(X_train, Y_train, \n",
    "          batch_size=32, epochs=10, verbose=1)"
   ]
  },
  {
   "cell_type": "markdown",
   "metadata": {},
   "source": [
    "Ahora debemos evaluar qué tan bien le fue con el conjunto de prueba."
   ]
  },
  {
   "cell_type": "code",
   "execution_count": 22,
   "metadata": {},
   "outputs": [
    {
     "name": "stdout",
     "output_type": "stream",
     "text": [
      "313/313 [==============================] - 6s 19ms/step - loss: 0.0585 - accuracy: 0.9857\n"
     ]
    }
   ],
   "source": [
    "score = model.evaluate(X_test, Y_test)"
   ]
  },
  {
   "cell_type": "code",
   "execution_count": 23,
   "metadata": {},
   "outputs": [
    {
     "name": "stdout",
     "output_type": "stream",
     "text": [
      "Score [0.05849617347121239, 0.9857000112533569]\n"
     ]
    }
   ],
   "source": [
    "print(\"Score {}\".format(score))"
   ]
  },
  {
   "cell_type": "markdown",
   "metadata": {},
   "source": [
    "### Ejercicio 2\n",
    "Agranden su conjunto de entrenamiento construyendo una función que haga una de estas cosas\n",
    "1. Agregue ruido a cada imagen\n",
    "2. Que rote la imagen \n",
    "3. Que las invierta \n",
    "Pueden basarse en esta [liga de SciKit-Learn](https://scikit-learn.org/stable/auto_examples/neural_networks/plot_rbm_logistic_classification.html#sphx-glr-auto-examples-neural-networks-plot-rbm-logistic-classification-py)"
   ]
  },
  {
   "cell_type": "code",
   "execution_count": 27,
   "metadata": {},
   "outputs": [],
   "source": [
    "import cv2\n",
    "\n",
    "# Rotamos las imágenes en un ángulo aleatorio n entre 0 y 15 grados, \n",
    "# según las recomendaciones del Profesor. \n",
    "n = np.random.randint(0, 16)\n",
    "nuevos = []\n",
    "\n",
    "for i in range(0, len(X_tr)):\n",
    "    # Obtenemos la altura y el ancho. \n",
    "    altura, ancho = X_tr[i].shape[0:2]\n",
    "    # Calculamos el centro de la imagen.\n",
    "    centro = (ancho / 2, altura / 2)\n",
    "    # Realizamos la rotación.\n",
    "    M = cv2.getRotationMatrix2D(centro, n, 1.0)\n",
    "    imagen_rotada = cv2.warpAffine(X_tr[i], M, (ancho, altura))\n",
    "    nuevos.append(imagen_rotada)"
   ]
  },
  {
   "cell_type": "markdown",
   "metadata": {},
   "source": [
    "### Preprocesamiento de datos"
   ]
  },
  {
   "cell_type": "code",
   "execution_count": 28,
   "metadata": {},
   "outputs": [],
   "source": [
    "# Agrandamos el conjunto de entrenamiento.\n",
    "X_nuevo = np.concatenate((X_tr, nuevos), axis = 0)\n",
    "y_nueva = np.concatenate((y_tr, y_tr), axis = 0) \n",
    "\n",
    "X_nuevo = X_nuevo.reshape(X_nuevo.shape[0], 28, 28, 1)\n",
    "X_nuevo = X_nuevo.astype('float32')\n",
    "X_nuevo /= 255\n",
    "y_nueva = to_categorical(y_nueva, 10)"
   ]
  },
  {
   "cell_type": "markdown",
   "metadata": {},
   "source": [
    "### Modelo"
   ]
  },
  {
   "cell_type": "code",
   "execution_count": 29,
   "metadata": {},
   "outputs": [
    {
     "name": "stdout",
     "output_type": "stream",
     "text": [
      "Model: \"sequential_2\"\n",
      "_________________________________________________________________\n",
      "Layer (type)                 Output Shape              Param #   \n",
      "=================================================================\n",
      "conv2d_4 (Conv2D)            (None, 26, 26, 32)        320       \n",
      "_________________________________________________________________\n",
      "conv2d_5 (Conv2D)            (None, 24, 24, 64)        18496     \n",
      "_________________________________________________________________\n",
      "max_pooling2d_2 (MaxPooling2 (None, 12, 12, 64)        0         \n",
      "_________________________________________________________________\n",
      "dropout_4 (Dropout)          (None, 12, 12, 64)        0         \n",
      "_________________________________________________________________\n",
      "flatten_2 (Flatten)          (None, 9216)              0         \n",
      "_________________________________________________________________\n",
      "dense_4 (Dense)              (None, 128)               1179776   \n",
      "_________________________________________________________________\n",
      "dropout_5 (Dropout)          (None, 128)               0         \n",
      "_________________________________________________________________\n",
      "dense_5 (Dense)              (None, 10)                1290      \n",
      "=================================================================\n",
      "Total params: 1,199,882\n",
      "Trainable params: 1,199,882\n",
      "Non-trainable params: 0\n",
      "_________________________________________________________________\n"
     ]
    }
   ],
   "source": [
    "model = Sequential()\n",
    "model.add(Convolution2D(32, kernel_size=(3,3), activation='relu', input_shape=(28,28,1)))\n",
    "\n",
    "model.add(Convolution2D(64, kernel_size=(3,3)))\n",
    "model.add(MaxPooling2D(pool_size=(2,2)))\n",
    "model.add(Dropout(0.25))\n",
    "\n",
    "model.add(Flatten())\n",
    "model.output_shape\n",
    "\n",
    "model.add(Dense(128))\n",
    "model.add(Dropout(0.5))\n",
    "model.add(Dense(10, activation='softmax'))\n",
    "\n",
    "model.summary()\n",
    "model.compile(loss='categorical_crossentropy',\n",
    "              optimizer='adam',\n",
    "              metrics=['accuracy'])"
   ]
  },
  {
   "cell_type": "markdown",
   "metadata": {},
   "source": [
    "### Entrenamiento y evaluación"
   ]
  },
  {
   "cell_type": "code",
   "execution_count": 30,
   "metadata": {},
   "outputs": [
    {
     "name": "stdout",
     "output_type": "stream",
     "text": [
      "Epoch 1/10\n",
      "3750/3750 [==============================] - 353s 94ms/step - loss: 0.1430 - accuracy: 0.9566\n",
      "Epoch 2/10\n",
      "3750/3750 [==============================] - 320s 85ms/step - loss: 0.0785 - accuracy: 0.9763\n",
      "Epoch 3/10\n",
      "3750/3750 [==============================] - 325s 87ms/step - loss: 0.0653 - accuracy: 0.9799\n",
      "Epoch 4/10\n",
      "3750/3750 [==============================] - 323s 86ms/step - loss: 0.0557 - accuracy: 0.9831\n",
      "Epoch 5/10\n",
      "3750/3750 [==============================] - 333s 89ms/step - loss: 0.0497 - accuracy: 0.9849\n",
      "Epoch 6/10\n",
      "3750/3750 [==============================] - 324s 87ms/step - loss: 0.0441 - accuracy: 0.9865\n",
      "Epoch 7/10\n",
      "3750/3750 [==============================] - 334s 89ms/step - loss: 0.0420 - accuracy: 0.9868\n",
      "Epoch 8/10\n",
      "3750/3750 [==============================] - 462s 123ms/step - loss: 0.0382 - accuracy: 0.9879\n",
      "Epoch 9/10\n",
      "3750/3750 [==============================] - 451s 120ms/step - loss: 0.0366 - accuracy: 0.9884\n",
      "Epoch 10/10\n",
      "3750/3750 [==============================] - 451s 120ms/step - loss: 0.0368 - accuracy: 0.9890\n",
      "313/313 [==============================] - 10s 31ms/step - loss: 0.0498 - accuracy: 0.9878\n",
      "Score [0.049812138080596924, 0.9878000020980835]\n"
     ]
    }
   ],
   "source": [
    "model.fit(X_nuevo, y_nueva, \n",
    "          batch_size=32, epochs=10, verbose=1)\n",
    "\n",
    "score = model.evaluate(X_test, Y_test)\n",
    "\n",
    "print(\"Score {}\".format(score))"
   ]
  },
  {
   "cell_type": "markdown",
   "metadata": {},
   "source": [
    "### Ejercicio 3\n",
    "Hagan una red neuronal multicapa y comparen la eficiencia de ambas."
   ]
  },
  {
   "cell_type": "code",
   "execution_count": 101,
   "metadata": {},
   "outputs": [],
   "source": [
    "from sklearn.datasets import fetch_openml\n",
    "\n",
    "# Cargamos el conjunto de datos desde https://www.openml.org/d/554\n",
    "X, y = fetch_openml('mnist_784', version = 1, return_X_y = True)\n",
    "X = X / 255.\n",
    "\n",
    "# Cambiamos la escala de los datos para poder manejarlos.\n",
    "X_train, X_test = X[:60000], X[60000:]\n",
    "y_train, y_test = y[:60000], y[60000:]"
   ]
  },
  {
   "cell_type": "code",
   "execution_count": 102,
   "metadata": {},
   "outputs": [
    {
     "name": "stdout",
     "output_type": "stream",
     "text": [
      "Iteration 1, loss = 0.29472131\n",
      "Iteration 2, loss = 0.12177005\n",
      "Iteration 3, loss = 0.08714874\n",
      "Iteration 4, loss = 0.06943661\n",
      "Iteration 5, loss = 0.05769795\n",
      "Iteration 6, loss = 0.04738813\n",
      "Iteration 7, loss = 0.04063357\n",
      "Iteration 8, loss = 0.03374012\n",
      "Iteration 9, loss = 0.02797139\n",
      "Iteration 10, loss = 0.02464722\n",
      "Iteration 11, loss = 0.02036596\n",
      "Iteration 12, loss = 0.01651301\n",
      "Iteration 13, loss = 0.01448737\n",
      "Iteration 14, loss = 0.01197540\n",
      "Iteration 15, loss = 0.00978637\n",
      "Iteration 16, loss = 0.00857836\n",
      "Iteration 17, loss = 0.00701300\n",
      "Iteration 18, loss = 0.00587422\n",
      "Iteration 19, loss = 0.00499287\n",
      "Iteration 20, loss = 0.00426864\n",
      "Iteration 21, loss = 0.00363586\n",
      "Iteration 22, loss = 0.00316218\n",
      "Iteration 23, loss = 0.00298604\n",
      "Iteration 24, loss = 0.00268774\n",
      "Iteration 25, loss = 0.00250510\n",
      "Iteration 26, loss = 0.00231729\n",
      "Iteration 27, loss = 0.00218511\n",
      "Iteration 28, loss = 0.00202351\n",
      "Iteration 29, loss = 0.00190881\n",
      "Iteration 30, loss = 0.00182350\n",
      "Iteration 31, loss = 0.00175271\n",
      "Iteration 32, loss = 0.00165960\n",
      "Iteration 33, loss = 0.00159656\n",
      "Iteration 34, loss = 0.00152794\n",
      "Iteration 35, loss = 0.00147538\n",
      "Iteration 36, loss = 0.00143550\n",
      "Iteration 37, loss = 0.00139026\n",
      "Iteration 38, loss = 0.00134009\n",
      "Iteration 39, loss = 0.00129466\n",
      "Iteration 40, loss = 0.00126505\n",
      "Training loss did not improve more than tol=0.000100 for 10 consecutive epochs. Stopping.\n",
      "(60000, 784) (60000,)\n",
      "Puntación del conjunto de entrenamiento: 1.000000\n",
      "Puntuación del conjunto de prueba:       0.980000\n"
     ]
    }
   ],
   "source": [
    "from sklearn.neural_network import MLPClassifier\n",
    "\n",
    "# Creamos la red neuronal multicapa. \n",
    "mlp = MLPClassifier(hidden_layer_sizes=(100, ), \n",
    "                    max_iter = 480, alpha = 1e-4,\n",
    "                    solver = 'sgd', verbose = 10, \n",
    "                    tol = 1e-4, random_state = 1,\n",
    "                    learning_rate_init = .1)\n",
    "\n",
    "# Entrenamos a la red neuronal.\n",
    "mlp.fit(X_train, y_train)\n",
    "\n",
    "print(X_train.shape, y_train.shape)\n",
    "print(\"Puntación del conjunto de entrenamiento: %f\" % mlp.score(X_train, y_train))\n",
    "print(\"Puntuación del conjunto de prueba:       %f\" % mlp.score(X_test, y_test))"
   ]
  },
  {
   "cell_type": "code",
   "execution_count": 103,
   "metadata": {},
   "outputs": [
    {
     "name": "stdout",
     "output_type": "stream",
     "text": [
      "Exactitud  0.98 \n",
      "\n",
      "              precision    recall  f1-score   support\n",
      "\n",
      "           0       0.98      0.99      0.99       980\n",
      "           1       0.99      0.99      0.99      1135\n",
      "           2       0.98      0.97      0.98      1032\n",
      "           3       0.98      0.98      0.98      1010\n",
      "           4       0.98      0.98      0.98       982\n",
      "           5       0.98      0.97      0.98       892\n",
      "           6       0.98      0.98      0.98       958\n",
      "           7       0.98      0.97      0.98      1028\n",
      "           8       0.97      0.98      0.97       974\n",
      "           9       0.98      0.97      0.98      1009\n",
      "\n",
      "    accuracy                           0.98     10000\n",
      "   macro avg       0.98      0.98      0.98     10000\n",
      "weighted avg       0.98      0.98      0.98     10000\n",
      "\n"
     ]
    }
   ],
   "source": [
    "from sklearn.metrics import classification_report\n",
    "from sklearn.metrics import accuracy_score\n",
    "\n",
    "# Veamos qué tan bien puede clasificar nuestra red.\n",
    "print('Exactitud ', accuracy_score(y_test, mlp.predict(X_test)), '\\n')\n",
    "print(classification_report(y_test, mlp.predict(X_test)))"
   ]
  },
  {
   "cell_type": "markdown",
   "metadata": {},
   "source": [
    "### VS\n",
    "\n",
    "Podemos notar que, con el conjunto original de datos, la exactitud para ambas redes fue de 0.98, la cual es muuuy buena. La única diferencia aquí fue el *tiempo de ejecución*, pues la red convolucional es muchísimo más rápida que la red multicapa. "
   ]
  }
 ],
 "metadata": {
  "kernelspec": {
   "display_name": "Python 3",
   "language": "python",
   "name": "python3"
  },
  "language_info": {
   "codemirror_mode": {
    "name": "ipython",
    "version": 3
   },
   "file_extension": ".py",
   "mimetype": "text/x-python",
   "name": "python",
   "nbconvert_exporter": "python",
   "pygments_lexer": "ipython3",
   "version": "3.8.2"
  }
 },
 "nbformat": 4,
 "nbformat_minor": 2
}

{
 "cells": [
  {
   "cell_type": "markdown",
   "metadata": {},
   "source": [
    "# Ejercicio 4 - Parte 2"
   ]
  },
  {
   "cell_type": "markdown",
   "metadata": {},
   "source": [
    "Generamos el conjunto de datos **Iris**. "
   ]
  },
  {
   "cell_type": "code",
   "execution_count": 32,
   "metadata": {},
   "outputs": [],
   "source": [
    "from sklearn.datasets import load_iris\n",
    "import matplotlib.pyplot as plt \n",
    "\n",
    "# Cargamos el conjunto de datos. \n",
    "iris = load_iris()\n",
    "# Creamos la matriz de características.\n",
    "X = iris.data\n",
    "# Creamos el vector de características.\n",
    "y = iris.target"
   ]
  },
  {
   "cell_type": "code",
   "execution_count": 33,
   "metadata": {},
   "outputs": [
    {
     "data": {
      "image/png": "[encoded data removed]",
      "text/plain": [
       "<Figure size 432x288 with 1 Axes>"
      ]
     },
     "metadata": {
      "needs_background": "light"
     },
     "output_type": "display_data"
    }
   ],
   "source": [
    "# Visualizamos los puntos de entrenamiento.\n",
    "plt.scatter(X[:,0], X[:,1], c = y)\n",
    "plt.xlabel('Largo del sépalo')\n",
    "plt.ylabel('Ancho del sépalo')\n",
    "plt.show()"
   ]
  },
  {
   "cell_type": "markdown",
   "metadata": {},
   "source": [
    "## One - hot encoding"
   ]
  },
  {
   "cell_type": "markdown",
   "metadata": {},
   "source": [
    "Los estímulos (vectores de entrada) son codificados para mostrar un $1$ en entrada correspondiente a su valor, por ejemplo\n",
    "\\begin{equation*}\n",
    "    2 = [0, 0, 1]\n",
    "\\end{equation*}"
   ]
  },
  {
   "cell_type": "code",
   "execution_count": 34,
   "metadata": {},
   "outputs": [],
   "source": [
    "from sklearn.preprocessing import OneHotEncoder\n",
    "\n",
    "y = iris.target.reshape(-1,1)\n",
    "encoder = OneHotEncoder(sparse=False)\n",
    "y = encoder.fit_transform(y)"
   ]
  },
  {
   "cell_type": "markdown",
   "metadata": {},
   "source": [
    "## Softmax"
   ]
  },
  {
   "cell_type": "markdown",
   "metadata": {},
   "source": [
    "Ahora, no sólo queremos un valor entre $0$ y $1$, sino que queremos un vector en el que la salida deseada marque un $1$ y los demás $0$ (o algo cercano, en ambos casos). Es decir, no podemos usar $n$ *sigmoides* porque el valor de cada entrada está condicionada a ser $1$ sólo si los demás dan $0$.\n",
    "\n",
    "Esto se puede lograr con la función *Softmax* que nos da la probabilidad $i$-ésima de cada entrada en el vector aleatorio $x$.\n",
    "\n",
    "\\begin{equation*}\n",
    "    p_i = \\frac{e^{x_i}}{\\sum_{j}^{N} e^{x_j}}\n",
    "\\end{equation*}"
   ]
  },
  {
   "cell_type": "markdown",
   "metadata": {},
   "source": [
    "## Cross-Entropy"
   ]
  },
  {
   "cell_type": "markdown",
   "metadata": {},
   "source": [
    "Pero ahora no podemos usar el *MSE* (ni *MAE*) como nuestra función de error. Debemos usar algo que nos permita ponderar el error de haberle 'atinado' a la entrada deseada con un $1$, y con un $0$ a las demás.\n",
    "\n",
    "*Cross-Entropy* es la función que generaliza a la función que usamos para el caso binario.\n",
    "\n",
    "\\begin{equation*}\n",
    "    CE = \\sum_{i}^{N} y_i \\log (x_i)\n",
    "\\end{equation*}"
   ]
  },
  {
   "cell_type": "markdown",
   "metadata": {},
   "source": [
    "## Parámetros, arquitectura y funciones."
   ]
  },
  {
   "cell_type": "code",
   "execution_count": 35,
   "metadata": {},
   "outputs": [],
   "source": [
    "import numpy as np\n",
    "\n",
    "def sigmoide(z):\n",
    "    return 1 / (1 + np.exp(-z))\n",
    "\n",
    "def sigmoide_prima(x):\n",
    "    return sigmoide(x) * (1 - sigmoide(x))\n",
    "\n",
    "def softmax(A):\n",
    "    expA = np.exp(A)\n",
    "    return expA / expA.sum(axis = 1, keepdims = True)\n",
    "\n",
    "N = X.shape[0]  # número de instancias\n",
    "n = X.shape[1]  # dimensión de instancias\n",
    "nh = 8          # número de neuronas ocultas\n",
    "m = 3           # dimensión salida\n",
    "\n",
    "wh = np.random.rand(n,nh)  # pesos escondidos\n",
    "bh = np.random.randn(nh)   # nodo sesgo escondidos\n",
    "\n",
    "wo = np.random.rand(nh,m)  # pesos salida\n",
    "bo = np.random.randn(m)    # nodo salida\n",
    "lr = 0.00001               # tasa"
   ]
  },
  {
   "cell_type": "markdown",
   "metadata": {},
   "source": [
    "## Entrenamiento usando la función $\\gamma$"
   ]
  },
  {
   "cell_type": "code",
   "execution_count": 36,
   "metadata": {},
   "outputs": [],
   "source": [
    "from sklearn.model_selection import train_test_split\n",
    "\n",
    "# Dividimos nuestro conjunto de datos para poder manejarlo.\n",
    "X_train, X_test, y_train, y_test = train_test_split(X, y)"
   ]
  },
  {
   "cell_type": "code",
   "execution_count": 39,
   "metadata": {},
   "outputs": [
    {
     "name": "stdout",
     "output_type": "stream",
     "text": [
      "logL function value:  30.19332249184574\n",
      "logL function value:  30.06178742473871\n",
      "logL function value:  29.931047182629577\n",
      "logL function value:  29.80109936833518\n",
      "logL function value:  29.67194151467769\n",
      "logL function value:  29.543571086082338\n",
      "logL function value:  29.415985480197026\n",
      "logL function value:  29.289182029530075\n",
      "logL function value:  29.163158003103824\n",
      "logL function value:  29.03791060812051\n",
      "logL function value:  28.91343699163847\n",
      "logL function value:  28.78973424225553\n",
      "logL function value:  28.666799391797483\n",
      "logL function value:  28.5446294170092\n",
      "logL function value:  28.423221241246225\n",
      "logL function value:  28.302571736164808\n",
      "logL function value:  28.182677723408077\n",
      "logL function value:  28.06353597628727\n",
      "logL function value:  27.94514322145531\n",
      "logL function value:  27.827496140571895\n",
      "logL function value:  27.71059137195786\n",
      "logL function value:  27.59442551223804\n",
      "logL function value:  27.478995117970662\n",
      "logL function value:  27.364296707262497\n",
      "logL function value:  27.250326761368086\n",
      "logL function value:  27.137081726272562\n",
      "logL function value:  27.024558014256314\n",
      "logL function value:  26.912752005441153\n",
      "logL function value:  26.801660049316933\n",
      "logL function value:  26.6912784662476\n",
      "logL function value:  26.581603548956206\n",
      "logL function value:  26.4726315639882\n",
      "logL function value:  26.36435875315224\n",
      "logL function value:  26.256781334938125\n",
      "logL function value:  26.149895505911346\n",
      "logL function value:  26.043697442083644\n",
      "logL function value:  25.93818330025959\n",
      "logL function value:  25.833349219358418\n",
      "logL function value:  25.729191321711106\n",
      "logL function value:  25.625705714332458\n",
      "logL function value:  25.522888490167833\n",
      "logL function value:  25.420735729314444\n",
      "logL function value:  25.31924350021744\n",
      "logL function value:  25.218407860839875\n",
      "logL function value:  25.118224859807633\n",
      "logL function value:  25.01869053752825\n",
      "logL function value:  24.919800927284385\n",
      "logL function value:  24.821552056301698\n",
      "logL function value:  24.72393994679104\n",
      "logL function value:  24.626960616965576\n",
      "logL function value:  24.53061008203249\n",
      "logL function value:  24.43488435515952\n",
      "logL function value:  24.339779448416735\n",
      "logL function value:  24.24529137369348\n",
      "logL function value:  24.151416143590833\n",
      "logL function value:  24.058149772289717\n",
      "logL function value:  23.96548827639507\n",
      "logL function value:  23.873427675756023\n",
      "logL function value:  23.781963994262767\n",
      "logL function value:  23.69109326062008\n",
      "logL function value:  23.600811509097852\n",
      "logL function value:  23.511114780259057\n",
      "logL function value:  23.421999121665383\n",
      "logL function value:  23.333460588560722\n",
      "logL function value:  23.24549524453323\n",
      "logL function value:  23.158099162155686\n",
      "logL function value:  23.071268423605314\n",
      "logL function value:  22.984999121262373\n",
      "logL function value:  22.89928735828895\n",
      "logL function value:  22.81412924918752\n",
      "logL function value:  22.72952092033988\n",
      "logL function value:  22.645458510527078\n",
      "logL function value:  22.561938171430185\n",
      "logL function value:  22.478956068112694\n",
      "logL function value:  22.396508379484768\n",
      "logL function value:  22.314591298749605\n",
      "logL function value:  22.233201033832486\n",
      "logL function value:  22.152333807792612\n",
      "logL function value:  22.071985859218376\n",
      "logL function value:  21.99215344260618\n",
      "logL function value:  21.912832828723296\n",
      "logL function value:  21.834020304955075\n",
      "logL function value:  21.755712175636916\n",
      "logL function value:  21.67790476237127\n",
      "logL function value:  21.600594404330067\n",
      "logL function value:  21.523777458542845\n",
      "logL function value:  21.447450300171077\n",
      "logL function value:  21.371609322768848\n",
      "logL function value:  21.296250938530438\n",
      "logL function value:  21.221371578524774\n",
      "logL function value:  21.146967692917563\n",
      "logL function value:  21.073035751181077\n",
      "logL function value:  20.99957224229191\n",
      "logL function value:  20.92657367491724\n",
      "logL function value:  20.85403657758976\n",
      "logL function value:  20.781957498871563\n",
      "logL function value:  20.710333007507376\n",
      "logL function value:  20.639159692567322\n",
      "logL function value:  20.56843416357956\n",
      "logL function value:  20.498153050653148\n",
      "logL function value:  20.428313004591306\n",
      "logL function value:  20.358910696995416\n",
      "logL function value:  20.28994282035999\n",
      "logL function value:  20.221406088158844\n",
      "logL function value:  20.153297234922917\n",
      "logL function value:  20.085613016309672\n",
      "logL function value:  20.01835020916477\n",
      "logL function value:  19.951505611575662\n",
      "logL function value:  19.885076042918016\n",
      "logL function value:  19.81905834389474\n",
      "logL function value:  19.753449376567836\n",
      "logL function value:  19.688246024383716\n",
      "logL function value:  19.62344519219174\n",
      "logL function value:  19.559043806256405\n",
      "logL function value:  19.495038814263538\n",
      "logL function value:  19.431427185320246\n",
      "logL function value:  19.368205909949396\n",
      "logL function value:  19.305372000078343\n",
      "logL function value:  19.242922489022405\n",
      "logL function value:  19.180854431463118\n",
      "logL function value:  19.119164903421535\n",
      "logL function value:  19.05785100222667\n",
      "logL function value:  18.996909846479348\n",
      "logL function value:  18.936338576011458\n",
      "logL function value:  18.876134351841195\n",
      "logL function value:  18.81629435612382\n",
      "logL function value:  18.75681579209869\n",
      "logL function value:  18.69769588403229\n",
      "logL function value:  18.638931877157816\n",
      "logL function value:  18.580521037610865\n",
      "logL function value:  18.522460652362206\n",
      "logL function value:  18.464748029146797\n",
      "logL function value:  18.407380496390147\n",
      "logL function value:  18.350355403131374\n",
      "logL function value:  18.293670118943567\n",
      "logL function value:  18.237322033851335\n",
      "logL function value:  18.181308558245817\n",
      "logL function value:  18.125627122797116\n",
      "logL function value:  18.070275178364504\n",
      "logL function value:  18.015250195904127\n",
      "logL function value:  17.960549666374853\n",
      "logL function value:  17.906171100641668\n",
      "logL function value:  17.852112029377537\n",
      "logL function value:  17.798370002963146\n",
      "logL function value:  17.744942591384945\n",
      "logL function value:  17.691827384131642\n",
      "logL function value:  17.63902199008886\n",
      "logL function value:  17.58652403743254\n",
      "logL function value:  17.53433117352097\n",
      "logL function value:  17.482441064785203\n",
      "logL function value:  17.430851396618632\n",
      "logL function value:  17.379559873265052\n",
      "logL function value:  17.328564217705757\n",
      "logL function value:  17.277862171545824\n",
      "logL function value:  17.227451494899064\n",
      "logL function value:  17.17732996627248\n",
      "logL function value:  17.12749538244965\n",
      "logL function value:  17.077945558373447\n",
      "logL function value:  17.028678327028167\n",
      "logL function value:  16.979691539320896\n",
      "logL function value:  16.9309830639623\n",
      "logL function value:  16.882550787347146\n",
      "logL function value:  16.834392613434005\n",
      "logL function value:  16.786506463624875\n",
      "logL function value:  16.7388902766442\n",
      "logL function value:  16.691542008417773\n",
      "logL function value:  16.644459631951282\n",
      "logL function value:  16.597641137208626\n",
      "logL function value:  16.551084530990174\n",
      "logL function value:  16.504787836810724\n",
      "logL function value:  16.458749094777602\n",
      "logL function value:  16.41296636146842\n",
      "logL function value:  16.367437709809177\n",
      "logL function value:  16.322161228952083\n",
      "logL function value:  16.27713502415355\n",
      "logL function value:  16.232357216652385\n",
      "logL function value:  16.187825943547914\n",
      "logL function value:  16.14353935767846\n",
      "logL function value:  16.099495627499856\n",
      "logL function value:  16.055692936964334\n",
      "logL function value:  16.012129485399456\n",
      "logL function value:  15.968803487387449\n",
      "logL function value:  15.92571317264491\n",
      "logL function value:  15.882856785902655\n",
      "logL function value:  15.840232586786032\n",
      "logL function value:  15.797838849695584\n",
      "logL function value:  15.755673863688058\n",
      "logL function value:  15.713735932357881\n",
      "logL function value:  15.672023373719071\n",
      "logL function value:  15.630534520087501\n",
      "logL function value:  15.589267717963745\n",
      "logL function value:  15.548221327916366\n",
      "logL function value:  15.507393724465683\n",
      "logL function value:  15.466783295968071\n",
      "logL function value:  15.426388444500816\n",
      "logL function value:  15.386207585747472\n",
      "logL function value:  15.34623914888377\n",
      "logL function value:  15.306481576464208\n",
      "logL function value:  15.266933324309056\n",
      "logL function value:  15.227592861392026\n",
      "logL function value:  15.188458669728647\n",
      "logL function value:  15.149529244265196\n",
      "logL function value:  15.110803092768059\n",
      "logL function value:  15.07227873571404\n"
     ]
    },
    {
     "name": "stdout",
     "output_type": "stream",
     "text": [
      "logL function value:  15.033954706181127\n",
      "logL function value:  14.995829549739963\n",
      "logL function value:  14.957901824345962\n",
      "logL function value:  14.920170100232045\n",
      "logL function value:  14.882632959802129\n",
      "logL function value:  14.845288997525287\n",
      "logL function value:  14.808136819830514\n",
      "logL function value:  14.771175045002233\n",
      "logL function value:  14.734402303076557\n",
      "logL function value:  14.697817235738086\n",
      "logL function value:  14.6614184962176\n",
      "logL function value:  14.625204749190297\n",
      "logL function value:  14.58917467067477\n",
      "logL function value:  14.55332694793283\n",
      "logL function value:  14.517660279369835\n",
      "logL function value:  14.482173374435938\n",
      "logL function value:  14.446864953527886\n",
      "logL function value:  14.411733747891667\n",
      "logL function value:  14.376778499525717\n",
      "logL function value:  14.341997961085088\n",
      "logL function value:  14.30739089578609\n",
      "logL function value:  14.272956077311878\n",
      "logL function value:  14.238692289718525\n",
      "logL function value:  14.20459832734206\n",
      "logL function value:  14.170672994706056\n",
      "logL function value:  14.136915106430052\n",
      "logL function value:  14.10332348713856\n",
      "logL function value:  14.069896971371048\n",
      "logL function value:  14.036634403492265\n",
      "logL function value:  14.0035346376037\n",
      "logL function value:  13.970596537455396\n",
      "logL function value:  13.937818976358773\n",
      "logL function value:  13.905200837099965\n",
      "logL function value:  13.872741011853968\n",
      "logL function value:  13.840438402099437\n",
      "logL function value:  13.808291918534307\n",
      "logL function value:  13.776300480991972\n",
      "logL function value:  13.744463018358262\n",
      "logL function value:  13.712778468489084\n",
      "logL function value:  13.68124577812879\n",
      "logL function value:  13.649863902829281\n",
      "logL function value:  13.618631806869638\n",
      "logL function value:  13.587548463176677\n",
      "logL function value:  13.55661285324598\n",
      "logL function value:  13.52582396706372\n",
      "logL function value:  13.495180803029188\n"
     ]
    }
   ],
   "source": [
    "J = []\n",
    "for epoca in range (50000):\n",
    "    # Retropropagacion\n",
    "    \n",
    "    # Feed forward\n",
    "    zh = np.dot(X_train, wh) + bh   # activación escondidas\n",
    "    ah = sigmoide(zh)               # disparo escondidas (neuronas escondidas)\n",
    "\n",
    "    zo = np.dot(ah, wo) + bo        # activacion salida \n",
    "    ao = softmax(zo)                # disparo salida (neuronas salida)\n",
    "    \n",
    "    # Envío de error hacia atrás\n",
    "    \n",
    "    # Capa salida - escondida  \n",
    "    error = ao - y_train\n",
    "\n",
    "    deltas_wo = np.dot(ah.T, error)\n",
    "    deltas_bo = error\n",
    "\n",
    "    # Capa escondida - entrada\n",
    "    temp_dah = np.dot(error , wo.T)\n",
    "    deriv_h = sigmoide_prima(zh)\n",
    "\n",
    "    deltas_wh = np.dot(X_train.T, deriv_h * temp_dah)\n",
    "    deltas_bh = temp_dah * deriv_h\n",
    "\n",
    "    # Actualizacion de pesos\n",
    "    wh -= lr * deltas_wh\n",
    "    bh -= lr * deltas_bh.sum(axis=0)\n",
    "\n",
    "    wo -= lr * deltas_wo\n",
    "    bo -= lr * deltas_bo.sum(axis=0)\n",
    "    \n",
    "    if epoca % 200 == 0:\n",
    "        logL = np.sum(-y_train * np.log(ao))\n",
    "        print('logL function value: ', logL)\n",
    "        J.append(logL)"
   ]
  },
  {
   "cell_type": "code",
   "execution_count": 40,
   "metadata": {},
   "outputs": [
    {
     "data": {
      "text/plain": [
       "[<matplotlib.lines.Line2D at 0x7f6137466460>]"
      ]
     },
     "execution_count": 40,
     "metadata": {},
     "output_type": "execute_result"
    },
    {
     "data": {
      "image/png": "[encoded data removed]",
      "text/plain": [
       "<Figure size 432x288 with 1 Axes>"
      ]
     },
     "metadata": {
      "needs_background": "light"
     },
     "output_type": "display_data"
    }
   ],
   "source": [
    "plt.plot(J[2:])"
   ]
  },
  {
   "cell_type": "markdown",
   "metadata": {},
   "source": [
    "Finalmente, utilizamos la función"
   ]
  },
  {
   "cell_type": "code",
   "execution_count": 41,
   "metadata": {},
   "outputs": [],
   "source": [
    "def predict(wh, wo, fact1, fact2, x):\n",
    "    zh = np.dot(x.T, wh) + bh           # activacion escondidas\n",
    "    ah = fact1(zh)                      # disparo escondidas (neuronas escondidas)\n",
    "    \n",
    "    zo = np.dot(ah, wo) + bo            # activacion salida \n",
    "    ao = fact2(zo)                      # disparo salida (neuronas salida)\n",
    "    return ao"
   ]
  },
  {
   "cell_type": "markdown",
   "metadata": {},
   "source": [
    "para clasificar los estímulos solicitados:"
   ]
  },
  {
   "cell_type": "code",
   "execution_count": 43,
   "metadata": {},
   "outputs": [
    {
     "name": "stdout",
     "output_type": "stream",
     "text": [
      "[[0.96800806 0.02926022 0.00273171]]\n",
      "[[0.96823689 0.02905003 0.00271307]]\n",
      "[[0.00214928 0.03275745 0.96509327]]\n"
     ]
    }
   ],
   "source": [
    "v1 = np.array([[5.97],[4.20],[1.23],[0.25]])\n",
    "v2 = np.array([[6.80],[5.00],[1.25],[1.20]])\n",
    "v3 = np.array([[12.50],[9.20],[40.32],[21.55]])\n",
    "\n",
    "p1 = predict(wh, wo, sigmoide, softmax, v1)\n",
    "p2 = predict(wh, wo, sigmoide, softmax, v2)\n",
    "p3 = predict(wh, wo, sigmoide, softmax, v3)\n",
    "\n",
    "print(p1)\n",
    "print(p2)\n",
    "print(p3)"
   ]
  }
 ],
 "metadata": {
  "kernelspec": {
   "display_name": "Python 3",
   "language": "python",
   "name": "python3"
  },
  "language_info": {
   "codemirror_mode": {
    "name": "ipython",
    "version": 3
   },
   "file_extension": ".py",
   "mimetype": "text/x-python",
   "name": "python",
   "nbconvert_exporter": "python",
   "pygments_lexer": "ipython3",
   "version": "3.8.2"
  }
 },
 "nbformat": 4,
 "nbformat_minor": 4
}

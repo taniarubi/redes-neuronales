{
 "cells": [
  {
   "cell_type": "markdown",
   "metadata": {},
   "source": [
    "# Ejercicio 4 - Parte 2"
   ]
  },
  {
   "cell_type": "markdown",
   "metadata": {},
   "source": [
    "Generamos el conjunto de datos **Iris**. "
   ]
  },
  {
   "cell_type": "code",
   "execution_count": 2,
   "metadata": {},
   "outputs": [],
   "source": [
    "from sklearn.datasets import load_iris\n",
    "import matplotlib.pyplot as plt \n",
    "\n",
    "# Cargamos el conjunto de datos. \n",
    "iris = load_iris()\n",
    "# Creamos la matriz de características.\n",
    "X = iris.data\n",
    "# Creamos el vector de características.\n",
    "y = iris.target"
   ]
  },
  {
   "cell_type": "code",
   "execution_count": 134,
   "metadata": {},
   "outputs": [
    {
     "data": {
      "image/png": "[encoded data removed]",
      "text/plain": [
       "<Figure size 432x288 with 1 Axes>"
      ]
     },
     "metadata": {
      "needs_background": "light"
     },
     "output_type": "display_data"
    }
   ],
   "source": [
    "# Visualizamos los puntos de entrenamiento.\n",
    "plt.scatter(X[:,0], X[:,1], c = y)\n",
    "plt.xlabel('Largo del sépalo')\n",
    "plt.ylabel('Ancho del sépalo')\n",
    "plt.show()"
   ]
  },
  {
   "cell_type": "markdown",
   "metadata": {},
   "source": [
    "## One - hot encoding"
   ]
  },
  {
   "cell_type": "markdown",
   "metadata": {},
   "source": [
    "Los estímulos (vectores de entrada) son codificados para mostrar un $1$ en entrada correspondiente a su valor, por ejemplo\n",
    "\\begin{equation*}\n",
    "    2 = [0, 0, 1]\n",
    "\\end{equation*}"
   ]
  },
  {
   "cell_type": "code",
   "execution_count": 135,
   "metadata": {},
   "outputs": [],
   "source": [
    "from sklearn.preprocessing import OneHotEncoder\n",
    "\n",
    "y = iris.target.reshape(-1,1)\n",
    "encoder = OneHotEncoder(sparse=False)\n",
    "y = encoder.fit_transform(y)"
   ]
  },
  {
   "cell_type": "markdown",
   "metadata": {},
   "source": [
    "## Softmax"
   ]
  },
  {
   "cell_type": "markdown",
   "metadata": {},
   "source": [
    "Ahora, no sólo queremos un valor entre $0$ y $1$, sino que queremos un vector en el que la salida deseada marque un $1$ y los demás $0$ (o algo cercano, en ambos casos). Es decir, no podemos usar $n$ *sigmoides* porque el valor de cada entrada está condicionada a ser $1$ sólo si los demás dan $0$.\n",
    "\n",
    "Esto se puede lograr con la función *Softmax* que nos da la probabilidad $i$-ésima de cada entrada en el vector aleatorio $x$.\n",
    "\n",
    "\\begin{equation*}\n",
    "    p_i = \\frac{e^{x_i}}{\\sum_{j}^{N} e^{x_j}}\n",
    "\\end{equation*}"
   ]
  },
  {
   "cell_type": "markdown",
   "metadata": {},
   "source": [
    "## Cross-Entropy"
   ]
  },
  {
   "cell_type": "markdown",
   "metadata": {},
   "source": [
    "Pero ahora no podemos usar el *MSE* (ni *MAE*) como nuestra función de error. Debemos usar algo que nos permita ponderar el error de haberle 'atinado' a la entrada deseada con un $1$, y con un $0$ a las demás.\n",
    "\n",
    "*Cross-Entropy* es la función que generaliza a la función que usamos para el caso binario.\n",
    "\n",
    "\\begin{equation*}\n",
    "    CE = \\sum_{i}^{N} y_i \\log (x_i)\n",
    "\\end{equation*}"
   ]
  },
  {
   "cell_type": "markdown",
   "metadata": {},
   "source": [
    "## Parámetros, arquitectura y funciones."
   ]
  },
  {
   "cell_type": "code",
   "execution_count": 136,
   "metadata": {},
   "outputs": [],
   "source": [
    "import numpy as np\n",
    "\n",
    "def sigmoide(z):\n",
    "    return 1 / (1 + np.exp(-z))\n",
    "\n",
    "def sigmoide_prima(x):\n",
    "    return sigmoide(x) * (1 - sigmoide(x))\n",
    "\n",
    "def softmax(A):\n",
    "    expA = np.exp(A)\n",
    "    return expA / expA.sum(axis = 1, keepdims = True)\n",
    "\n",
    "N = X.shape[0]  # número de instancias\n",
    "n = X.shape[1]  # dimensión de instancias\n",
    "nh = 8          # número de neuronas ocultas\n",
    "m = 3           # dimensión salida\n",
    "\n",
    "wh = np.random.rand(n,nh)  # pesos escondidos\n",
    "bh = np.random.randn(nh)   # nodo sesgo escondidos\n",
    "\n",
    "wo = np.random.rand(nh,m)  # pesos salida\n",
    "bo = np.random.randn(m)    # nodo salida\n",
    "lr = 0.00001               # tasa"
   ]
  },
  {
   "cell_type": "markdown",
   "metadata": {},
   "source": [
    "## Entrenamiento usando la función $\\gamma$"
   ]
  },
  {
   "cell_type": "code",
   "execution_count": 1,
   "metadata": {},
   "outputs": [
    {
     "ename": "NameError",
     "evalue": "name 'X' is not defined",
     "output_type": "error",
     "traceback": [
      "\u001b[0;31m---------------------------------------------------------------------------\u001b[0m",
      "\u001b[0;31mNameError\u001b[0m                                 Traceback (most recent call last)",
      "\u001b[0;32m<ipython-input-1-4ea63d6667c7>\u001b[0m in \u001b[0;36m<module>\u001b[0;34m\u001b[0m\n\u001b[1;32m      2\u001b[0m \u001b[0;34m\u001b[0m\u001b[0m\n\u001b[1;32m      3\u001b[0m \u001b[0;31m# Dividimos nuestro conjunto de datos para poder manejarlo.\u001b[0m\u001b[0;34m\u001b[0m\u001b[0;34m\u001b[0m\u001b[0;34m\u001b[0m\u001b[0m\n\u001b[0;32m----> 4\u001b[0;31m \u001b[0mX_train\u001b[0m\u001b[0;34m,\u001b[0m \u001b[0mX_test\u001b[0m\u001b[0;34m,\u001b[0m \u001b[0my_train\u001b[0m\u001b[0;34m,\u001b[0m \u001b[0my_test\u001b[0m \u001b[0;34m=\u001b[0m \u001b[0mtrain_test_split\u001b[0m\u001b[0;34m(\u001b[0m\u001b[0mX\u001b[0m\u001b[0;34m,\u001b[0m \u001b[0my\u001b[0m\u001b[0;34m)\u001b[0m\u001b[0;34m\u001b[0m\u001b[0;34m\u001b[0m\u001b[0m\n\u001b[0m",
      "\u001b[0;31mNameError\u001b[0m: name 'X' is not defined"
     ]
    }
   ],
   "source": [
    "from sklearn.model_selection import train_test_split\n",
    "\n",
    "# Dividimos nuestro conjunto de datos para poder manejarlo.\n",
    "X_train, X_test, y_train, y_test = train_test_split(X, y)"
   ]
  },
  {
   "cell_type": "code",
   "execution_count": 138,
   "metadata": {},
   "outputs": [
    {
     "name": "stdout",
     "output_type": "stream",
     "text": [
      "logL function value:  209.47029251602657\n",
      "logL function value:  148.54512524518546\n",
      "logL function value:  128.7081739443053\n",
      "logL function value:  122.99766462922956\n",
      "logL function value:  121.10951755903932\n",
      "logL function value:  120.24184870446865\n",
      "logL function value:  119.61760023129685\n",
      "logL function value:  119.01012038821554\n",
      "logL function value:  118.348052238489\n",
      "logL function value:  117.60692307855774\n",
      "logL function value:  116.78089915903453\n",
      "logL function value:  115.87656126842826\n",
      "logL function value:  114.91065413775438\n",
      "logL function value:  113.90583536923928\n",
      "logL function value:  112.88420387072479\n",
      "logL function value:  111.86169287201747\n",
      "logL function value:  110.84611425701237\n",
      "logL function value:  109.83879029431102\n",
      "logL function value:  108.83765259930504\n",
      "logL function value:  107.83986456188296\n",
      "logL function value:  106.84324781760976\n",
      "logL function value:  105.84670233386088\n",
      "logL function value:  104.85008270810565\n",
      "logL function value:  103.85390155170188\n",
      "logL function value:  102.85905557591589\n",
      "logL function value:  101.86663780811301\n",
      "logL function value:  100.87783114071169\n",
      "logL function value:  99.89385599349444\n",
      "logL function value:  98.91594580453571\n",
      "logL function value:  97.94533283047824\n",
      "logL function value:  96.98323544455889\n",
      "logL function value:  96.03084406251057\n",
      "logL function value:  95.08930592613936\n",
      "logL function value:  94.1597100794753\n",
      "logL function value:  93.24307388713106\n",
      "logL function value:  92.34033202033379\n",
      "logL function value:  91.4523283436574\n",
      "logL function value:  90.57981073829994\n",
      "logL function value:  89.72342863770312\n",
      "logL function value:  88.88373291307423\n",
      "logL function value:  88.06117769619027\n",
      "logL function value:  87.25612373169824\n",
      "logL function value:  86.46884288560935\n",
      "logL function value:  85.6995234839712\n",
      "logL function value:  84.94827620581546\n",
      "logL function value:  84.21514030218204\n",
      "logL function value:  83.50008995598954\n",
      "logL function value:  82.80304063505682\n",
      "logL function value:  82.12385532277725\n",
      "logL function value:  81.46235053825343\n",
      "logL function value:  80.81830208065779\n",
      "logL function value:  80.19145045173076\n",
      "logL function value:  79.58150592615868\n",
      "logL function value:  78.98815325252258\n",
      "logL function value:  78.4110559779657\n",
      "logL function value:  77.84986039803519\n",
      "logL function value:  77.30419913962135\n",
      "logL function value:  76.77369438981704\n",
      "logL function value:  76.25796078710253\n",
      "logL function value:  75.75660799374108\n",
      "logL function value:  75.26924296984645\n",
      "logL function value:  74.79547197042409\n",
      "logL function value:  74.33490228694149\n",
      "logL function value:  73.88714375477772\n",
      "logL function value:  73.45181004734832\n",
      "logL function value:  73.02851977688434\n",
      "logL function value:  72.61689742084977\n",
      "logL function value:  72.21657409185798\n",
      "logL function value:  71.82718816776126\n",
      "logL function value:  71.44838579736049\n",
      "logL function value:  71.07982129596206\n",
      "logL function value:  70.7211574438071\n",
      "logL function value:  70.37206569923825\n",
      "logL function value:  70.03222633736263\n",
      "logL function value:  69.70132852392373\n",
      "logL function value:  69.37907033311521\n",
      "logL function value:  69.06515871715948\n",
      "logL function value:  68.75930943463291\n",
      "logL function value:  68.46124694374693\n",
      "logL function value:  68.17070426608865\n",
      "logL function value:  67.88742282568188\n",
      "logL function value:  67.61115226764748\n",
      "logL function value:  67.34165026021726\n",
      "logL function value:  67.07868228338133\n",
      "logL function value:  66.82202140702637\n",
      "logL function value:  66.57144806104233\n",
      "logL function value:  66.32674979953758\n",
      "logL function value:  66.08772106100187\n",
      "logL function value:  65.85416292599167\n",
      "logL function value:  65.62588287367667\n",
      "logL function value:  65.40269453838019\n",
      "logL function value:  65.1844174670658\n",
      "logL function value:  64.9708768785649\n",
      "logL function value:  64.76190342520283\n",
      "logL function value:  64.55733295736533\n",
      "logL function value:  64.35700629144569\n",
      "logL function value:  64.16076898153051\n",
      "logL function value:  63.968471095112164\n",
      "logL function value:  63.77996699306041\n",
      "logL function value:  63.59511511404318\n",
      "logL function value:  63.4137777635552\n",
      "logL function value:  63.235820907693444\n",
      "logL function value:  63.06111397180963\n",
      "logL function value:  62.88952964417154\n",
      "logL function value:  62.72094368477653\n",
      "logL function value:  62.555234739482785\n",
      "logL function value:  62.39228415965499\n",
      "logL function value:  62.23197582756316\n",
      "logL function value:  62.07419598782333\n",
      "logL function value:  61.9188330852304\n",
      "logL function value:  61.76577760940104\n",
      "logL function value:  61.614921946723086\n",
      "logL function value:  61.466160240192096\n",
      "logL function value:  61.319388257806864\n",
      "logL function value:  61.174503270290785\n",
      "logL function value:  61.03140393900339\n",
      "logL function value:  60.88999021500257\n",
      "logL function value:  60.7501632503097\n",
      "logL function value:  60.61182532251195\n",
      "logL function value:  60.47487977390305\n",
      "logL function value:  60.33923096640976\n",
      "logL function value:  60.20478425356741\n",
      "logL function value:  60.071445970787934\n",
      "logL function value:  59.93912344509735\n",
      "logL function value:  59.807725025398746\n",
      "logL function value:  59.67716013413282\n",
      "logL function value:  59.5473393409539\n",
      "logL function value:  59.41817445870835\n",
      "logL function value:  59.289578661593566\n",
      "logL function value:  59.1614666248884\n",
      "logL function value:  59.033754685087985\n",
      "logL function value:  58.906361018657606\n",
      "logL function value:  58.7792058369606\n",
      "logL function value:  58.652211594239716\n",
      "logL function value:  58.52530320487026\n",
      "logL function value:  58.39840826549358\n",
      "logL function value:  58.271457277121634\n",
      "logL function value:  58.14438386191759\n",
      "logL function value:  58.01712496914196\n",
      "logL function value:  57.88962106474119\n",
      "logL function value:  57.7618162992664\n",
      "logL function value:  57.633658649255175\n",
      "logL function value:  57.505100027877475\n",
      "logL function value:  57.37609636151882\n",
      "logL function value:  57.2466076300051\n",
      "logL function value:  57.11659786931342\n",
      "logL function value:  56.98603513679738\n",
      "logL function value:  56.85489144011691\n",
      "logL function value:  56.723142632139044\n",
      "logL function value:  56.59076827500655\n",
      "logL function value:  56.457751477316236\n",
      "logL function value:  56.32407870887709\n",
      "logL function value:  56.1897395978199\n",
      "logL function value:  56.05472671491182\n",
      "logL function value:  55.91903534980994\n",
      "logL function value:  55.78266328369977\n",
      "logL function value:  55.645610562345716\n",
      "logL function value:  55.50787927307074\n",
      "logL function value:  55.36947332862198\n",
      "logL function value:  55.230398260303716\n",
      "logL function value:  55.090661022197274\n",
      "logL function value:  54.95026980776394\n",
      "logL function value:  54.80923387965461\n",
      "logL function value:  54.66756341314185\n",
      "logL function value:  54.525269353245456\n",
      "logL function value:  54.38236328534531\n",
      "logL function value:  54.23885731885767\n",
      "logL function value:  54.094763983389555\n",
      "logL function value:  53.95009613667259\n",
      "logL function value:  53.80486688350463\n",
      "logL function value:  53.65908950488842\n",
      "logL function value:  53.512777396543754\n",
      "logL function value:  53.36594401597709\n",
      "logL function value:  53.218602837315856\n",
      "logL function value:  53.07076731314831\n",
      "logL function value:  52.922450842650804\n",
      "logL function value:  52.773666745330246\n",
      "logL function value:  52.624428239756625\n",
      "logL function value:  52.474748426709155\n",
      "logL function value:  52.32464027620732\n",
      "logL function value:  52.17411661794323\n",
      "logL function value:  52.02319013467709\n",
      "logL function value:  51.87187335819745\n",
      "logL function value:  51.72017866748767\n",
      "logL function value:  51.56811828877589\n",
      "logL function value:  51.415704297178266\n",
      "logL function value:  51.262948619676926\n",
      "logL function value:  51.109863039200995\n",
      "logL function value:  50.956459199605334\n",
      "logL function value:  50.80274861136418\n",
      "logL function value:  50.64874265781866\n",
      "logL function value:  50.4944526018355\n",
      "logL function value:  50.33988959275221\n",
      "logL function value:  50.185064673499085\n",
      "logL function value:  50.02998878780264\n",
      "logL function value:  49.87467278738783\n",
      "logL function value:  49.71912743910728\n",
      "logL function value:  49.56336343193653\n",
      "logL function value:  49.4073913837831\n",
      "logL function value:  49.2512218480651\n",
      "logL function value:  49.094865320022954\n",
      "logL function value:  48.938332242733516\n",
      "logL function value:  48.781633012802565\n",
      "logL function value:  48.624777985715845\n",
      "logL function value:  48.46777748083383\n"
     ]
    },
    {
     "name": "stdout",
     "output_type": "stream",
     "text": [
      "logL function value:  48.3106417860196\n",
      "logL function value:  48.15338116189224\n",
      "logL function value:  47.99600584570151\n",
      "logL function value:  47.83852605482262\n",
      "logL function value:  47.680951989871716\n",
      "logL function value:  47.52329383744531\n",
      "logL function value:  47.36556177248843\n",
      "logL function value:  47.20776596029776\n",
      "logL function value:  47.049916558167915\n",
      "logL function value:  46.89202371668944\n",
      "logL function value:  46.73409758070871\n",
      "logL function value:  46.57614828996037\n",
      "logL function value:  46.418185979383935\n",
      "logL function value:  46.260220779136304\n",
      "logL function value:  46.10226281431329\n",
      "logL function value:  45.944322204392336\n",
      "logL function value:  45.786409062410115\n",
      "logL function value:  45.62853349388819\n",
      "logL function value:  45.47070559552006\n",
      "logL function value:  45.31293545363353\n",
      "logL function value:  45.155233142441716\n",
      "logL function value:  44.99760872209625\n",
      "logL function value:  44.84007223655623\n",
      "logL function value:  44.682633711286186\n",
      "logL function value:  44.52530315079638\n",
      "logL function value:  44.36809053603825\n",
      "logL function value:  44.21100582166805\n",
      "logL function value:  44.05405893319093\n",
      "logL function value:  43.897259763998164\n",
      "logL function value:  43.740618172309155\n",
      "logL function value:  43.584143978030205\n",
      "logL function value:  43.42784695954153\n",
      "logL function value:  43.271736850423196\n",
      "logL function value:  43.11582333613157\n",
      "logL function value:  42.960116050635776\n",
      "logL function value:  42.804624573025\n",
      "logL function value:  42.64935842409592\n",
      "logL function value:  42.4943270629299\n",
      "logL function value:  42.3395398834689\n",
      "logL function value:  42.18500621109863\n",
      "logL function value:  42.030735299247254\n",
      "logL function value:  41.87673632600786\n",
      "logL function value:  41.72301839079163\n",
      "logL function value:  41.56959051101936\n",
      "logL function value:  41.416461618858015\n"
     ]
    }
   ],
   "source": [
    "J = []\n",
    "#for epoca in range (12500):\n",
    "for epoca in range (50000):\n",
    "    # Retropropagacion\n",
    "    \n",
    "    # Feed forward\n",
    "    zh = np.dot(X_train, wh) + bh   # activación escondidas\n",
    "    ah = sigmoide(zh)                   # disparo escondidas (neuronas escondidas)\n",
    "\n",
    "    zo = np.dot(ah, wo) + bo        # activacion salida \n",
    "    ao = softmax(zo)                # disparo salida (neuronas salida)\n",
    "    \n",
    "    # Envío de error hacia atrás\n",
    "    \n",
    "    # Capa salida - escondida  \n",
    "    error = ao - y_train\n",
    "\n",
    "    deltas_wo = np.dot(ah.T, error)\n",
    "    deltas_bo = error\n",
    "\n",
    "    # Capa escondida - entrada\n",
    "    temp_dah = np.dot(error , wo.T)\n",
    "    deriv_h = sigmoide_prima(zh)\n",
    "\n",
    "    deltas_wh = np.dot(X_train.T, deriv_h * temp_dah)\n",
    "    deltas_bh = temp_dah * deriv_h\n",
    "\n",
    "    # Actualizacion de pesos\n",
    "    wh -= lr * deltas_wh\n",
    "    bh -= lr * deltas_bh.sum(axis=0)\n",
    "\n",
    "    wo -= lr * deltas_wo\n",
    "    bo -= lr * deltas_bo.sum(axis=0)\n",
    "    \n",
    "    if epoca % 200 == 0:\n",
    "        logL = np.sum(-y_train * np.log(ao))\n",
    "        print('logL function value: ', logL)\n",
    "        J.append(logL)"
   ]
  },
  {
   "cell_type": "code",
   "execution_count": 139,
   "metadata": {},
   "outputs": [
    {
     "data": {
      "text/plain": [
       "[<matplotlib.lines.Line2D at 0x7f5428156340>]"
      ]
     },
     "execution_count": 139,
     "metadata": {},
     "output_type": "execute_result"
    },
    {
     "data": {
      "image/png": "[encoded data removed]",
      "text/plain": [
       "<Figure size 432x288 with 1 Axes>"
      ]
     },
     "metadata": {
      "needs_background": "light"
     },
     "output_type": "display_data"
    }
   ],
   "source": [
    "plt.plot(J[2:])"
   ]
  },
  {
   "cell_type": "markdown",
   "metadata": {},
   "source": [
    "Finalmente, utilizamos la función"
   ]
  },
  {
   "cell_type": "code",
   "execution_count": 140,
   "metadata": {},
   "outputs": [],
   "source": [
    "def predict(wh, wo, fact1, fact2, x):\n",
    "    zh = np.dot(x.T, wh) + bh           # activacion escondidas\n",
    "    ah = fact1(zh)                      # disparo escondidas (neuronas escondidas)\n",
    "    \n",
    "    zo = np.dot(ah, wo) + bo            # activacion salida \n",
    "    ao = fact2(zo)                      # disparo salida (neuronas salida)\n",
    "    return ao"
   ]
  },
  {
   "cell_type": "markdown",
   "metadata": {},
   "source": [
    "para clasificar los estímulos solicitados:"
   ]
  },
  {
   "cell_type": "code",
   "execution_count": 141,
   "metadata": {},
   "outputs": [
    {
     "name": "stdout",
     "output_type": "stream",
     "text": [
      "[[0.91959298 0.06693209 0.01347493]]\n",
      "[[0.92095624 0.06584798 0.01319578]]\n",
      "[[0.00636443 0.22763059 0.76600498]]\n",
      "[1. 0. 0.] -> [1. 0. 0.]\n",
      "[0. 0. 1.] -> [1. 0. 0.]\n",
      "[1. 0. 0.] -> [1. 0. 0.]\n",
      "[0. 0. 1.] -> [1. 0. 0.]\n",
      "[0. 0. 1.] -> [1. 0. 0.]\n",
      "[0. 1. 0.] -> [1. 0. 0.]\n",
      "[1. 0. 0.] -> [1. 0. 0.]\n",
      "[0. 1. 0.] -> [1. 0. 0.]\n",
      "[1. 0. 0.] -> [1. 0. 0.]\n",
      "[0. 0. 1.] -> [1. 0. 0.]\n",
      "[1. 0. 0.] -> [1. 0. 0.]\n",
      "[0. 1. 0.] -> [1. 0. 0.]\n",
      "[0. 0. 1.] -> [1. 0. 0.]\n",
      "[0. 1. 0.] -> [1. 0. 0.]\n",
      "[1. 0. 0.] -> [1. 0. 0.]\n",
      "[1. 0. 0.] -> [1. 0. 0.]\n",
      "[0. 0. 1.] -> [1. 0. 0.]\n",
      "[1. 0. 0.] -> [1. 0. 0.]\n",
      "[0. 0. 1.] -> [1. 0. 0.]\n",
      "[0. 1. 0.] -> [1. 0. 0.]\n",
      "[0. 1. 0.] -> [1. 0. 0.]\n",
      "[1. 0. 0.] -> [1. 0. 0.]\n",
      "[0. 0. 1.] -> [1. 0. 0.]\n",
      "[0. 1. 0.] -> [1. 0. 0.]\n",
      "[1. 0. 0.] -> [1. 0. 0.]\n",
      "[0. 0. 1.] -> [1. 0. 0.]\n",
      "[0. 0. 1.] -> [1. 0. 0.]\n",
      "[1. 0. 0.] -> [1. 0. 0.]\n",
      "[0. 1. 0.] -> [1. 0. 0.]\n",
      "[0. 0. 1.] -> [1. 0. 0.]\n",
      "[0. 1. 0.] -> [1. 0. 0.]\n",
      "[0. 1. 0.] -> [1. 0. 0.]\n",
      "[0. 0. 1.] -> [1. 0. 0.]\n",
      "[0. 1. 0.] -> [1. 0. 0.]\n",
      "[0. 1. 0.] -> [1. 0. 0.]\n",
      "[0. 1. 0.] -> [1. 0. 0.]\n",
      "[1. 0. 0.] -> [1. 0. 0.]\n",
      "[1. 0. 0.] -> [1. 0. 0.]\n"
     ]
    }
   ],
   "source": [
    "v1 = predict(wh, wo, sigmoide, softmax, np.array([[5.97],[4.20],[1.23],[0.25]]))\n",
    "v2 = predict(wh, wo, sigmoide, softmax, np.array([[6.80],[5.00],[1.25],[1.20]]))\n",
    "v3 = predict(wh, wo, sigmoide, softmax, np.array([[12.50],[9.20],[40.32],[21.55]]))\n",
    "\n",
    "print(v1)\n",
    "print(v2)\n",
    "print(v3)\n",
    "\n",
    "for sd, yp in zip(y_test, y):\n",
    "  print(\"{} -> {}\".format(sd,np.round(yp)))"
   ]
  },
  {
   "cell_type": "code",
   "execution_count": null,
   "metadata": {},
   "outputs": [],
   "source": []
  }
 ],
 "metadata": {
  "kernelspec": {
   "display_name": "Python 3",
   "language": "python",
   "name": "python3"
  },
  "language_info": {
   "codemirror_mode": {
    "name": "ipython",
    "version": 3
   },
   "file_extension": ".py",
   "mimetype": "text/x-python",
   "name": "python",
   "nbconvert_exporter": "python",
   "pygments_lexer": "ipython3",
   "version": "3.8.2"
  }
 },
 "nbformat": 4,
 "nbformat_minor": 4
}

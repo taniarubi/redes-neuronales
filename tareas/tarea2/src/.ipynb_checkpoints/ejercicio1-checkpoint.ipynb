{
 "cells": [
  {
   "cell_type": "markdown",
   "metadata": {},
   "source": [
    "# Ejercicio 1"
   ]
  },
  {
   "cell_type": "markdown",
   "metadata": {},
   "source": [
    " Generamos un conjunto de datos"
   ]
  },
  {
   "cell_type": "code",
   "execution_count": null,
   "metadata": {},
   "outputs": [],
   "source": [
    "from sklearn.datasets import make_moons\n",
    "import matplotlib.pyplot as plt\n",
    "\n",
    "C1, C2 = make_moons(random_state = 123, n_samples=200, noise=0.1)\n",
    "plt.scatter(C1[:,0], C1[:,1], c=C2); plt.show()"
   ]
  },
  {
   "cell_type": "markdown",
   "metadata": {},
   "source": [
    "Implementamos regresión logística usando el descenso gradiente  para clasificar $C_1$ y $C_2$. "
   ]
  },
  {
   "cell_type": "code",
   "execution_count": null,
   "metadata": {},
   "outputs": [],
   "source": [
    "    def coste(x, y, a, b):\n",
    "        m = len(x)\n",
    "        error = 0.0\n",
    "        for i in range(m):\n",
    "            hipotesis = a+b*x[i]\n",
    "            error +=  (y[i] - hipotesis) ** 2\n",
    "        return error / (2*m)\n",
    "    \n",
    "    def descenso_gradiente(x, y, a, b, alpha, epochs):\n",
    "        m = len(x)\n",
    "        hist_coste = []\n",
    "        for ep in range(epochs):\n",
    "            b_deriv = 0\n",
    "            a_deriv = 0\n",
    "            for i in range(m):\n",
    "                hipotesis = a+b*x[i]\n",
    "                a_deriv += hipotesis - y[i]\n",
    "                b_deriv += (hipotesis - y[i]) * x[i]\n",
    "                hist_coste.append(coste(x, y, a, b))\n",
    "            a -= (a_deriv / m) * alpha\n",
    "            b -= (b_deriv / m) * alpha\n",
    "            \n",
    "        return a, b, hist_coste\n",
    "\n",
    "    a=1\n",
    "    b=1\n",
    "    alpha = 0.0001\n",
    "    iters = 100000\n",
    "    a,b, hist_coste = descenso_gradiente(C1, C2, a, b, alpha, iters)\n",
    "    a,b \n",
    "    print(a)\n",
    "    print(b)"
   ]
  },
  {
   "cell_type": "code",
   "execution_count": null,
   "metadata": {},
   "outputs": [],
   "source": []
  },
  {
   "cell_type": "code",
   "execution_count": null,
   "metadata": {},
   "outputs": [],
   "source": []
  },
  {
   "cell_type": "code",
   "execution_count": null,
   "metadata": {},
   "outputs": [],
   "source": []
  }
 ],
 "metadata": {
  "kernelspec": {
   "display_name": "Python 3",
   "language": "python",
   "name": "python3"
  },
  "language_info": {
   "codemirror_mode": {
    "name": "ipython",
    "version": 3
   },
   "file_extension": ".py",
   "mimetype": "text/x-python",
   "name": "python",
   "nbconvert_exporter": "python",
   "pygments_lexer": "ipython3",
   "version": "3.8.2"
  }
 },
 "nbformat": 4,
 "nbformat_minor": 4
}

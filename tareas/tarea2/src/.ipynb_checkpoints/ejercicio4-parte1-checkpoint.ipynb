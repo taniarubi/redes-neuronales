{
 "cells": [
  {
   "cell_type": "markdown",
   "metadata": {},
   "source": [
    "# Ejercicio 4 - Parte 1"
   ]
  },
  {
   "cell_type": "markdown",
   "metadata": {},
   "source": [
    "Generamos el conjunto de datos **Iris**. "
   ]
  },
  {
   "cell_type": "code",
   "execution_count": 1,
   "metadata": {},
   "outputs": [],
   "source": [
    "from sklearn.datasets import load_iris\n",
    "import matplotlib.pyplot as plt \n",
    "\n",
    "# Cargamos el conjunto de datos. \n",
    "iris = load_iris()\n",
    "# Creamos la matriz de características.\n",
    "X = iris.data\n",
    "# Creamos el vector de características.\n",
    "y = iris.target"
   ]
  },
  {
   "cell_type": "code",
   "execution_count": 2,
   "metadata": {
    "scrolled": true
   },
   "outputs": [
    {
     "data": {
      "image/png": "[encoded data removed]",
      "text/plain": [
       "<Figure size 432x288 with 1 Axes>"
      ]
     },
     "metadata": {
      "needs_background": "light"
     },
     "output_type": "display_data"
    }
   ],
   "source": [
    "# Visualizamos los puntos de entrenamiento.\n",
    "plt.scatter(X[:,0], X[:,1], c = y)\n",
    "plt.xlabel('Largo del sépalo')\n",
    "plt.ylabel('Ancho del sépalo')\n",
    "plt.show()"
   ]
  },
  {
   "cell_type": "markdown",
   "metadata": {},
   "source": [
    "## One - hot encoding"
   ]
  },
  {
   "cell_type": "markdown",
   "metadata": {},
   "source": [
    "Los estímulos (vectores de entrada) son codificados para mostrar un $1$ en entrada correspondiente a su valor, por ejemplo\n",
    "\\begin{equation*}\n",
    "    2 = [0, 0, 1]\n",
    "\\end{equation*}"
   ]
  },
  {
   "cell_type": "code",
   "execution_count": 3,
   "metadata": {},
   "outputs": [],
   "source": [
    "from sklearn.preprocessing import OneHotEncoder\n",
    "\n",
    "y = iris.target.reshape(-1,1)\n",
    "encoder = OneHotEncoder(sparse=False)\n",
    "y = encoder.fit_transform(y)"
   ]
  },
  {
   "cell_type": "markdown",
   "metadata": {},
   "source": [
    "## Softmax"
   ]
  },
  {
   "cell_type": "markdown",
   "metadata": {},
   "source": [
    "Ahora, no sólo queremos un valor entre $0$ y $1$, sino que queremos un vector en el que la salida deseada marque un $1$ y los demás $0$ (o algo cercano, en ambos casos). Es decir, no podemos usar $n$ *sigmoides* porque el valor de cada entrada está condicionada a ser $1$ sólo si los demás dan $0$.\n",
    "\n",
    "Esto se puede lograr con la función \\textit{Softmax} que nos da la probabilidad $i$-ésima de cada entrada en el vector aleatorio $x$.\n",
    "\n",
    "\\begin{equation*}\n",
    "    p_i = \\frac{e^{x_i}}{\\sum_{j}^{N} e^{x_j}}\n",
    "\\end{equation*}"
   ]
  },
  {
   "cell_type": "markdown",
   "metadata": {},
   "source": [
    "## Cross-Entropy"
   ]
  },
  {
   "cell_type": "markdown",
   "metadata": {},
   "source": [
    "Pero ahora no podemos usar el *MSE* (ni *MAE*) como nuestra función de error. Debemos usar algo que nos permita ponderar el error de haberle 'atinado' a la entrada deseada con un $1$, y con un $0$ a las demás.\n",
    "\n",
    "*Cross-Entropy* es la función que generaliza a la función que usamos para el caso binario.\n",
    "\n",
    "\\begin{equation*}\n",
    "    CE = \\sum_{i}^{N} y_i \\log (x_i)\n",
    "\\end{equation*}"
   ]
  },
  {
   "cell_type": "markdown",
   "metadata": {},
   "source": [
    "## Parámetros, arquitectura y funciones."
   ]
  },
  {
   "cell_type": "code",
   "execution_count": 4,
   "metadata": {},
   "outputs": [],
   "source": [
    "import numpy as np\n",
    "\n",
    "def sigmoide(z):\n",
    "    return 1 / (1 + np.exp(-z))\n",
    "\n",
    "def sigmoide_prima(x):\n",
    "    return sigmoide(x) * (1 - sigmoide(x))\n",
    "\n",
    "def tanh(x):\n",
    "    return ((np.exp(x) - np.exp(-x)) / (np.exp(x) + np.exp(-x)))\n",
    "\n",
    "def tanh_prima(x):\n",
    "    return (1 / (np.exp(x) + np.exp(-x))**2)\n",
    "\n",
    "def softmax(A):\n",
    "    expA = np.exp(A)\n",
    "    return expA / expA.sum(axis = 1, keepdims = True)\n",
    "\n",
    "N = X.shape[0]  # número de instancias\n",
    "n = X.shape[1]  # dimensión de instancias\n",
    "nh = 8          # número de neuronas ocultas\n",
    "m = 3           # dimensión salida\n",
    "\n",
    "wh = np.random.rand(n,nh)  # pesos escondidos\n",
    "bh = np.random.randn(nh)   # nodo sesgo escondidos\n",
    "\n",
    "wo = np.random.rand(nh,m)  # pesos salida\n",
    "bo = np.random.randn(m)    # nodo salida\n",
    "lr = 0.00001               # tasa"
   ]
  },
  {
   "cell_type": "markdown",
   "metadata": {},
   "source": [
    "## Entrenamiento usando la función $\\tanh$"
   ]
  },
  {
   "cell_type": "code",
   "execution_count": 5,
   "metadata": {},
   "outputs": [],
   "source": [
    "from sklearn.model_selection import train_test_split\n",
    "\n",
    "# Dividimos nuestro conjunto de datos para poder manejarlo.\n",
    "X_train, X_test, y_train, y_test = train_test_split(X, y)"
   ]
  },
  {
   "cell_type": "code",
   "execution_count": null,
   "metadata": {},
   "outputs": [
    {
     "name": "stdout",
     "output_type": "stream",
     "text": [
      "logL function value:  257.46097949521845\n",
      "logL function value:  163.81264353905317\n",
      "logL function value:  131.99239702861718\n",
      "logL function value:  124.73096209974733\n",
      "logL function value:  123.08553553257184\n",
      "logL function value:  122.68548316749224\n",
      "logL function value:  122.58286654370468\n",
      "logL function value:  122.55556215458071\n",
      "logL function value:  122.54802805809325\n",
      "logL function value:  122.54579642522657\n",
      "logL function value:  122.54500508938563\n",
      "logL function value:  122.54460744371445\n",
      "logL function value:  122.54431708052795\n",
      "logL function value:  122.54405507564093\n",
      "logL function value:  122.54379955584085\n",
      "logL function value:  122.54354442114511\n",
      "logL function value:  122.54328795111134\n",
      "logL function value:  122.54302964537422\n",
      "logL function value:  122.5427693442341\n",
      "logL function value:  122.5425069831063\n",
      "logL function value:  122.5422425237708\n",
      "logL function value:  122.54197593507482\n",
      "logL function value:  122.54170718750075\n",
      "logL function value:  122.54143625162928\n",
      "logL function value:  122.54116309769847\n",
      "logL function value:  122.54088769547127\n",
      "logL function value:  122.54061001418975\n",
      "logL function value:  122.54033002255377\n",
      "logL function value:  122.54004768870583\n",
      "logL function value:  122.53976298021811\n",
      "logL function value:  122.53947586407907\n",
      "logL function value:  122.53918630668034\n",
      "logL function value:  122.53889427380304\n",
      "logL function value:  122.5385997306038\n",
      "logL function value:  122.53830264160037\n",
      "logL function value:  122.53800297065686\n",
      "logL function value:  122.53770068096861\n",
      "logL function value:  122.53739573504657\n",
      "logL function value:  122.53708809470118\n",
      "logL function value:  122.536777721026\n",
      "logL function value:  122.53646457438072\n",
      "logL function value:  122.53614861437364\n",
      "logL function value:  122.5358297998439\n",
      "logL function value:  122.53550808884285\n",
      "logL function value:  122.53518343861518\n",
      "logL function value:  122.53485580557935\n",
      "logL function value:  122.53452514530758\n",
      "logL function value:  122.5341914125049\n",
      "logL function value:  122.53385456098825\n",
      "logL function value:  122.53351454366415\n",
      "logL function value:  122.53317131250645\n",
      "logL function value:  122.53282481853286\n",
      "logL function value:  122.53247501178112\n",
      "logL function value:  122.53212184128427\n",
      "logL function value:  122.53176525504534\n",
      "logL function value:  122.531405200011\n",
      "logL function value:  122.5310416220447\n",
      "logL function value:  122.53067446589876\n",
      "logL function value:  122.53030367518585\n",
      "logL function value:  122.52992919234919\n",
      "logL function value:  122.52955095863224\n",
      "logL function value:  122.52916891404723\n",
      "logL function value:  122.52878299734259\n",
      "logL function value:  122.52839314596969\n",
      "logL function value:  122.52799929604808\n",
      "logL function value:  122.52760138233009\n",
      "logL function value:  122.52719933816377\n",
      "logL function value:  122.52679309545518\n",
      "logL function value:  122.52638258462896\n",
      "logL function value:  122.52596773458797\n",
      "logL function value:  122.5255484726714\n",
      "logL function value:  122.52512472461154\n",
      "logL function value:  122.52469641448917\n",
      "logL function value:  122.52426346468737\n",
      "logL function value:  122.52382579584383\n",
      "logL function value:  122.52338332680156\n",
      "logL function value:  122.5229359745579\n",
      "logL function value:  122.52248365421173\n",
      "logL function value:  122.522026278909\n",
      "logL function value:  122.5215637597862\n",
      "logL function value:  122.52109600591207\n",
      "logL function value:  122.52062292422707\n",
      "logL function value:  122.52014441948084\n",
      "logL function value:  122.5196603941674\n",
      "logL function value:  122.5191707484581\n",
      "logL function value:  122.51867538013201\n",
      "logL function value:  122.5181741845041\n",
      "logL function value:  122.51766705435043\n",
      "logL function value:  122.51715387983097\n",
      "logL function value:  122.51663454840936\n",
      "logL function value:  122.51610894476977\n",
      "logL function value:  122.51557695073072\n",
      "logL function value:  122.51503844515562\n",
      "logL function value:  122.51449330385994\n",
      "logL function value:  122.513941399515\n",
      "logL function value:  122.51338260154787\n",
      "logL function value:  122.5128167760376\n",
      "logL function value:  122.51224378560745\n",
      "logL function value:  122.5116634893129\n",
      "logL function value:  122.51107574252512\n",
      "logL function value:  122.51048039681032\n",
      "logL function value:  122.50987729980373\n",
      "logL function value:  122.50926629507904\n",
      "logL function value:  122.50864722201247\n",
      "logL function value:  122.50801991564106\n",
      "logL function value:  122.50738420651577\n",
      "logL function value:  122.50673992054807\n",
      "logL function value:  122.50608687885051\n",
      "logL function value:  122.50542489757046\n",
      "logL function value:  122.50475378771718\n",
      "logL function value:  122.50407335498136\n",
      "logL function value:  122.5033833995472\n",
      "logL function value:  122.50268371589641\n",
      "logL function value:  122.50197409260377\n",
      "logL function value:  122.50125431212398\n",
      "logL function value:  122.50052415056905\n",
      "logL function value:  122.49978337747615\n",
      "logL function value:  122.499031755565\n",
      "logL function value:  122.49826904048454\n",
      "logL function value:  122.4974949805484\n",
      "logL function value:  122.49670931645814\n",
      "logL function value:  122.49591178101414\n",
      "logL function value:  122.49510209881316\n",
      "logL function value:  122.494279985932\n",
      "logL function value:  122.4934451495962\n",
      "logL function value:  122.49259728783358\n",
      "logL function value:  122.49173608911121\n",
      "logL function value:  122.490861231955\n",
      "logL function value:  122.48997238455122\n",
      "logL function value:  122.48906920432867\n",
      "logL function value:  122.4881513375205\n",
      "logL function value:  122.48721841870443\n",
      "logL function value:  122.48627007032027\n",
      "logL function value:  122.48530590216328\n",
      "logL function value:  122.48432551085203\n",
      "logL function value:  122.48332847926929\n",
      "logL function value:  122.48231437597411\n",
      "logL function value:  122.48128275458386\n",
      "logL function value:  122.48023315312363\n",
      "logL function value:  122.47916509334189\n",
      "logL function value:  122.47807807998959\n",
      "logL function value:  122.4769716000608\n",
      "logL function value:  122.47584512199253\n",
      "logL function value:  122.47469809482072\n",
      "logL function value:  122.47352994729019\n",
      "logL function value:  122.4723400869151\n",
      "logL function value:  122.47112789898688\n",
      "logL function value:  122.46989274552632\n",
      "logL function value:  122.46863396417585\n",
      "logL function value:  122.46735086702807\n",
      "logL function value:  122.46604273938645\n",
      "logL function value:  122.46470883845346\n",
      "logL function value:  122.46334839194078\n",
      "logL function value:  122.46196059659682\n",
      "logL function value:  122.4605446166452\n",
      "logL function value:  122.45909958212808\n",
      "logL function value:  122.45762458714775\n",
      "logL function value:  122.45611868799861\n",
      "logL function value:  122.45458090118201\n",
      "logL function value:  122.45301020129489\n",
      "logL function value:  122.45140551878339\n",
      "logL function value:  122.44976573755044\n",
      "logL function value:  122.448089692407\n",
      "logL function value:  122.44637616635433\n",
      "logL function value:  122.44462388768437\n",
      "logL function value:  122.44283152688404\n",
      "logL function value:  122.44099769332743\n",
      "logL function value:  122.43912093173944\n",
      "logL function value:  122.43719971841146\n",
      "logL function value:  122.43523245714947\n",
      "logL function value:  122.43321747493167\n",
      "logL function value:  122.43115301725155\n",
      "logL function value:  122.42903724311914\n",
      "logL function value:  122.42686821969154\n",
      "logL function value:  122.42464391649966\n",
      "logL function value:  122.42236219923598\n",
      "logL function value:  122.42002082306358\n",
      "logL function value:  122.41761742540348\n",
      "logL function value:  122.41514951815185\n"
     ]
    }
   ],
   "source": [
    "J = []\n",
    "for epoca in range (50000):\n",
    "    # Retropropagacion\n",
    "    \n",
    "    # Feed forward\n",
    "    zh = np.dot(X_train, wh) + bh   # activación escondidas\n",
    "    ah = tanh(zh)                   # disparo escondidas (neuronas escondidas)\n",
    "\n",
    "    zo = np.dot(ah, wo) + bo        # activacion salida \n",
    "    ao = softmax(zo)                # disparo salida (neuronas salida)\n",
    "    \n",
    "    # Envío de error hacia atrás\n",
    "    \n",
    "    # Capa salida - escondida  \n",
    "    error = ao - y_train\n",
    "\n",
    "    deltas_wo = np.dot(ah.T, error)\n",
    "    deltas_bo = error\n",
    "\n",
    "    # Capa escondida - entrada\n",
    "    temp_dah = np.dot(error , wo.T)\n",
    "    deriv_h = tanh_prima(zh)\n",
    "\n",
    "    deltas_wh = np.dot(X_train.T, deriv_h * temp_dah)\n",
    "    deltas_bh = temp_dah * deriv_h\n",
    "\n",
    "    # Actualizacion de pesos\n",
    "    wh -= lr * deltas_wh\n",
    "    bh -= lr * deltas_bh.sum(axis=0)\n",
    "\n",
    "    wo -= lr * deltas_wo\n",
    "    bo -= lr * deltas_bo.sum(axis=0)\n",
    "    \n",
    "    if epoca % 200 == 0:\n",
    "        logL = np.sum(-y_train * np.log(ao))\n",
    "        print('logL function value: ', logL)\n",
    "        J.append(logL)"
   ]
  },
  {
   "cell_type": "code",
   "execution_count": 170,
   "metadata": {},
   "outputs": [
    {
     "data": {
      "text/plain": [
       "[<matplotlib.lines.Line2D at 0x7f569fd2e5e0>]"
      ]
     },
     "execution_count": 170,
     "metadata": {},
     "output_type": "execute_result"
    },
    {
     "data": {
      "image/png": "[encoded data removed]",
      "text/plain": [
       "<Figure size 432x288 with 1 Axes>"
      ]
     },
     "metadata": {
      "needs_background": "light"
     },
     "output_type": "display_data"
    }
   ],
   "source": [
    "\n",
    "plt.plot(J[2:])"
   ]
  },
  {
   "cell_type": "markdown",
   "metadata": {},
   "source": [
    "Finalmente, utilizamos la función"
   ]
  },
  {
   "cell_type": "code",
   "execution_count": 171,
   "metadata": {},
   "outputs": [],
   "source": [
    "def predict(wh, wo, fact1, fact2, x):\n",
    "    zh = np.dot(x.T, wh) + bh           # activacion escondidas\n",
    "    ah = fact1(zh)                      # disparo escondidas (neuronas escondidas)\n",
    "    \n",
    "    zo = np.dot(ah, wo) + bo            # activacion salida \n",
    "    ao = fact2(zo)                      # disparo salida (neuronas salida)\n",
    "    return ao"
   ]
  },
  {
   "cell_type": "markdown",
   "metadata": {},
   "source": [
    "para clasificar los estímulos solicitados:"
   ]
  },
  {
   "cell_type": "code",
   "execution_count": 173,
   "metadata": {},
   "outputs": [
    {
     "name": "stdout",
     "output_type": "stream",
     "text": [
      "[[0.91982482 0.05938208 0.02079309]]\n",
      "[[0.91794105 0.06065879 0.02140015]]\n",
      "[[0.02973666 0.45013666 0.52012669]]\n",
      "[0. 1. 0.] -> [1. 0. 0.]\n",
      "[0. 0. 1.] -> [1. 0. 0.]\n",
      "[0. 0. 1.] -> [1. 0. 0.]\n",
      "[1. 0. 0.] -> [1. 0. 0.]\n",
      "[0. 1. 0.] -> [1. 0. 0.]\n",
      "[0. 1. 0.] -> [1. 0. 0.]\n",
      "[0. 0. 1.] -> [1. 0. 0.]\n",
      "[0. 0. 1.] -> [1. 0. 0.]\n",
      "[0. 1. 0.] -> [1. 0. 0.]\n",
      "[1. 0. 0.] -> [1. 0. 0.]\n",
      "[0. 0. 1.] -> [1. 0. 0.]\n",
      "[0. 1. 0.] -> [1. 0. 0.]\n",
      "[0. 0. 1.] -> [1. 0. 0.]\n",
      "[1. 0. 0.] -> [1. 0. 0.]\n",
      "[0. 1. 0.] -> [1. 0. 0.]\n",
      "[0. 1. 0.] -> [1. 0. 0.]\n",
      "[0. 1. 0.] -> [1. 0. 0.]\n",
      "[0. 0. 1.] -> [1. 0. 0.]\n",
      "[0. 0. 1.] -> [1. 0. 0.]\n",
      "[0. 0. 1.] -> [1. 0. 0.]\n",
      "[1. 0. 0.] -> [1. 0. 0.]\n",
      "[1. 0. 0.] -> [1. 0. 0.]\n",
      "[0. 0. 1.] -> [1. 0. 0.]\n",
      "[0. 1. 0.] -> [1. 0. 0.]\n",
      "[0. 1. 0.] -> [1. 0. 0.]\n",
      "[0. 0. 1.] -> [1. 0. 0.]\n",
      "[0. 0. 1.] -> [1. 0. 0.]\n",
      "[0. 0. 1.] -> [1. 0. 0.]\n",
      "[0. 1. 0.] -> [1. 0. 0.]\n",
      "[0. 1. 0.] -> [1. 0. 0.]\n",
      "[0. 1. 0.] -> [1. 0. 0.]\n",
      "[1. 0. 0.] -> [1. 0. 0.]\n",
      "[0. 0. 1.] -> [1. 0. 0.]\n",
      "[0. 0. 1.] -> [1. 0. 0.]\n",
      "[0. 1. 0.] -> [1. 0. 0.]\n",
      "[1. 0. 0.] -> [1. 0. 0.]\n",
      "[1. 0. 0.] -> [1. 0. 0.]\n",
      "[1. 0. 0.] -> [1. 0. 0.]\n"
     ]
    }
   ],
   "source": [
    "v1 = predict(wh, wo, tanh, softmax, np.array([[5.97],[4.20],[1.23],[0.25]]))\n",
    "v2 = predict(wh, wo, tanh, softmax, np.array([[6.80],[5.00],[1.25],[1.20]]))\n",
    "v3 = predict(wh, wo, tanh, softmax, np.array([[12.50],[9.20],[40.32],[21.55]]))\n",
    "\n",
    "print(v1)\n",
    "print(v2)\n",
    "print(v3)\n",
    "\n",
    "for sd, yp in zip(y_test, y):\n",
    "  print(\"{} -> {}\".format(sd,np.round(yp)))"
   ]
  },
  {
   "cell_type": "code",
   "execution_count": null,
   "metadata": {},
   "outputs": [],
   "source": []
  }
 ],
 "metadata": {
  "kernelspec": {
   "display_name": "Python 3",
   "language": "python",
   "name": "python3"
  },
  "language_info": {
   "codemirror_mode": {
    "name": "ipython",
    "version": 3
   },
   "file_extension": ".py",
   "mimetype": "text/x-python",
   "name": "python",
   "nbconvert_exporter": "python",
   "pygments_lexer": "ipython3",
   "version": "3.8.2"
  }
 },
 "nbformat": 4,
 "nbformat_minor": 4
}

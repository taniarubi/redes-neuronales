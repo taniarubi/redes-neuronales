{
 "cells": [
  {
   "cell_type": "markdown",
   "metadata": {},
   "source": [
    "# Ejercicio 4 - Parte 1"
   ]
  },
  {
   "cell_type": "markdown",
   "metadata": {},
   "source": [
    "Generamos el conjunto de datos **Iris**. "
   ]
  },
  {
   "cell_type": "code",
   "execution_count": 279,
   "metadata": {},
   "outputs": [],
   "source": [
    "from sklearn.datasets import load_iris\n",
    "import matplotlib.pyplot as plt \n",
    "\n",
    "# Cargamos el conjunto de datos. \n",
    "iris = load_iris()\n",
    "# Creamos la matriz de características.\n",
    "X = iris.data\n",
    "# Creamos el vector de características.\n",
    "y = iris.target"
   ]
  },
  {
   "cell_type": "code",
   "execution_count": 280,
   "metadata": {
    "scrolled": true
   },
   "outputs": [
    {
     "data": {
      "image/png": "[encoded data removed]",
      "text/plain": [
       "<Figure size 432x288 with 1 Axes>"
      ]
     },
     "metadata": {
      "needs_background": "light"
     },
     "output_type": "display_data"
    }
   ],
   "source": [
    "# Visualizamos los puntos de entrenamiento.\n",
    "plt.scatter(X[:,0], X[:,1], c = y)\n",
    "plt.xlabel('Largo del sépalo')\n",
    "plt.ylabel('Ancho del sépalo')\n",
    "plt.show()"
   ]
  },
  {
   "cell_type": "markdown",
   "metadata": {},
   "source": [
    "## One - hot encoding"
   ]
  },
  {
   "cell_type": "markdown",
   "metadata": {},
   "source": [
    "Los estímulos (vectores de entrada) son codificados para mostrar un $1$ en entrada correspondiente a su valor, por ejemplo\n",
    "\\begin{equation*}\n",
    "    2 = [0, 0, 1]\n",
    "\\end{equation*}"
   ]
  },
  {
   "cell_type": "code",
   "execution_count": 281,
   "metadata": {},
   "outputs": [],
   "source": [
    "from sklearn.preprocessing import OneHotEncoder\n",
    "\n",
    "y = iris.target.reshape(-1,1)\n",
    "encoder = OneHotEncoder(sparse=False)\n",
    "y = encoder.fit_transform(y)"
   ]
  },
  {
   "cell_type": "markdown",
   "metadata": {},
   "source": [
    "## Softmax"
   ]
  },
  {
   "cell_type": "markdown",
   "metadata": {},
   "source": [
    "Ahora, no sólo queremos un valor entre $0$ y $1$, sino que queremos un vector en el que la salida deseada marque un $1$ y los demás $0$ (o algo cercano, en ambos casos). Es decir, no podemos usar $n$ *sigmoides* porque el valor de cada entrada está condicionada a ser $1$ sólo si los demás dan $0$.\n",
    "\n",
    "Esto se puede lograr con la función *Softmax* que nos da la probabilidad $i$-ésima de cada entrada en el vector aleatorio $x$.\n",
    "\n",
    "\\begin{equation*}\n",
    "    p_i = \\frac{e^{x_i}}{\\sum_{j}^{N} e^{x_j}}\n",
    "\\end{equation*}"
   ]
  },
  {
   "cell_type": "markdown",
   "metadata": {},
   "source": [
    "## Cross-Entropy"
   ]
  },
  {
   "cell_type": "markdown",
   "metadata": {},
   "source": [
    "Pero ahora no podemos usar el *MSE* (ni *MAE*) como nuestra función de error. Debemos usar algo que nos permita ponderar el error de haberle 'atinado' a la entrada deseada con un $1$, y con un $0$ a las demás.\n",
    "\n",
    "*Cross-Entropy* es la función que generaliza a la función que usamos para el caso binario.\n",
    "\n",
    "\\begin{equation*}\n",
    "    CE = \\sum_{i}^{N} y_i \\log (x_i)\n",
    "\\end{equation*}"
   ]
  },
  {
   "cell_type": "markdown",
   "metadata": {},
   "source": [
    "## Parámetros, arquitectura y funciones."
   ]
  },
  {
   "cell_type": "code",
   "execution_count": 282,
   "metadata": {},
   "outputs": [],
   "source": [
    "import numpy as np\n",
    "\n",
    "def sigmoide(z):\n",
    "    return 1 / (1 + np.exp(-z))\n",
    "\n",
    "def sigmoide_prima(x):\n",
    "    return sigmoide(x) * (1 - sigmoide(x))\n",
    "\n",
    "def tanh(x):\n",
    "    return ((np.exp(x) - np.exp(-x)) / (np.exp(x) + np.exp(-x)))\n",
    "\n",
    "def tanh_prima(x):\n",
    "    return (1 / (np.exp(x) + np.exp(-x))**2)\n",
    "\n",
    "def softmax(A):\n",
    "    expA = np.exp(A)\n",
    "    return expA / expA.sum(axis = 1, keepdims = True)\n",
    "\n",
    "N = X.shape[0]  # número de instancias\n",
    "n = X.shape[1]  # dimensión de instancias\n",
    "nh = 8          # número de neuronas ocultas\n",
    "m = 3           # dimensión salida\n",
    "\n",
    "wh = np.random.rand(n,nh)  # pesos escondidos\n",
    "bh = np.random.randn(nh)   # nodo sesgo escondidos\n",
    "\n",
    "wo = np.random.rand(nh,m)  # pesos salida\n",
    "bo = np.random.randn(m)    # nodo salida\n",
    "lr = 0.0001                # tasa"
   ]
  },
  {
   "cell_type": "markdown",
   "metadata": {},
   "source": [
    "## Entrenamiento usando la función $\\tanh$"
   ]
  },
  {
   "cell_type": "code",
   "execution_count": 283,
   "metadata": {},
   "outputs": [],
   "source": [
    "from sklearn.model_selection import train_test_split\n",
    "\n",
    "# Dividimos nuestro conjunto de datos para poder manejarlo.\n",
    "X_train, X_test, y_train, y_test = train_test_split(X, y)"
   ]
  },
  {
   "cell_type": "code",
   "execution_count": 284,
   "metadata": {},
   "outputs": [
    {
     "name": "stdout",
     "output_type": "stream",
     "text": [
      "logL function value:  186.97668289403796\n",
      "logL function value:  122.20910382484692\n",
      "logL function value:  122.1207018158209\n",
      "logL function value:  121.95556407441359\n",
      "logL function value:  121.54262215460656\n",
      "logL function value:  119.15595016386465\n",
      "logL function value:  82.43216231961281\n",
      "logL function value:  69.1043107476086\n",
      "logL function value:  62.66143451252093\n",
      "logL function value:  58.892973459791925\n",
      "logL function value:  56.426139398526686\n",
      "logL function value:  54.63828089794175\n",
      "logL function value:  53.19775266514122\n",
      "logL function value:  51.89314756415273\n",
      "logL function value:  50.57100631934833\n",
      "logL function value:  49.129429918200564\n",
      "logL function value:  47.5378972168173\n",
      "logL function value:  45.84330581323654\n",
      "logL function value:  44.13290659866243\n",
      "logL function value:  42.48122302975287\n",
      "logL function value:  40.92745899183454\n",
      "logL function value:  39.48302633723496\n",
      "logL function value:  38.145178413686374\n",
      "logL function value:  36.90575140319535\n",
      "logL function value:  35.75524707458623\n",
      "logL function value:  34.684467870703365\n",
      "logL function value:  33.68508036594034\n",
      "logL function value:  32.749739879643236\n",
      "logL function value:  31.872045058984018\n",
      "logL function value:  31.04643495372362\n",
      "logL function value:  30.26807501088393\n",
      "logL function value:  29.532750129516916\n",
      "logL function value:  28.83677076632847\n",
      "logL function value:  28.176892983408067\n",
      "logL function value:  27.550251342667927\n",
      "logL function value:  26.954302927496915\n",
      "logL function value:  26.386780722155756\n",
      "logL function value:  25.845654748996928\n",
      "logL function value:  25.32909959643527\n",
      "logL function value:  24.835467201372012\n",
      "logL function value:  24.363263954336237\n",
      "logL function value:  23.911131367935788\n",
      "logL function value:  23.47782969074025\n",
      "logL function value:  23.062223963503946\n",
      "logL function value:  22.66327210722037\n",
      "logL function value:  22.280014707077015\n",
      "logL function value:  21.911566216520466\n",
      "logL function value:  21.557107354265348\n",
      "logL function value:  21.215878506523463\n",
      "logL function value:  20.887173978844746\n",
      "logL function value:  20.57033696820837\n",
      "logL function value:  20.26475514753203\n",
      "logL function value:  19.969856772490402\n",
      "logL function value:  19.68510723516749\n",
      "logL function value:  19.410006001187295\n",
      "logL function value:  19.14408387703\n",
      "logL function value:  18.886900562614\n",
      "logL function value:  18.63804245120739\n",
      "logL function value:  18.397120644563802\n",
      "logL function value:  18.163769156056684\n",
      "logL function value:  17.937643278672603\n",
      "logL function value:  17.718418098151425\n",
      "logL function value:  17.505787134438208\n",
      "logL function value:  17.299461097029614\n",
      "logL function value:  17.09916674183109\n",
      "logL function value:  16.904645818853865\n",
      "logL function value:  16.715654101523764\n",
      "logL function value:  16.53196048959239\n",
      "logL function value:  16.353346178670385\n",
      "logL function value:  16.179603890274034\n",
      "logL function value:  16.010537157015293\n",
      "logL function value:  15.845959658193692\n",
      "logL function value:  15.68569460158399\n",
      "logL function value:  15.529574147670719\n",
      "logL function value:  15.377438872973457\n",
      "logL function value:  15.229137269445186\n",
      "logL function value:  15.084525277217764\n",
      "logL function value:  14.943465848223044\n",
      "logL function value:  14.805828538439867\n",
      "logL function value:  14.671489126712393\n",
      "logL function value:  14.540329258256772\n",
      "logL function value:  14.412236111126099\n",
      "logL function value:  14.287102084040276\n",
      "logL function value:  14.164824504109188\n",
      "logL function value:  14.04530535308881\n",
      "logL function value:  13.928451010909242\n",
      "logL function value:  13.81417201530554\n",
      "logL function value:  13.702382836465414\n",
      "logL function value:  13.593001665684394\n",
      "logL function value:  13.485950217089663\n",
      "logL function value:  13.381153541559028\n",
      "logL function value:  13.278539852021671\n",
      "logL function value:  13.178040359383193\n",
      "logL function value:  13.079589118369714\n",
      "logL function value:  12.98312288263369\n",
      "logL function value:  12.888580968509222\n",
      "logL function value:  12.795905126847002\n",
      "logL function value:  12.705039422396993\n",
      "logL function value:  12.61593012024452\n",
      "logL function value:  12.528525578838567\n",
      "logL function value:  12.442776149182965\n",
      "logL function value:  12.35863407979071\n",
      "logL function value:  12.276053427028941\n",
      "logL function value:  12.194989970507761\n",
      "logL function value:  12.115401133190083\n",
      "logL function value:  12.037245905921544\n",
      "logL function value:  11.96048477610059\n",
      "logL function value:  11.885079660227785\n",
      "logL function value:  11.81099384009124\n",
      "logL function value:  11.738191902362146\n",
      "logL function value:  11.666639681389174\n",
      "logL function value:  11.596304204995562\n",
      "logL function value:  11.527153643095591\n",
      "logL function value:  11.45915725895968\n",
      "logL function value:  11.392285362969144\n",
      "logL function value:  11.326509268711956\n",
      "logL function value:  11.261801251280954\n",
      "logL function value:  11.198134507645445\n",
      "logL function value:  11.135483118975252\n",
      "logL function value:  11.07382201480455\n",
      "logL function value:  11.01312693893016\n",
      "logL function value:  10.953374416945874\n",
      "logL function value:  10.894541725320611\n",
      "logL function value:  10.83660686193441\n",
      "logL function value:  10.779548517991373\n",
      "logL function value:  10.723346051234348\n",
      "logL function value:  10.66797946039037\n",
      "logL function value:  10.61342936078057\n",
      "logL function value:  10.559676961032483\n",
      "logL function value:  10.50670404083608\n",
      "logL function value:  10.454492929689138\n",
      "logL function value:  10.403026486580135\n",
      "logL function value:  10.352288080560399\n",
      "logL function value:  10.302261572160067\n",
      "logL function value:  10.252931295604933\n",
      "logL function value:  10.204282041794094\n",
      "logL function value:  10.15629904200022\n",
      "logL function value:  10.108967952256782\n",
      "logL function value:  10.06227483839864\n",
      "logL function value:  10.016206161724\n",
      "logL function value:  9.970748765247881\n",
      "logL function value:  9.925889860518675\n",
      "logL function value:  9.881617014971017\n",
      "logL function value:  9.837918139789775\n",
      "logL function value:  9.794781478261097\n",
      "logL function value:  9.752195594587974\n",
      "logL function value:  9.71014936314877\n",
      "logL function value:  9.668631958178747\n",
      "logL function value:  9.627632843854816\n",
      "logL function value:  9.587141764765876\n",
      "logL function value:  9.547148736751133\n",
      "logL function value:  9.507644038089984\n",
      "logL function value:  9.468618201028256\n",
      "logL function value:  9.430062003625515\n",
      "logL function value:  9.391966461909908\n",
      "logL function value:  9.354322822326987\n",
      "logL function value:  9.317122554469815\n",
      "logL function value:  9.280357344078416\n",
      "logL function value:  9.24401908629708\n",
      "logL function value:  9.208099879178546\n",
      "logL function value:  9.172592017424947\n",
      "logL function value:  9.137487986355186\n",
      "logL function value:  9.102780456089842\n",
      "logL function value:  9.068462275944217\n",
      "logL function value:  9.034526469021236\n",
      "logL function value:  9.000966226995935\n",
      "logL function value:  8.967774905083846\n",
      "logL function value:  8.934946017185723\n",
      "logL function value:  8.902473231201679\n",
      "logL function value:  8.870350364507932\n",
      "logL function value:  8.838571379589627\n",
      "logL function value:  8.807130379823743\n",
      "logL function value:  8.776021605405912\n",
      "logL function value:  8.745239429415971\n",
      "logL function value:  8.714778354016314\n",
      "logL function value:  8.684633006778403\n",
      "logL function value:  8.654798137132225\n",
      "logL function value:  8.625268612933947\n",
      "logL function value:  8.596039417147669\n",
      "logL function value:  8.567105644636383\n",
      "logL function value:  8.538462499058474\n",
      "logL function value:  8.510105289865612\n",
      "logL function value:  8.482029429398272\n",
      "logL function value:  8.454230430075226\n",
      "logL function value:  8.426703901673683\n",
      "logL function value:  8.399445548696526\n",
      "logL function value:  8.372451167823597\n",
      "logL function value:  8.345716645443979\n",
      "logL function value:  8.319237955266194\n",
      "logL function value:  8.2930111560037\n",
      "logL function value:  8.267032389132865\n",
      "logL function value:  8.241297876720727\n",
      "logL function value:  8.215803919320331\n",
      "logL function value:  8.190546893931021\n",
      "logL function value:  8.16552325202143\n",
      "logL function value:  8.140729517612959\n",
      "logL function value:  8.116162285421826\n",
      "logL function value:  8.091818219057293\n",
      "logL function value:  8.067694049274396\n",
      "logL function value:  8.043786572279258\n",
      "logL function value:  8.020092648085013\n",
      "logL function value:  7.996609198916804\n",
      "logL function value:  7.973333207664147\n",
      "logL function value:  7.950261716378868\n",
      "logL function value:  7.927391824817359\n"
     ]
    },
    {
     "name": "stdout",
     "output_type": "stream",
     "text": [
      "logL function value:  7.904720689025427\n",
      "logL function value:  7.882245519964404\n",
      "logL function value:  7.8599635821772225\n",
      "logL function value:  7.83787219249292\n",
      "logL function value:  7.8159687187685\n",
      "logL function value:  7.7942505786668\n",
      "logL function value:  7.772715238469216\n",
      "logL function value:  7.7513602119222345\n",
      "logL function value:  7.730183059116483\n",
      "logL function value:  7.70918138539738\n",
      "logL function value:  7.688352840306328\n",
      "logL function value:  7.667695116551543\n",
      "logL function value:  7.647205949007376\n",
      "logL function value:  7.626883113741421\n",
      "logL function value:  7.606724427068451\n",
      "logL function value:  7.586727744630235\n",
      "logL function value:  7.566890960500646\n",
      "logL function value:  7.547212006315027\n",
      "logL function value:  7.527688850423148\n",
      "logL function value:  7.5083194970651626\n",
      "logL function value:  7.489101985569516\n",
      "logL function value:  7.470034389572522\n",
      "logL function value:  7.451114816258609\n",
      "logL function value:  7.432341405620753\n",
      "logL function value:  7.413712329740582\n",
      "logL function value:  7.395225792087258\n",
      "logL function value:  7.376880026834855\n",
      "logL function value:  7.358673298197563\n",
      "logL function value:  7.340603899782105\n",
      "logL function value:  7.322670153956978\n",
      "logL function value:  7.3048704112379905\n",
      "logL function value:  7.2872030496894915\n",
      "logL function value:  7.269666474341045\n",
      "logL function value:  7.252259116618791\n",
      "logL function value:  7.234979433791418\n",
      "logL function value:  7.217825908430019\n",
      "logL function value:  7.200797047881556\n",
      "logL function value:  7.183891383755549\n",
      "logL function value:  7.167107471423608\n",
      "logL function value:  7.150443889531288\n",
      "logL function value:  7.133899239522163\n",
      "logL function value:  7.117472145173591\n",
      "logL function value:  7.1011612521438385\n",
      "logL function value:  7.084965227530308\n",
      "logL function value:  7.068882759438609\n"
     ]
    }
   ],
   "source": [
    "J = []\n",
    "for epoca in range (50000):\n",
    "    # Retropropagacion\n",
    "    \n",
    "    # Feed forward\n",
    "    zh = np.dot(X_train, wh) + bh   # activación escondidas\n",
    "    ah = tanh(zh)                   # disparo escondidas (neuronas escondidas)\n",
    "\n",
    "    zo = np.dot(ah, wo) + bo        # activacion salida \n",
    "    ao = softmax(zo)                # disparo salida (neuronas salida)\n",
    "    \n",
    "    # Envío de error hacia atrás\n",
    "    \n",
    "    # Capa salida - escondida  \n",
    "    error = ao - y_train\n",
    "\n",
    "    deltas_wo = np.dot(ah.T, error)\n",
    "    deltas_bo = error\n",
    "\n",
    "    # Capa escondida - entrada\n",
    "    temp_dah = np.dot(error , wo.T)\n",
    "    deriv_h = tanh_prima(zh)\n",
    "\n",
    "    deltas_wh = np.dot(X_train.T, deriv_h * temp_dah)\n",
    "    deltas_bh = temp_dah * deriv_h\n",
    "\n",
    "    # Actualizacion de pesos\n",
    "    wh -= lr * deltas_wh\n",
    "    bh -= lr * deltas_bh.sum(axis=0)\n",
    "\n",
    "    wo -= lr * deltas_wo\n",
    "    bo -= lr * deltas_bo.sum(axis=0)\n",
    "    \n",
    "    if epoca % 200 == 0:\n",
    "        logL = np.sum(-y_train * np.log(ao))\n",
    "        print('logL function value: ', logL)\n",
    "        J.append(logL)"
   ]
  },
  {
   "cell_type": "code",
   "execution_count": 285,
   "metadata": {},
   "outputs": [
    {
     "data": {
      "text/plain": [
       "[<matplotlib.lines.Line2D at 0x7f9ee138a820>]"
      ]
     },
     "execution_count": 285,
     "metadata": {},
     "output_type": "execute_result"
    },
    {
     "data": {
      "image/png": "[encoded data removed]",
      "text/plain": [
       "<Figure size 432x288 with 1 Axes>"
      ]
     },
     "metadata": {
      "needs_background": "light"
     },
     "output_type": "display_data"
    }
   ],
   "source": [
    "plt.plot(J[2:])"
   ]
  },
  {
   "cell_type": "markdown",
   "metadata": {},
   "source": [
    "Finalmente, utilizamos la función"
   ]
  },
  {
   "cell_type": "code",
   "execution_count": 286,
   "metadata": {},
   "outputs": [],
   "source": [
    "def predict(wh, wo, fact1, fact2, x):\n",
    "    zh = np.dot(x.T, wh) + bh           # activacion escondidas\n",
    "    ah = fact1(zh)                      # disparo escondidas (neuronas escondidas)\n",
    "    \n",
    "    zo = np.dot(ah, wo) + bo            # activacion salida \n",
    "    ao = fact2(zo)                      # disparo salida (neuronas salida)\n",
    "    return ao"
   ]
  },
  {
   "cell_type": "markdown",
   "metadata": {},
   "source": [
    "para clasificar los estímulos solicitados:"
   ]
  },
  {
   "cell_type": "code",
   "execution_count": 296,
   "metadata": {},
   "outputs": [
    {
     "name": "stdout",
     "output_type": "stream",
     "text": [
      "[[0.980936 0.019064 0.      ]]\n",
      "[[0.98 0.02 0.  ]]\n",
      "[[3.22145137e-09 6.30947763e-03 9.93690519e-01]]\n"
     ]
    }
   ],
   "source": [
    "v1 = np.array([[5.97],[4.20],[1.23],[0.25]])\n",
    "v2 = np.array([[6.80],[5.00],[1.25],[1.20]])\n",
    "v3 = np.array([[12.50],[9.20],[40.32],[21.55]])\n",
    "\n",
    "p1 = predict(wh, wo, tanh, softmax, v1)\n",
    "p2 = predict(wh, wo, tanh, softmax, v2)\n",
    "p3 = predict(wh, wo, tanh, softmax, v3)\n",
    "\n",
    "print(np.round_(p1, decimals = 7))\n",
    "print(np.round_(p2, decimals = 7))\n",
    "print(p3)"
   ]
  },
  {
   "cell_type": "code",
   "execution_count": null,
   "metadata": {},
   "outputs": [],
   "source": []
  }
 ],
 "metadata": {
  "kernelspec": {
   "display_name": "Python 3",
   "language": "python",
   "name": "python3"
  },
  "language_info": {
   "codemirror_mode": {
    "name": "ipython",
    "version": 3
   },
   "file_extension": ".py",
   "mimetype": "text/x-python",
   "name": "python",
   "nbconvert_exporter": "python",
   "pygments_lexer": "ipython3",
   "version": "3.8.2"
  }
 },
 "nbformat": 4,
 "nbformat_minor": 4
}
